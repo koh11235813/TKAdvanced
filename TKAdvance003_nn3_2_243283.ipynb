{
 "cells": [
  {
   "cell_type": "markdown",
   "metadata": {
    "id": "9acRIqWsqkel"
   },
   "source": [
    "# ニューラルネットワークの実装 1 （分類）\n",
    "\n",
    "本章では、数学の章で学んだニューラルネットワークの実装をオープンソースフレームワークである **TensorFlow** を使ってを行います。  "
   ]
  },
  {
   "cell_type": "markdown",
   "metadata": {
    "id": "RB_H52dN1Hap"
   },
   "source": [
    "## 本章の構成\n",
    "\n",
    "- TensorFlow の基礎\n",
    "- TensorFlow による分類モデルの学習\n",
    "- 学習済みモデルの保存と推論"
   ]
  },
  {
   "cell_type": "markdown",
   "metadata": {
    "id": "KcbUTK1N1J0C"
   },
   "source": [
    "## TensorFlow の基礎\n",
    "\n",
    "![TensorFlow](http://drive.google.com/uc?export=view&id=1Bnf_KGHYGRGzlirq6WHP_T2VQZ0ACM9J)\n",
    "\n",
    "*TensorFlow, the TensorFlow logo and any related marks are trademarks of Google Inc.*\n",
    "\n",
    "[TensorFlow](https://www.tensorflow.org/) とは、Google 社開発している機械学習のためのエンドツーエンドのオープンソースプラットフォームです。ソースコードは[こちら](https://github.com/tensorflow/tensorflow)から確認することができます。    \n",
    "\n",
    "### TensorFlow の特徴\n",
    "\n",
    "TensorFlow の特徴には下記の 3 点が挙げられます。  \n",
    "\n",
    "- 初心者にも使いやすいインターフェースで作られている\n",
    "- ユーザー数が多いため、世界中の人からの情報が集まるコミュニティがある\n",
    "- エッジデバイスへの連携や分散処理、学習可視化ソフトなどモデル作成以外の部分も包括的なエコシステムがある\n",
    "\n",
    "こういった理由からも、初学者にとっておすすめのフレームワークになります。まずは TensorFlow で大枠を掴んだあとに PyTorch などの他のフレームワークを使用することをおすすめします。    \n",
    "\n",
    "\n",
    "### Keras とは\n",
    "\n",
    "[Keras](https://www.tensorflow.org/guide/keras) とは TensorFlow でディープラーニングのモデルの構築及び学習を行うことが可能な高レベルな API です。Keras には大きく 3 種類の API （実装方法）が存在します。  \n",
    "\n",
    "- [Sequential API](https://www.tensorflow.org/api_docs/python/tf/keras/Sequential)\n",
    "- [Functional API](https://www.tensorflow.org/guide/keras/functional)\n",
    "- [Subclassing API](https://www.tensorflow.org/guide/keras/custom_layers_and_models)\n",
    "\n",
    "Sequential API は比較的単純なモデルの構築を簡単かつ、短いコードで実装を行うことが可能です。本講座では、主にこの Sequetial API を用いてディープラーニングのモデルの構築を行います。  \n",
    "Functional API や Subclassing API を使うと、複雑なモデルの構築も可能です。  "
   ]
  },
  {
   "cell_type": "markdown",
   "metadata": {
    "id": "Agl8tSFrVKpP"
   },
   "source": [
    "### TensorFlow の読み込み\n",
    "\n",
    "TensorFlow は Google Colaboratory 上で既にインストールされているため、そのまま読み込む事が可能です。TensorFlow は読み込む際に `tf` として省略することが慣例になっています。  \n",
    "\n",
    "また、Colab ではデフォルトではバージョン 1.x 系が読み込まれる設定となっています。2020 年 2 月現在では 2.1.0 が最新となっており、2.x 系がこれからのデフォルトに変わっていきますので本講座では 2.x 系を使っていきます。  "
   ]
  },
  {
   "cell_type": "code",
   "execution_count": 41,
   "metadata": {
    "executionInfo": {
     "elapsed": 5,
     "status": "ok",
     "timestamp": 1748069443915,
     "user": {
      "displayName": "Yamakawa Kohsuke",
      "userId": "01012167664541397279"
     },
     "user_tz": -540
    },
    "id": "1mkXaJ7L1otL"
   },
   "outputs": [],
   "source": [
    "# ライブラリの読み込み\n",
    "import tensorflow as tf"
   ]
  },
  {
   "cell_type": "code",
   "execution_count": 42,
   "metadata": {
    "colab": {
     "base_uri": "https://localhost:8080/"
    },
    "executionInfo": {
     "elapsed": 28,
     "status": "ok",
     "timestamp": 1748069443950,
     "user": {
      "displayName": "Yamakawa Kohsuke",
      "userId": "01012167664541397279"
     },
     "user_tz": -540
    },
    "id": "s94q4cXP2p4g",
    "outputId": "4e6f8619-1538-4847-c139-af66eb157d63"
   },
   "outputs": [
    {
     "name": "stdout",
     "output_type": "stream",
     "text": [
      "2.19.0\n"
     ]
    }
   ],
   "source": [
    "#　バージョンの確認\n",
    "print(tf.__version__)"
   ]
  },
  {
   "cell_type": "markdown",
   "metadata": {
    "id": "JOzFUX_u3nGh"
   },
   "source": [
    "TensorFlow を扱っていく上で、モデル構築には TensorFlow 内部に組み込まれている Keras を使用して実装を行っていきます。  "
   ]
  },
  {
   "cell_type": "markdown",
   "metadata": {
    "id": "sBaAVvGIdyPp"
   },
   "source": [
    "## TensorFlow による分類モデルの学習\n",
    "\n",
    "ニューラルネットワークのモデル構築・学習を行います。流れは下記の 5 点を意識します。  \n",
    "\n",
    "1. データセットの準備\n",
    "2. ネットワークの構築\n",
    "3. 目的関数・最適化手法の選択\n",
    "4. ネットワークの学習\n",
    "5. 予測精度の評価"
   ]
  },
  {
   "cell_type": "markdown",
   "metadata": {
    "id": "fyF4ATKhMh37"
   },
   "source": [
    "### データセットの準備\n",
    "\n",
    "今回は scikit-learn に準備されている[乳がんに関するデータセット](https://goo.gl/U2Uwz2)を用い、クラス分類を通して実装方法を学びます。  \n",
    "今回使用するデータセットの目的変数には、乳がんが陽性 (0)　もしくは、陰性 (1) の 2 種類の値を持ちます。また、入力変数には乳がんの検査で採取された細胞に関する情報を持ちます。  \n",
    "\n",
    "入力変数の詳細に関しては[こちら](https://goo.gl/U2Uwz2)を参照して下さい。\n",
    "\n",
    "（scikit-learn ではデータ取得時に NumPy の ndarray オブジェクトでデータが保存されていますが、今回 csv ファイルから読み込んだデータを学習に使用することを想定し、一度 Pandas の DataFrame オブジェクトに変換してから実装を行います。）"
   ]
  },
  {
   "cell_type": "code",
   "execution_count": 43,
   "metadata": {
    "executionInfo": {
     "elapsed": 14,
     "status": "ok",
     "timestamp": 1748069443957,
     "user": {
      "displayName": "Yamakawa Kohsuke",
      "userId": "01012167664541397279"
     },
     "user_tz": -540
    },
    "id": "Yrgfy-Kc4X8L"
   },
   "outputs": [],
   "source": [
    "import numpy as np\n",
    "import pandas as pd\n",
    "import matplotlib.pyplot as plt\n",
    "from sklearn.datasets import load_breast_cancer"
   ]
  },
  {
   "cell_type": "code",
   "execution_count": 44,
   "metadata": {
    "executionInfo": {
     "elapsed": 7,
     "status": "ok",
     "timestamp": 1748069443959,
     "user": {
      "displayName": "Yamakawa Kohsuke",
      "userId": "01012167664541397279"
     },
     "user_tz": -540
    },
    "id": "Zwk57ouDYBUO"
   },
   "outputs": [],
   "source": [
    "# データセットの読み込み\n",
    "dataset = load_breast_cancer()\n",
    "colms_name = dataset.feature_names\n",
    "x = dataset.data\n",
    "t = dataset.target"
   ]
  },
  {
   "cell_type": "code",
   "execution_count": 45,
   "metadata": {
    "colab": {
     "base_uri": "https://localhost:8080/",
     "height": 228
    },
    "executionInfo": {
     "elapsed": 7,
     "status": "ok",
     "timestamp": 1748069443968,
     "user": {
      "displayName": "Yamakawa Kohsuke",
      "userId": "01012167664541397279"
     },
     "user_tz": -540
    },
    "id": "kGDUrny-Xpji",
    "outputId": "03823a57-daa9-4ab5-e9c9-2940282c14b7"
   },
   "outputs": [
    {
     "data": {
      "text/html": [
       "<div>\n",
       "<style scoped>\n",
       "    .dataframe tbody tr th:only-of-type {\n",
       "        vertical-align: middle;\n",
       "    }\n",
       "\n",
       "    .dataframe tbody tr th {\n",
       "        vertical-align: top;\n",
       "    }\n",
       "\n",
       "    .dataframe thead th {\n",
       "        text-align: right;\n",
       "    }\n",
       "</style>\n",
       "<table border=\"1\" class=\"dataframe\">\n",
       "  <thead>\n",
       "    <tr style=\"text-align: right;\">\n",
       "      <th></th>\n",
       "      <th>mean radius</th>\n",
       "      <th>mean texture</th>\n",
       "      <th>mean perimeter</th>\n",
       "      <th>mean area</th>\n",
       "      <th>mean smoothness</th>\n",
       "      <th>mean compactness</th>\n",
       "      <th>mean concavity</th>\n",
       "      <th>mean concave points</th>\n",
       "      <th>mean symmetry</th>\n",
       "      <th>mean fractal dimension</th>\n",
       "      <th>...</th>\n",
       "      <th>worst texture</th>\n",
       "      <th>worst perimeter</th>\n",
       "      <th>worst area</th>\n",
       "      <th>worst smoothness</th>\n",
       "      <th>worst compactness</th>\n",
       "      <th>worst concavity</th>\n",
       "      <th>worst concave points</th>\n",
       "      <th>worst symmetry</th>\n",
       "      <th>worst fractal dimension</th>\n",
       "      <th>Target</th>\n",
       "    </tr>\n",
       "  </thead>\n",
       "  <tbody>\n",
       "    <tr>\n",
       "      <th>0</th>\n",
       "      <td>17.99</td>\n",
       "      <td>10.38</td>\n",
       "      <td>122.8</td>\n",
       "      <td>1001.0</td>\n",
       "      <td>0.11840</td>\n",
       "      <td>0.27760</td>\n",
       "      <td>0.3001</td>\n",
       "      <td>0.14710</td>\n",
       "      <td>0.2419</td>\n",
       "      <td>0.07871</td>\n",
       "      <td>...</td>\n",
       "      <td>17.33</td>\n",
       "      <td>184.6</td>\n",
       "      <td>2019.0</td>\n",
       "      <td>0.1622</td>\n",
       "      <td>0.6656</td>\n",
       "      <td>0.7119</td>\n",
       "      <td>0.2654</td>\n",
       "      <td>0.4601</td>\n",
       "      <td>0.11890</td>\n",
       "      <td>0</td>\n",
       "    </tr>\n",
       "    <tr>\n",
       "      <th>1</th>\n",
       "      <td>20.57</td>\n",
       "      <td>17.77</td>\n",
       "      <td>132.9</td>\n",
       "      <td>1326.0</td>\n",
       "      <td>0.08474</td>\n",
       "      <td>0.07864</td>\n",
       "      <td>0.0869</td>\n",
       "      <td>0.07017</td>\n",
       "      <td>0.1812</td>\n",
       "      <td>0.05667</td>\n",
       "      <td>...</td>\n",
       "      <td>23.41</td>\n",
       "      <td>158.8</td>\n",
       "      <td>1956.0</td>\n",
       "      <td>0.1238</td>\n",
       "      <td>0.1866</td>\n",
       "      <td>0.2416</td>\n",
       "      <td>0.1860</td>\n",
       "      <td>0.2750</td>\n",
       "      <td>0.08902</td>\n",
       "      <td>0</td>\n",
       "    </tr>\n",
       "    <tr>\n",
       "      <th>2</th>\n",
       "      <td>19.69</td>\n",
       "      <td>21.25</td>\n",
       "      <td>130.0</td>\n",
       "      <td>1203.0</td>\n",
       "      <td>0.10960</td>\n",
       "      <td>0.15990</td>\n",
       "      <td>0.1974</td>\n",
       "      <td>0.12790</td>\n",
       "      <td>0.2069</td>\n",
       "      <td>0.05999</td>\n",
       "      <td>...</td>\n",
       "      <td>25.53</td>\n",
       "      <td>152.5</td>\n",
       "      <td>1709.0</td>\n",
       "      <td>0.1444</td>\n",
       "      <td>0.4245</td>\n",
       "      <td>0.4504</td>\n",
       "      <td>0.2430</td>\n",
       "      <td>0.3613</td>\n",
       "      <td>0.08758</td>\n",
       "      <td>0</td>\n",
       "    </tr>\n",
       "  </tbody>\n",
       "</table>\n",
       "<p>3 rows × 31 columns</p>\n",
       "</div>"
      ],
      "text/plain": [
       "   mean radius  mean texture  mean perimeter  mean area  mean smoothness  \\\n",
       "0        17.99         10.38           122.8     1001.0          0.11840   \n",
       "1        20.57         17.77           132.9     1326.0          0.08474   \n",
       "2        19.69         21.25           130.0     1203.0          0.10960   \n",
       "\n",
       "   mean compactness  mean concavity  mean concave points  mean symmetry  \\\n",
       "0           0.27760          0.3001              0.14710         0.2419   \n",
       "1           0.07864          0.0869              0.07017         0.1812   \n",
       "2           0.15990          0.1974              0.12790         0.2069   \n",
       "\n",
       "   mean fractal dimension  ...  worst texture  worst perimeter  worst area  \\\n",
       "0                 0.07871  ...          17.33            184.6      2019.0   \n",
       "1                 0.05667  ...          23.41            158.8      1956.0   \n",
       "2                 0.05999  ...          25.53            152.5      1709.0   \n",
       "\n",
       "   worst smoothness  worst compactness  worst concavity  worst concave points  \\\n",
       "0            0.1622             0.6656           0.7119                0.2654   \n",
       "1            0.1238             0.1866           0.2416                0.1860   \n",
       "2            0.1444             0.4245           0.4504                0.2430   \n",
       "\n",
       "   worst symmetry  worst fractal dimension  Target  \n",
       "0          0.4601                  0.11890       0  \n",
       "1          0.2750                  0.08902       0  \n",
       "2          0.3613                  0.08758       0  \n",
       "\n",
       "[3 rows x 31 columns]"
      ]
     },
     "execution_count": 100,
     "metadata": {},
     "output_type": "execute_result"
    }
   ],
   "source": [
    "# 読み込んだデータセットをデータフレームに変換\n",
    "df = pd.DataFrame(data=x, columns=colms_name)\n",
    "df['Target'] = t\n",
    "df.head(3)"
   ]
  },
  {
   "cell_type": "markdown",
   "metadata": {
    "id": "BgqglZpwlhSD"
   },
   "source": [
    "Target の列が目的変数、その他の列を入力変数とし、乳がんが陽性 / 陰性の 2 値の分類を行います。  \n",
    "データセットの中身を簡単に確認しておきます。  "
   ]
  },
  {
   "cell_type": "code",
   "execution_count": 46,
   "metadata": {
    "colab": {
     "base_uri": "https://localhost:8080/"
    },
    "executionInfo": {
     "elapsed": 33,
     "status": "ok",
     "timestamp": 1748069444005,
     "user": {
      "displayName": "Yamakawa Kohsuke",
      "userId": "01012167664541397279"
     },
     "user_tz": -540
    },
    "id": "Ud3PSxI6tIO6",
    "outputId": "bebd98a3-b032-4df9-cebb-2b9c7fd06209"
   },
   "outputs": [
    {
     "data": {
      "text/plain": [
       "(569, 31)"
      ]
     },
     "execution_count": 101,
     "metadata": {},
     "output_type": "execute_result"
    }
   ],
   "source": [
    "# サンプル数（行数）、入力・目的変数の数（列数）の確認\n",
    "df.shape"
   ]
  },
  {
   "cell_type": "markdown",
   "metadata": {
    "id": "1JbAqxEQu43J"
   },
   "source": [
    "今回はサンプル数が 569 、入力変数が 30 、目的変数の数が 1 であることが確認できます。  \n",
    "この**入力変数の数はニューラルネットワークの入力層のノードの数となります。**"
   ]
  },
  {
   "cell_type": "code",
   "execution_count": 47,
   "metadata": {
    "colab": {
     "base_uri": "https://localhost:8080/"
    },
    "executionInfo": {
     "elapsed": 9,
     "status": "ok",
     "timestamp": 1748069444018,
     "user": {
      "displayName": "Yamakawa Kohsuke",
      "userId": "01012167664541397279"
     },
     "user_tz": -540
    },
    "id": "9rHpbBLStNjv",
    "outputId": "aa89cf3b-3116-492a-e54b-b32781b9fe5a"
   },
   "outputs": [
    {
     "data": {
      "text/plain": [
       "array([0, 1])"
      ]
     },
     "execution_count": 102,
     "metadata": {},
     "output_type": "execute_result"
    }
   ],
   "source": [
    "# 分類するクラスの種類の確認\n",
    "df['Target'].unique()"
   ]
  },
  {
   "cell_type": "markdown",
   "metadata": {
    "id": "5GyO2CsfvHOV"
   },
   "source": [
    "目的変数の種類は 0 ~ 1 の 2 種類が存在します。このようにまずデータセットの全体像を理解する癖を付けるようにしておきましょう。  \n",
    "\n",
    "**2 種類の分類になるため、ニューラルネットワークの出力層のノードの数は 2 になります。**"
   ]
  },
  {
   "cell_type": "markdown",
   "metadata": {
    "id": "wFQlfdwBviIt"
   },
   "source": [
    "#### 入力変数と目的変数の切り分け\n",
    "\n",
    "TensorFlow を用いて、ニューラルネットワークの学習を実装する際も scikit-learn を用いての機械学習アルゴリズムの実装と同様にデータセットの入力変数と目的変数の切り分けを行う必要があります。"
   ]
  },
  {
   "cell_type": "code",
   "execution_count": 48,
   "metadata": {
    "executionInfo": {
     "elapsed": 2,
     "status": "ok",
     "timestamp": 1748069444024,
     "user": {
      "displayName": "Yamakawa Kohsuke",
      "userId": "01012167664541397279"
     },
     "user_tz": -540
    },
    "id": "1PNYeOYUln-2"
   },
   "outputs": [],
   "source": [
    "# 入力変数（Target 列以外の列を取得）\n",
    "x = df.drop('Target', axis=1)\n",
    "\n",
    "# 目的変数（Target の列のみを取得）\n",
    "t = df['Target']"
   ]
  },
  {
   "cell_type": "markdown",
   "metadata": {
    "id": "TnUj0WN8sje5"
   },
   "source": [
    "正しく切り分けられているかデータの中身を表示して確認しておきます。"
   ]
  },
  {
   "cell_type": "code",
   "execution_count": 49,
   "metadata": {
    "colab": {
     "base_uri": "https://localhost:8080/",
     "height": 228
    },
    "executionInfo": {
     "elapsed": 38,
     "status": "ok",
     "timestamp": 1748069444066,
     "user": {
      "displayName": "Yamakawa Kohsuke",
      "userId": "01012167664541397279"
     },
     "user_tz": -540
    },
    "id": "FXlT9bDkvMK5",
    "outputId": "773aab21-2184-4206-dc7c-88c76a4e0dcc"
   },
   "outputs": [
    {
     "data": {
      "text/html": [
       "<div>\n",
       "<style scoped>\n",
       "    .dataframe tbody tr th:only-of-type {\n",
       "        vertical-align: middle;\n",
       "    }\n",
       "\n",
       "    .dataframe tbody tr th {\n",
       "        vertical-align: top;\n",
       "    }\n",
       "\n",
       "    .dataframe thead th {\n",
       "        text-align: right;\n",
       "    }\n",
       "</style>\n",
       "<table border=\"1\" class=\"dataframe\">\n",
       "  <thead>\n",
       "    <tr style=\"text-align: right;\">\n",
       "      <th></th>\n",
       "      <th>mean radius</th>\n",
       "      <th>mean texture</th>\n",
       "      <th>mean perimeter</th>\n",
       "      <th>mean area</th>\n",
       "      <th>mean smoothness</th>\n",
       "      <th>mean compactness</th>\n",
       "      <th>mean concavity</th>\n",
       "      <th>mean concave points</th>\n",
       "      <th>mean symmetry</th>\n",
       "      <th>mean fractal dimension</th>\n",
       "      <th>...</th>\n",
       "      <th>worst radius</th>\n",
       "      <th>worst texture</th>\n",
       "      <th>worst perimeter</th>\n",
       "      <th>worst area</th>\n",
       "      <th>worst smoothness</th>\n",
       "      <th>worst compactness</th>\n",
       "      <th>worst concavity</th>\n",
       "      <th>worst concave points</th>\n",
       "      <th>worst symmetry</th>\n",
       "      <th>worst fractal dimension</th>\n",
       "    </tr>\n",
       "  </thead>\n",
       "  <tbody>\n",
       "    <tr>\n",
       "      <th>0</th>\n",
       "      <td>17.99</td>\n",
       "      <td>10.38</td>\n",
       "      <td>122.8</td>\n",
       "      <td>1001.0</td>\n",
       "      <td>0.11840</td>\n",
       "      <td>0.27760</td>\n",
       "      <td>0.3001</td>\n",
       "      <td>0.14710</td>\n",
       "      <td>0.2419</td>\n",
       "      <td>0.07871</td>\n",
       "      <td>...</td>\n",
       "      <td>25.38</td>\n",
       "      <td>17.33</td>\n",
       "      <td>184.6</td>\n",
       "      <td>2019.0</td>\n",
       "      <td>0.1622</td>\n",
       "      <td>0.6656</td>\n",
       "      <td>0.7119</td>\n",
       "      <td>0.2654</td>\n",
       "      <td>0.4601</td>\n",
       "      <td>0.11890</td>\n",
       "    </tr>\n",
       "    <tr>\n",
       "      <th>1</th>\n",
       "      <td>20.57</td>\n",
       "      <td>17.77</td>\n",
       "      <td>132.9</td>\n",
       "      <td>1326.0</td>\n",
       "      <td>0.08474</td>\n",
       "      <td>0.07864</td>\n",
       "      <td>0.0869</td>\n",
       "      <td>0.07017</td>\n",
       "      <td>0.1812</td>\n",
       "      <td>0.05667</td>\n",
       "      <td>...</td>\n",
       "      <td>24.99</td>\n",
       "      <td>23.41</td>\n",
       "      <td>158.8</td>\n",
       "      <td>1956.0</td>\n",
       "      <td>0.1238</td>\n",
       "      <td>0.1866</td>\n",
       "      <td>0.2416</td>\n",
       "      <td>0.1860</td>\n",
       "      <td>0.2750</td>\n",
       "      <td>0.08902</td>\n",
       "    </tr>\n",
       "    <tr>\n",
       "      <th>2</th>\n",
       "      <td>19.69</td>\n",
       "      <td>21.25</td>\n",
       "      <td>130.0</td>\n",
       "      <td>1203.0</td>\n",
       "      <td>0.10960</td>\n",
       "      <td>0.15990</td>\n",
       "      <td>0.1974</td>\n",
       "      <td>0.12790</td>\n",
       "      <td>0.2069</td>\n",
       "      <td>0.05999</td>\n",
       "      <td>...</td>\n",
       "      <td>23.57</td>\n",
       "      <td>25.53</td>\n",
       "      <td>152.5</td>\n",
       "      <td>1709.0</td>\n",
       "      <td>0.1444</td>\n",
       "      <td>0.4245</td>\n",
       "      <td>0.4504</td>\n",
       "      <td>0.2430</td>\n",
       "      <td>0.3613</td>\n",
       "      <td>0.08758</td>\n",
       "    </tr>\n",
       "  </tbody>\n",
       "</table>\n",
       "<p>3 rows × 30 columns</p>\n",
       "</div>"
      ],
      "text/plain": [
       "   mean radius  mean texture  mean perimeter  mean area  mean smoothness  \\\n",
       "0        17.99         10.38           122.8     1001.0          0.11840   \n",
       "1        20.57         17.77           132.9     1326.0          0.08474   \n",
       "2        19.69         21.25           130.0     1203.0          0.10960   \n",
       "\n",
       "   mean compactness  mean concavity  mean concave points  mean symmetry  \\\n",
       "0           0.27760          0.3001              0.14710         0.2419   \n",
       "1           0.07864          0.0869              0.07017         0.1812   \n",
       "2           0.15990          0.1974              0.12790         0.2069   \n",
       "\n",
       "   mean fractal dimension  ...  worst radius  worst texture  worst perimeter  \\\n",
       "0                 0.07871  ...         25.38          17.33            184.6   \n",
       "1                 0.05667  ...         24.99          23.41            158.8   \n",
       "2                 0.05999  ...         23.57          25.53            152.5   \n",
       "\n",
       "   worst area  worst smoothness  worst compactness  worst concavity  \\\n",
       "0      2019.0            0.1622             0.6656           0.7119   \n",
       "1      1956.0            0.1238             0.1866           0.2416   \n",
       "2      1709.0            0.1444             0.4245           0.4504   \n",
       "\n",
       "   worst concave points  worst symmetry  worst fractal dimension  \n",
       "0                0.2654          0.4601                  0.11890  \n",
       "1                0.1860          0.2750                  0.08902  \n",
       "2                0.2430          0.3613                  0.08758  \n",
       "\n",
       "[3 rows x 30 columns]"
      ]
     },
     "execution_count": 104,
     "metadata": {},
     "output_type": "execute_result"
    }
   ],
   "source": [
    "x.head(3)"
   ]
  },
  {
   "cell_type": "markdown",
   "metadata": {
    "id": "Cak4uvoEv7VL"
   },
   "source": [
    "#### TensorFlow で計算できるデータの形式に変換\n",
    "\n",
    "TensorFlow で計算を行うためには、下記の 2 点を満たしている必要があります。こちらが指定された形式となっていない場合、学習の際にエラーが出てしまいます。  \n",
    "\n",
    "- 入力変数や目的変数が NumPy の ndarray オブジェクトである\n",
    "- 分類の場合、ラベルの最小値が 0 である"
   ]
  },
  {
   "cell_type": "markdown",
   "metadata": {
    "id": "9bk9XFK3wm9z"
   },
   "source": [
    "**NumPy の ndarray オブジェクトの取得**\n",
    "\n",
    "まずは、切り出したデータセットの型を確認しましょう。  "
   ]
  },
  {
   "cell_type": "code",
   "execution_count": 50,
   "metadata": {
    "colab": {
     "base_uri": "https://localhost:8080/",
     "height": 204
    },
    "executionInfo": {
     "elapsed": 344,
     "status": "ok",
     "timestamp": 1748069444386,
     "user": {
      "displayName": "Yamakawa Kohsuke",
      "userId": "01012167664541397279"
     },
     "user_tz": -540
    },
    "id": "4tYvLqQqwy90",
    "outputId": "db2b085a-118e-4d8e-c9ef-dff14327a8b1"
   },
   "outputs": [
    {
     "data": {
      "text/plain": [
       "pandas.core.frame.DataFrame"
      ]
     },
     "execution_count": 105,
     "metadata": {},
     "output_type": "execute_result"
    }
   ],
   "source": [
    "type(x)"
   ]
  },
  {
   "cell_type": "markdown",
   "metadata": {
    "id": "V-vPNbL9wepd"
   },
   "source": [
    "今回は Pandas でデータセットの読み込みを行ったため、Pandas の DataFrame オブジェクトであることが確認できます。  \n",
    "\n",
    "この DataFrame 型は　`.values`　という属性の中に NumPy の ndarray オブジェクトを持ちます。"
   ]
  },
  {
   "cell_type": "code",
   "execution_count": 51,
   "metadata": {
    "executionInfo": {
     "elapsed": 101,
     "status": "ok",
     "timestamp": 1748069444388,
     "user": {
      "displayName": "Yamakawa Kohsuke",
      "userId": "01012167664541397279"
     },
     "user_tz": -540
    },
    "id": "w0ndqaf-5Lgw"
   },
   "outputs": [],
   "source": [
    "x = x.values\n",
    "t = t.values"
   ]
  },
  {
   "cell_type": "code",
   "execution_count": 52,
   "metadata": {
    "colab": {
     "base_uri": "https://localhost:8080/"
    },
    "executionInfo": {
     "elapsed": 98,
     "status": "ok",
     "timestamp": 1748069444390,
     "user": {
      "displayName": "Yamakawa Kohsuke",
      "userId": "01012167664541397279"
     },
     "user_tz": -540
    },
    "id": "jMITy-aJxFEc",
    "outputId": "dea1c8ce-94b6-4de3-fdee-c936f1696f49"
   },
   "outputs": [
    {
     "data": {
      "text/plain": [
       "numpy.ndarray"
      ]
     },
     "execution_count": 107,
     "metadata": {},
     "output_type": "execute_result"
    }
   ],
   "source": [
    "type(x)"
   ]
  },
  {
   "cell_type": "markdown",
   "metadata": {
    "id": "T6KpS_qJ4LW7"
   },
   "source": [
    "TensorFlow の入力値のデータ型は `numpy.float32`、分類問題では目標値のデータ型は `numpy.int32` になっている事が一般的です。 データセットのデータ型の変更を行います。 numpy.ndarray は astype() メソッドを使ってデータ型を変更することができます。"
   ]
  },
  {
   "cell_type": "code",
   "execution_count": 53,
   "metadata": {
    "colab": {
     "base_uri": "https://localhost:8080/"
    },
    "executionInfo": {
     "elapsed": 14,
     "status": "ok",
     "timestamp": 1748069444391,
     "user": {
      "displayName": "Yamakawa Kohsuke",
      "userId": "01012167664541397279"
     },
     "user_tz": -540
    },
    "id": "9Sc9Xy9H5WOu",
    "outputId": "04146c07-9e29-4e21-97dc-13468572259f"
   },
   "outputs": [
    {
     "data": {
      "text/plain": [
       "dtype('float64')"
      ]
     },
     "execution_count": 108,
     "metadata": {},
     "output_type": "execute_result"
    }
   ],
   "source": [
    "x.dtype"
   ]
  },
  {
   "cell_type": "code",
   "execution_count": 54,
   "metadata": {
    "executionInfo": {
     "elapsed": 8,
     "status": "ok",
     "timestamp": 1748069444392,
     "user": {
      "displayName": "Yamakawa Kohsuke",
      "userId": "01012167664541397279"
     },
     "user_tz": -540
    },
    "id": "NpawtG5q5Y7e"
   },
   "outputs": [],
   "source": [
    "# それぞれのデータ型を変換\n",
    "x = x.astype('float32')\n",
    "t = t.astype('int32')"
   ]
  },
  {
   "cell_type": "code",
   "execution_count": 55,
   "metadata": {
    "colab": {
     "base_uri": "https://localhost:8080/"
    },
    "executionInfo": {
     "elapsed": 15,
     "status": "ok",
     "timestamp": 1748069444407,
     "user": {
      "displayName": "Yamakawa Kohsuke",
      "userId": "01012167664541397279"
     },
     "user_tz": -540
    },
    "id": "NTAFBe4D5fNL",
    "outputId": "c7182a57-570b-450d-9f8a-786ed0757932"
   },
   "outputs": [
    {
     "data": {
      "text/plain": [
       "(dtype('float32'), dtype('int32'))"
      ]
     },
     "execution_count": 110,
     "metadata": {},
     "output_type": "execute_result"
    }
   ],
   "source": [
    "x.dtype, t.dtype"
   ]
  },
  {
   "cell_type": "markdown",
   "metadata": {
    "id": "i3NgOLMcxGSl"
   },
   "source": [
    "**分類の場合、ラベルの最小値が 0 である**\n",
    "\n",
    "ラベルの最小値が 0 になっているかは、NumPy の `unique` 関数を用いると重複のないユニーク（固有）の値を取り出す事ができます。  "
   ]
  },
  {
   "cell_type": "code",
   "execution_count": 56,
   "metadata": {
    "colab": {
     "base_uri": "https://localhost:8080/"
    },
    "executionInfo": {
     "elapsed": 7,
     "status": "ok",
     "timestamp": 1748069444416,
     "user": {
      "displayName": "Yamakawa Kohsuke",
      "userId": "01012167664541397279"
     },
     "user_tz": -540
    },
    "id": "qOBYwm4Iyddb",
    "outputId": "7de51bf4-2317-43ba-f08b-d3904c64558e"
   },
   "outputs": [
    {
     "data": {
      "text/plain": [
       "array([0, 1], dtype=int32)"
      ]
     },
     "execution_count": 111,
     "metadata": {},
     "output_type": "execute_result"
    }
   ],
   "source": [
    "np.unique(t)"
   ]
  },
  {
   "cell_type": "markdown",
   "metadata": {
    "id": "dTHbXH1zyfYF"
   },
   "source": [
    "今回はラベルが 0 から始まっているので特に変更を加える必要がありません。  \n",
    "\n",
    "実際には、ラベルが製品名などでついている場合が多いでしょう。その場合は、ラベルを 0 から順につけて行きかつ、そのラベルと製品名が一致するようにデータセットの準備を行う必要があります。  \n",
    "\n",
    "これでニューラルネットワークの学習に使用するためのデータセットの準備が整いました。最後にそれぞれのデータセットの中身を確認します。"
   ]
  },
  {
   "cell_type": "code",
   "execution_count": 57,
   "metadata": {
    "colab": {
     "base_uri": "https://localhost:8080/"
    },
    "executionInfo": {
     "elapsed": 7,
     "status": "ok",
     "timestamp": 1748069444425,
     "user": {
      "displayName": "Yamakawa Kohsuke",
      "userId": "01012167664541397279"
     },
     "user_tz": -540
    },
    "id": "_pTLPnfezOz1",
    "outputId": "323e4724-a273-4c63-f961-d194b39f8d68"
   },
   "outputs": [
    {
     "data": {
      "text/plain": [
       "(array([0, 0, 0, 0, 0, 0, 0, 0, 0, 0], dtype=int32), numpy.ndarray)"
      ]
     },
     "execution_count": 112,
     "metadata": {},
     "output_type": "execute_result"
    }
   ],
   "source": [
    "t[:10], type(t)"
   ]
  },
  {
   "cell_type": "code",
   "execution_count": 58,
   "metadata": {
    "colab": {
     "base_uri": "https://localhost:8080/"
    },
    "executionInfo": {
     "elapsed": 7,
     "status": "ok",
     "timestamp": 1748069444432,
     "user": {
      "displayName": "Yamakawa Kohsuke",
      "userId": "01012167664541397279"
     },
     "user_tz": -540
    },
    "id": "TOj19w3izQ2v",
    "outputId": "c835e286-9c16-443f-b7d7-f436632d1071"
   },
   "outputs": [
    {
     "data": {
      "text/plain": [
       "(array([[1.799e+01, 1.038e+01, 1.228e+02, 1.001e+03, 1.184e-01, 2.776e-01,\n",
       "         3.001e-01, 1.471e-01, 2.419e-01, 7.871e-02, 1.095e+00, 9.053e-01,\n",
       "         8.589e+00, 1.534e+02, 6.399e-03, 4.904e-02, 5.373e-02, 1.587e-02,\n",
       "         3.003e-02, 6.193e-03, 2.538e+01, 1.733e+01, 1.846e+02, 2.019e+03,\n",
       "         1.622e-01, 6.656e-01, 7.119e-01, 2.654e-01, 4.601e-01, 1.189e-01],\n",
       "        [2.057e+01, 1.777e+01, 1.329e+02, 1.326e+03, 8.474e-02, 7.864e-02,\n",
       "         8.690e-02, 7.017e-02, 1.812e-01, 5.667e-02, 5.435e-01, 7.339e-01,\n",
       "         3.398e+00, 7.408e+01, 5.225e-03, 1.308e-02, 1.860e-02, 1.340e-02,\n",
       "         1.389e-02, 3.532e-03, 2.499e+01, 2.341e+01, 1.588e+02, 1.956e+03,\n",
       "         1.238e-01, 1.866e-01, 2.416e-01, 1.860e-01, 2.750e-01, 8.902e-02],\n",
       "        [1.969e+01, 2.125e+01, 1.300e+02, 1.203e+03, 1.096e-01, 1.599e-01,\n",
       "         1.974e-01, 1.279e-01, 2.069e-01, 5.999e-02, 7.456e-01, 7.869e-01,\n",
       "         4.585e+00, 9.403e+01, 6.150e-03, 4.006e-02, 3.832e-02, 2.058e-02,\n",
       "         2.250e-02, 4.571e-03, 2.357e+01, 2.553e+01, 1.525e+02, 1.709e+03,\n",
       "         1.444e-01, 4.245e-01, 4.504e-01, 2.430e-01, 3.613e-01, 8.758e-02],\n",
       "        [1.142e+01, 2.038e+01, 7.758e+01, 3.861e+02, 1.425e-01, 2.839e-01,\n",
       "         2.414e-01, 1.052e-01, 2.597e-01, 9.744e-02, 4.956e-01, 1.156e+00,\n",
       "         3.445e+00, 2.723e+01, 9.110e-03, 7.458e-02, 5.661e-02, 1.867e-02,\n",
       "         5.963e-02, 9.208e-03, 1.491e+01, 2.650e+01, 9.887e+01, 5.677e+02,\n",
       "         2.098e-01, 8.663e-01, 6.869e-01, 2.575e-01, 6.638e-01, 1.730e-01],\n",
       "        [2.029e+01, 1.434e+01, 1.351e+02, 1.297e+03, 1.003e-01, 1.328e-01,\n",
       "         1.980e-01, 1.043e-01, 1.809e-01, 5.883e-02, 7.572e-01, 7.813e-01,\n",
       "         5.438e+00, 9.444e+01, 1.149e-02, 2.461e-02, 5.688e-02, 1.885e-02,\n",
       "         1.756e-02, 5.115e-03, 2.254e+01, 1.667e+01, 1.522e+02, 1.575e+03,\n",
       "         1.374e-01, 2.050e-01, 4.000e-01, 1.625e-01, 2.364e-01, 7.678e-02]],\n",
       "       dtype=float32),\n",
       " numpy.ndarray)"
      ]
     },
     "execution_count": 113,
     "metadata": {},
     "output_type": "execute_result"
    }
   ],
   "source": [
    "x[:5], type(x)"
   ]
  },
  {
   "cell_type": "markdown",
   "metadata": {
    "id": "Qq-tTaTdzRth"
   },
   "source": [
    "#### 学習用データセットとテスト用データセットに分割\n",
    "\n",
    "基礎編で学んだように基本的に機械学習のモデルを学習させる際にはデータセットの分割を行う必要があります。分割するデータセットの種類を確認します。  \n",
    "\n",
    "| 名称                      | 使用目的                                                     |\n",
    "  | ------------------------------- | ------------------------------------------------------------ |\n",
    "  | 学習用データセット (train)      | モデルを学習させるためのデータセット                         |\n",
    "  | 検証用データセット (validation) | ハイパーパラメータの調整が適切なのか検証するためのデータセット |\n",
    "  | テスト用データセット (test)     | 学習済みモデルの性能を評価するためのデータセット             |\n",
    "\n",
    "実際には上記のように 3 種類のデータセットに分割することが望ましいですが、今回は学習用データセット (train) とテスト用データセット (test) の 2 つに分割を行い、ニューラルネットワークの学習・テストを行います。またこのようにデータセットの分割を行い検証を行う方法を[ホールドアウト法](https://ja.wikipedia.org/wiki/%E4%BA%A4%E5%B7%AE%E6%A4%9C%E8%A8%BC)と呼びました。  \n",
    "\n",
    "分割には scikit-learn に用意されている `model_selection.train_test_split` を使用します。今回は 学習用データセットを 70%、テスト用データセットを 30% とします。  \n",
    "\n",
    "ここで **再現性の確保** のために引数の `random_state` の値の設定を忘れないようにしましょう。"
   ]
  },
  {
   "cell_type": "code",
   "execution_count": 59,
   "metadata": {
    "executionInfo": {
     "elapsed": 2,
     "status": "ok",
     "timestamp": 1748069444436,
     "user": {
      "displayName": "Yamakawa Kohsuke",
      "userId": "01012167664541397279"
     },
     "user_tz": -540
    },
    "id": "Vj2eyqBDzm6c"
   },
   "outputs": [],
   "source": [
    "from sklearn.model_selection import train_test_split\n",
    "\n",
    "# 学習用データセットとテスト用データセットの分割\n",
    "x_train, x_test, t_train, t_test = train_test_split(x, t, train_size=0.7, random_state=0)"
   ]
  },
  {
   "cell_type": "markdown",
   "metadata": {
    "id": "SzIAYNtx359q"
   },
   "source": [
    "分割が完了した後は、それぞれのデータセットのサンプル数を確認し、正常に分割できていることを確認しましょう。"
   ]
  },
  {
   "cell_type": "code",
   "execution_count": 60,
   "metadata": {
    "colab": {
     "base_uri": "https://localhost:8080/"
    },
    "executionInfo": {
     "elapsed": 128,
     "status": "ok",
     "timestamp": 1748069444567,
     "user": {
      "displayName": "Yamakawa Kohsuke",
      "userId": "01012167664541397279"
     },
     "user_tz": -540
    },
    "id": "x4ZjsULo2Mqm",
    "outputId": "2e78e7a2-7f1a-4dd6-cb72-140d76532113"
   },
   "outputs": [
    {
     "data": {
      "text/plain": [
       "((398, 30), dtype('float32'), (171, 30), dtype('float32'))"
      ]
     },
     "execution_count": 115,
     "metadata": {},
     "output_type": "execute_result"
    }
   ],
   "source": [
    "x_train.shape, x_train.dtype, x_test.shape, x_test.dtype"
   ]
  },
  {
   "cell_type": "code",
   "execution_count": 61,
   "metadata": {
    "colab": {
     "base_uri": "https://localhost:8080/"
    },
    "executionInfo": {
     "elapsed": 5,
     "status": "ok",
     "timestamp": 1748069444575,
     "user": {
      "displayName": "Yamakawa Kohsuke",
      "userId": "01012167664541397279"
     },
     "user_tz": -540
    },
    "id": "i02JXEAr2Oqe",
    "outputId": "b9ef6d48-b537-401b-e8ec-d3a609e36fe3"
   },
   "outputs": [
    {
     "data": {
      "text/plain": [
       "((398,), dtype('int32'), (171,), dtype('int32'))"
      ]
     },
     "execution_count": 116,
     "metadata": {},
     "output_type": "execute_result"
    }
   ],
   "source": [
    "t_train.shape, t_train.dtype, t_test.shape, t_test.dtype"
   ]
  },
  {
   "cell_type": "markdown",
   "metadata": {
    "id": "Q6mCj1XD3iNb"
   },
   "source": [
    "### モデルの定義\n",
    "\n",
    "モデルの定義では、最もシンプルな `tf.keras.Sequential` クラスを使用します。使い方はシンプルで以下の通りです。  \n",
    "\n",
    "1. `Sequential()` でインスタンス化\n",
    "2. `layers.層の名前()` で層を定義し、 `add` メソッドでネットワークに追加\n",
    "\n",
    "この `tf.keras.layers.層の名前()` の部分で全結合層 (`Dense layer`) や活性化関数 (`Activation layer`)、バッチ正規化 (`BatchNormalization layer`) などを追加することができます。    \n",
    "\n",
    "モデルの定義の前に、乱数のシードの固定も行いましょう。Python 、`random` 関数、 `numpy` そして `tensorflow` それぞのシードの固定を行います。"
   ]
  },
  {
   "cell_type": "code",
   "execution_count": 62,
   "metadata": {
    "executionInfo": {
     "elapsed": 8,
     "status": "ok",
     "timestamp": 1748069444586,
     "user": {
      "displayName": "Yamakawa Kohsuke",
      "userId": "01012167664541397279"
     },
     "user_tz": -540
    },
    "id": "2pD6rI-2KutA"
   },
   "outputs": [],
   "source": [
    "import os, random\n",
    "\n",
    "def reset_seed(seed=0):\n",
    "    os.environ['PYTHONHASHSEED'] = '0'\n",
    "    random.seed(seed) # random関数のシードを固定\n",
    "    np.random.seed(seed) # numpyのシードを固定\n",
    "    tf.random.set_seed(seed) # tensorflowのシードを固定"
   ]
  },
  {
   "cell_type": "code",
   "execution_count": 63,
   "metadata": {
    "colab": {
     "base_uri": "https://localhost:8080/"
    },
    "executionInfo": {
     "elapsed": 57,
     "status": "ok",
     "timestamp": 1748069444646,
     "user": {
      "displayName": "Yamakawa Kohsuke",
      "userId": "01012167664541397279"
     },
     "user_tz": -540
    },
    "id": "FiG3tYZ-Q2Kt",
    "outputId": "7db2844a-6f92-47ea-cada-3f00e2391e53"
   },
   "outputs": [
    {
     "name": "stderr",
     "output_type": "stream",
     "text": [
      "/home/kinoko1943/development/github/TKAdvanced/.venv/lib/python3.12/site-packages/keras/src/layers/core/dense.py:93: UserWarning: Do not pass an `input_shape`/`input_dim` argument to a layer. When using Sequential models, prefer using an `Input(shape)` object as the first layer in the model instead.\n",
      "  super().__init__(activity_regularizer=activity_regularizer, **kwargs)\n"
     ]
    }
   ],
   "source": [
    "from tensorflow.keras import models,layers\n",
    "\n",
    "# シードの固定\n",
    "reset_seed(0)\n",
    "\n",
    "# モデルのインスタンス化\n",
    "model = models.Sequential()\n",
    "\n",
    "# モデルの定義（層の追加）\n",
    "model.add(layers.Dense(units=10, input_shape=(30,))) # 入力層\n",
    "model.add(layers.Activation('relu')) # 活性関数 (ReLU)\n",
    "model.add(layers.Dense(units=2, input_shape=(10,))) # 出力層\n",
    "model.add(layers.Activation('softmax')) # ソフトマックス関数（値を 0~1 に変換）"
   ]
  },
  {
   "cell_type": "markdown",
   "metadata": {
    "id": "JEqMZAVUFyuc"
   },
   "source": [
    "上記のコードでは下記のようなネットワークの構築を行っています。図を確認し、全体像を掴みましょう。    \n",
    "\n",
    "![定義したネットワークの構造](http://drive.google.com/uc?export=view&id=1k5Wxxhe-2h8cWjV1auKoL4XX05peXd9t)\n",
    "\n",
    "コードの詳細を確認します。  \n",
    "\n",
    "- `reset_seed(0)`\n",
    "  - 先程定義した関数を使用し、シードの固定を行います。ニューラルネットワークの重みはランダムに決定されるため、この乱数のシードを固定することにより再現性を確保します。  \n",
    "\n",
    "- `models.Sequential()` クラス\n",
    "  - Sequential モデルのインスタンス化を行います。ニューラルネットワークの定義を行うための箱を準備しているイメージを持つと理解しやすいです。インスタンス化したものを `model` という変数に格納しています。    \n",
    "\n",
    "- `add()` メソッド\n",
    "  - 全結合層や活性化関数の層の追加を行います。引数に後述の `layers` モジュールをとります。  \n",
    "\n",
    "- `layers.Dense()` クラス\n",
    "  - 全結合層の定義を行うことができます。`units` の引数は出力するノードの数を指定します。この値はハイパーパラメータに該当するため調整が必要な部分になります。  \n",
    "  - `input_shape` の引数では、入力のノード数を指定します。入力層では、入力変数の数を指定します。（引数はフレームワーク側で自動で算出される値になるため、指定は必須ではありません。）  \n",
    "その他の引数などに関してはこちらの[公式ドキュメント](https://www.tensorflow.org/api_docs/python/tf/keras/layers/Dense)を参照して下さい。\n",
    "\n",
    "- `layers.Activation()` クラス\n",
    "  - 活性化関数の定義を行うことができます。引数に活性化関数の名前を指定することで定義できます。指定可能な活性化関数の種類に関してはこちらの[公式ドキュメント](https://www.tensorflow.org/api_docs/python/tf/keras/activations)を参照して下さい。\n",
    "  - 今回は入力層から中間層の全結合層の後に ReLU 関数で非線形変換を行い、ネットワークの最後にソフトマックス関数を適用し、出力された値の合計が 1 になるように変換を行っています。  \n",
    "\n",
    "`layers` モジュールには様々な種類の層のクラスが存在します。詳細はこちらの[公式ドキュメント](https://www.tensorflow.org/api_docs/python/tf/keras/layers)を確認して下さい。  \n",
    "\n",
    "\n",
    "上記が基本的な書き方の 1 つですが、もう少し改善することができます。  \n",
    "活性化関数ですが、Activation 層で指定する代わりに、Dense 層の中の `activation` という引数で指定しても同じ結果が得られます。また入力変数の数は一番最初に指定した後は、フレームワーク側で吸収してくれるため入力をしなくても構いません。今回はノードの数を簡単に把握することができるため恩恵は少ないですが、画像処理向けのニューラルネットワークである CNN(Convolutional Neural Network) などではこの機能が活躍します。  \n",
    "\n",
    "また、入力層と出力層の値は問題設定（使用するデータセット）によって決定されるため、それぞれの値を変数に格納して使用します。"
   ]
  },
  {
   "cell_type": "code",
   "execution_count": 64,
   "metadata": {
    "colab": {
     "base_uri": "https://localhost:8080/"
    },
    "executionInfo": {
     "elapsed": 6,
     "status": "ok",
     "timestamp": 1748069444654,
     "user": {
      "displayName": "Yamakawa Kohsuke",
      "userId": "01012167664541397279"
     },
     "user_tz": -540
    },
    "id": "epGxvEpisE_3",
    "outputId": "e6234020-df8f-47ab-8fe1-030057fda5de"
   },
   "outputs": [
    {
     "data": {
      "text/plain": [
       "(30, 2)"
      ]
     },
     "execution_count": 119,
     "metadata": {},
     "output_type": "execute_result"
    }
   ],
   "source": [
    "# 入力・出力層のノードの数を定義\n",
    "n_input, n_output = len(x_train[0]), len(np.unique(t_train))\n",
    "n_input, n_output"
   ]
  },
  {
   "cell_type": "code",
   "execution_count": 65,
   "metadata": {
    "executionInfo": {
     "elapsed": 8,
     "status": "ok",
     "timestamp": 1748069444664,
     "user": {
      "displayName": "Yamakawa Kohsuke",
      "userId": "01012167664541397279"
     },
     "user_tz": -540
    },
    "id": "LxS4rm70Fypd"
   },
   "outputs": [],
   "source": [
    "# シードの固定\n",
    "reset_seed(0)\n",
    "\n",
    "# モデルのインスタンス化\n",
    "model = models.Sequential()\n",
    "\n",
    "# モデルの構築\n",
    "model.add(layers.Dense(10, activation='relu', input_shape=(n_input,)))\n",
    "model.add(layers.Dense(n_output, activation='softmax'))"
   ]
  },
  {
   "cell_type": "markdown",
   "metadata": {
    "id": "VhHh-QoUFyjn"
   },
   "source": [
    "#### モデルの可視化\n",
    "\n",
    "これでモデルの定義が完了しました。定義したモデルの確認を行います。`summary()` メソッドでモデル内の層やパラメータの数を確認することが可能です。  \n"
   ]
  },
  {
   "cell_type": "code",
   "execution_count": 66,
   "metadata": {
    "colab": {
     "base_uri": "https://localhost:8080/",
     "height": 199
    },
    "executionInfo": {
     "elapsed": 6,
     "status": "ok",
     "timestamp": 1748069444673,
     "user": {
      "displayName": "Yamakawa Kohsuke",
      "userId": "01012167664541397279"
     },
     "user_tz": -540
    },
    "id": "h-geXaZjFybv",
    "outputId": "037d9687-49db-4bc6-aadb-960a85fa3d90"
   },
   "outputs": [
    {
     "data": {
      "text/html": [
       "<pre style=\"white-space:pre;overflow-x:auto;line-height:normal;font-family:Menlo,'DejaVu Sans Mono',consolas,'Courier New',monospace\"><span style=\"font-weight: bold\">Model: \"sequential_7\"</span>\n",
       "</pre>\n"
      ],
      "text/plain": [
       "\u001b[1mModel: \"sequential_7\"\u001b[0m\n"
      ]
     },
     "metadata": {},
     "output_type": "display_data"
    },
    {
     "data": {
      "text/html": [
       "<pre style=\"white-space:pre;overflow-x:auto;line-height:normal;font-family:Menlo,'DejaVu Sans Mono',consolas,'Courier New',monospace\">┏━━━━━━━━━━━━━━━━━━━━━━━━━━━━━━━━━┳━━━━━━━━━━━━━━━━━━━━━━━━┳━━━━━━━━━━━━━━━┓\n",
       "┃<span style=\"font-weight: bold\"> Layer (type)                    </span>┃<span style=\"font-weight: bold\"> Output Shape           </span>┃<span style=\"font-weight: bold\">       Param # </span>┃\n",
       "┡━━━━━━━━━━━━━━━━━━━━━━━━━━━━━━━━━╇━━━━━━━━━━━━━━━━━━━━━━━━╇━━━━━━━━━━━━━━━┩\n",
       "│ dense_14 (<span style=\"color: #0087ff; text-decoration-color: #0087ff\">Dense</span>)                │ (<span style=\"color: #00d7ff; text-decoration-color: #00d7ff\">None</span>, <span style=\"color: #00af00; text-decoration-color: #00af00\">10</span>)             │           <span style=\"color: #00af00; text-decoration-color: #00af00\">310</span> │\n",
       "├─────────────────────────────────┼────────────────────────┼───────────────┤\n",
       "│ dense_15 (<span style=\"color: #0087ff; text-decoration-color: #0087ff\">Dense</span>)                │ (<span style=\"color: #00d7ff; text-decoration-color: #00d7ff\">None</span>, <span style=\"color: #00af00; text-decoration-color: #00af00\">2</span>)              │            <span style=\"color: #00af00; text-decoration-color: #00af00\">22</span> │\n",
       "└─────────────────────────────────┴────────────────────────┴───────────────┘\n",
       "</pre>\n"
      ],
      "text/plain": [
       "┏━━━━━━━━━━━━━━━━━━━━━━━━━━━━━━━━━┳━━━━━━━━━━━━━━━━━━━━━━━━┳━━━━━━━━━━━━━━━┓\n",
       "┃\u001b[1m \u001b[0m\u001b[1mLayer (type)                   \u001b[0m\u001b[1m \u001b[0m┃\u001b[1m \u001b[0m\u001b[1mOutput Shape          \u001b[0m\u001b[1m \u001b[0m┃\u001b[1m \u001b[0m\u001b[1m      Param #\u001b[0m\u001b[1m \u001b[0m┃\n",
       "┡━━━━━━━━━━━━━━━━━━━━━━━━━━━━━━━━━╇━━━━━━━━━━━━━━━━━━━━━━━━╇━━━━━━━━━━━━━━━┩\n",
       "│ dense_14 (\u001b[38;5;33mDense\u001b[0m)                │ (\u001b[38;5;45mNone\u001b[0m, \u001b[38;5;34m10\u001b[0m)             │           \u001b[38;5;34m310\u001b[0m │\n",
       "├─────────────────────────────────┼────────────────────────┼───────────────┤\n",
       "│ dense_15 (\u001b[38;5;33mDense\u001b[0m)                │ (\u001b[38;5;45mNone\u001b[0m, \u001b[38;5;34m2\u001b[0m)              │            \u001b[38;5;34m22\u001b[0m │\n",
       "└─────────────────────────────────┴────────────────────────┴───────────────┘\n"
      ]
     },
     "metadata": {},
     "output_type": "display_data"
    },
    {
     "data": {
      "text/html": [
       "<pre style=\"white-space:pre;overflow-x:auto;line-height:normal;font-family:Menlo,'DejaVu Sans Mono',consolas,'Courier New',monospace\"><span style=\"font-weight: bold\"> Total params: </span><span style=\"color: #00af00; text-decoration-color: #00af00\">332</span> (1.30 KB)\n",
       "</pre>\n"
      ],
      "text/plain": [
       "\u001b[1m Total params: \u001b[0m\u001b[38;5;34m332\u001b[0m (1.30 KB)\n"
      ]
     },
     "metadata": {},
     "output_type": "display_data"
    },
    {
     "data": {
      "text/html": [
       "<pre style=\"white-space:pre;overflow-x:auto;line-height:normal;font-family:Menlo,'DejaVu Sans Mono',consolas,'Courier New',monospace\"><span style=\"font-weight: bold\"> Trainable params: </span><span style=\"color: #00af00; text-decoration-color: #00af00\">332</span> (1.30 KB)\n",
       "</pre>\n"
      ],
      "text/plain": [
       "\u001b[1m Trainable params: \u001b[0m\u001b[38;5;34m332\u001b[0m (1.30 KB)\n"
      ]
     },
     "metadata": {},
     "output_type": "display_data"
    },
    {
     "data": {
      "text/html": [
       "<pre style=\"white-space:pre;overflow-x:auto;line-height:normal;font-family:Menlo,'DejaVu Sans Mono',consolas,'Courier New',monospace\"><span style=\"font-weight: bold\"> Non-trainable params: </span><span style=\"color: #00af00; text-decoration-color: #00af00\">0</span> (0.00 B)\n",
       "</pre>\n"
      ],
      "text/plain": [
       "\u001b[1m Non-trainable params: \u001b[0m\u001b[38;5;34m0\u001b[0m (0.00 B)\n"
      ]
     },
     "metadata": {},
     "output_type": "display_data"
    }
   ],
   "source": [
    "model.summary()"
   ]
  },
  {
   "cell_type": "markdown",
   "metadata": {
    "id": "vMZbq9a6IHV4"
   },
   "source": [
    "また、`plot_model` を使用することにより、順伝播の流れを可視化することが可能です。<sub>*注 1<sub>\n",
    "\n",
    "*注1 : 下記のコマンドは Google Colaboratory 上では正常に動作が確認されていますが、ローカル環境で実行する際には [pydot](https://pypi.org/project/pydot/) と [graphviz](https://pypi.org/project/graphviz/) というパッケージが必要になります。*  "
   ]
  },
  {
   "cell_type": "code",
   "execution_count": 67,
   "metadata": {
    "colab": {
     "base_uri": "https://localhost:8080/",
     "height": 389
    },
    "executionInfo": {
     "elapsed": 75,
     "status": "ok",
     "timestamp": 1748069444750,
     "user": {
      "displayName": "Yamakawa Kohsuke",
      "userId": "01012167664541397279"
     },
     "user_tz": -540
    },
    "id": "WzcDXgz7IH9K",
    "outputId": "190f49c8-b3b2-4fa3-98a7-3019178326bd"
   },
   "outputs": [
    {
     "name": "stdout",
     "output_type": "stream",
     "text": [
      "You must install pydot (`pip install pydot`) for `plot_model` to work.\n"
     ]
    }
   ],
   "source": [
    "from tensorflow.keras.utils import plot_model\n",
    "plot_model(model)"
   ]
  },
  {
   "cell_type": "markdown",
   "metadata": {
    "id": "eKyUFXPmQ2Kv"
   },
   "source": [
    "### 目的関数・最適化手法の選択\n",
    "\n",
    "学習の際に必要となる目的関数や最適化手法などの選択を行います。  \n",
    "それぞれ `model.compile` メソッドを用いて設定を行うことができます。引数を確認しましょう。\n",
    "\n",
    "- `optimizer` : 最適化手法の指定\n",
    "  - `'adam'` 、`'sgd'` などの最適化手法の名前の文字列を指定するか、`tf.keras.optimizers` 内のクラスのインスタンスを使用します。\n",
    "- `loss` : 目的関数の指定\n",
    "  - 回帰問題には平均ニ乗誤差 `MSE` (MeanSquaredError) 、分類問題には `SparseCategoricalCrossentropy` または、`BinaryCrossentropy` の文字列を指定するか、`tf.keras.losses` モジュール内のクラスを使用します。\n",
    "- `metrics`：学習中に監視する指標の指定\n",
    "  - 分類問題であれば、`accuracy` などの文字列を指定するか、`tf.keras.metrics` モジュール内のクラスを使用します。\n",
    "\n",
    "詳細の設定方法に関してはこちらの[公式ドキュメント](https://www.tensorflow.org/api_docs/python/tf/keras/Model#compile)を参照して下さい。\n",
    "\n",
    "今回は目的関数には 2 クラス分類のため、`SparseCategoricalCrossentropy` を使用し、 最適化手法に `SGD` を、監視する評価指標には `accuracy` として正解率を指定します。"
   ]
  },
  {
   "cell_type": "code",
   "execution_count": 68,
   "metadata": {
    "executionInfo": {
     "elapsed": 6,
     "status": "ok",
     "timestamp": 1748069444753,
     "user": {
      "displayName": "Yamakawa Kohsuke",
      "userId": "01012167664541397279"
     },
     "user_tz": -540
    },
    "id": "Qhpy0uCwQ2Kv"
   },
   "outputs": [],
   "source": [
    "# モデルのコンパイル\n",
    "model.compile(optimizer='sgd',\n",
    "               loss='sparse_categorical_crossentropy',\n",
    "               metrics=['accuracy'])"
   ]
  },
  {
   "cell_type": "markdown",
   "metadata": {
    "id": "5dRw7FXsYM0L"
   },
   "source": [
    "学習係数の設定を行う場合には、下記のように `tf.keras.optimizers` 内のクラスをインスタンス化して、ネットワークのコンパイル時に渡します。  \n",
    "\n",
    "```python\n",
    "\n",
    "optimizer = tf.keras.optimizers.SGD(learning_rate=0.001)\n",
    "\n",
    "model.compile(optimizer=optimizer,\n",
    "               loss='sparse_categorical_crossentropy',\n",
    "               metrics=['accuracy'])\n",
    "```\n"
   ]
  },
  {
   "cell_type": "markdown",
   "metadata": {
    "id": "knryxKqgYkVp"
   },
   "source": [
    "### モデルの学習\n",
    "\n",
    "モデルの構築、目的関数・最適化手法の指定、予測精度の評価方法などの学習の準備が整いました。  \n",
    "\n",
    "学習を実行するには `model.fit` メソッドを実行します。重要な引数は以下の 3 点です。\n",
    "\n",
    "- `epochs`：入力データ全体に対する 1 つの反復回数を指定します。\n",
    "- `batch_size`：データをバッチにスライスし、バッチごとに反復処理されます。その各バッチのサイズを指定します。\n",
    "- `validation_data`：テスト用データセットに対する予測精度を監視するため、`(入力値, 目標値)` のタプルを渡します。  \n",
    "\n",
    "引数からわかるようにここでは、ミニバッチ学習に関する設定を指定しています。バッチサイズを 10 、エポック数を 30 と指定して一度実行してみましょう。  "
   ]
  },
  {
   "cell_type": "code",
   "execution_count": 148,
   "metadata": {
    "colab": {
     "base_uri": "https://localhost:8080/"
    },
    "executionInfo": {
     "elapsed": 7716,
     "status": "ok",
     "timestamp": 1748071915091,
     "user": {
      "displayName": "Yamakawa Kohsuke",
      "userId": "01012167664541397279"
     },
     "user_tz": -540
    },
    "id": "fOaLur4l9bpI",
    "outputId": "73f81d56-55e5-4220-cd88-ee72338aef53"
   },
   "outputs": [
    {
     "name": "stdout",
     "output_type": "stream",
     "text": [
      "Epoch 1/30\n"
     ]
    },
    {
     "name": "stdout",
     "output_type": "stream",
     "text": [
      "\u001b[1m40/40\u001b[0m \u001b[32m━━━━━━━━━━━━━━━━━━━━\u001b[0m\u001b[37m\u001b[0m \u001b[1m0s\u001b[0m 3ms/step - accuracy: 0.5516 - loss: 1396.7782 - val_accuracy: 0.6316 - val_loss: 0.6820\n",
      "Epoch 2/30\n",
      "\u001b[1m40/40\u001b[0m \u001b[32m━━━━━━━━━━━━━━━━━━━━\u001b[0m\u001b[37m\u001b[0m \u001b[1m0s\u001b[0m 1ms/step - accuracy: 0.6283 - loss: 0.6808 - val_accuracy: 0.6316 - val_loss: 0.6745\n",
      "Epoch 3/30\n",
      "\u001b[1m40/40\u001b[0m \u001b[32m━━━━━━━━━━━━━━━━━━━━\u001b[0m\u001b[37m\u001b[0m \u001b[1m0s\u001b[0m 1ms/step - accuracy: 0.6283 - loss: 0.6742 - val_accuracy: 0.6316 - val_loss: 0.6695\n",
      "Epoch 4/30\n",
      "\u001b[1m40/40\u001b[0m \u001b[32m━━━━━━━━━━━━━━━━━━━━\u001b[0m\u001b[37m\u001b[0m \u001b[1m0s\u001b[0m 1ms/step - accuracy: 0.6283 - loss: 0.6697 - val_accuracy: 0.6316 - val_loss: 0.6660\n",
      "Epoch 5/30\n",
      "\u001b[1m40/40\u001b[0m \u001b[32m━━━━━━━━━━━━━━━━━━━━\u001b[0m\u001b[37m\u001b[0m \u001b[1m0s\u001b[0m 1ms/step - accuracy: 0.6283 - loss: 0.6667 - val_accuracy: 0.6316 - val_loss: 0.6636\n",
      "Epoch 6/30\n",
      "\u001b[1m40/40\u001b[0m \u001b[32m━━━━━━━━━━━━━━━━━━━━\u001b[0m\u001b[37m\u001b[0m \u001b[1m0s\u001b[0m 1ms/step - accuracy: 0.6283 - loss: 0.6646 - val_accuracy: 0.6316 - val_loss: 0.6620\n",
      "Epoch 7/30\n",
      "\u001b[1m40/40\u001b[0m \u001b[32m━━━━━━━━━━━━━━━━━━━━\u001b[0m\u001b[37m\u001b[0m \u001b[1m0s\u001b[0m 1ms/step - accuracy: 0.6283 - loss: 0.6632 - val_accuracy: 0.6316 - val_loss: 0.6609\n",
      "Epoch 8/30\n",
      "\u001b[1m40/40\u001b[0m \u001b[32m━━━━━━━━━━━━━━━━━━━━\u001b[0m\u001b[37m\u001b[0m \u001b[1m0s\u001b[0m 1ms/step - accuracy: 0.6283 - loss: 0.6622 - val_accuracy: 0.6316 - val_loss: 0.6601\n",
      "Epoch 9/30\n",
      "\u001b[1m40/40\u001b[0m \u001b[32m━━━━━━━━━━━━━━━━━━━━\u001b[0m\u001b[37m\u001b[0m \u001b[1m0s\u001b[0m 1ms/step - accuracy: 0.6283 - loss: 0.6616 - val_accuracy: 0.6316 - val_loss: 0.6596\n",
      "Epoch 10/30\n",
      "\u001b[1m40/40\u001b[0m \u001b[32m━━━━━━━━━━━━━━━━━━━━\u001b[0m\u001b[37m\u001b[0m \u001b[1m0s\u001b[0m 1ms/step - accuracy: 0.6283 - loss: 0.6611 - val_accuracy: 0.6316 - val_loss: 0.6592\n",
      "Epoch 11/30\n",
      "\u001b[1m40/40\u001b[0m \u001b[32m━━━━━━━━━━━━━━━━━━━━\u001b[0m\u001b[37m\u001b[0m \u001b[1m0s\u001b[0m 1ms/step - accuracy: 0.6283 - loss: 0.6608 - val_accuracy: 0.6316 - val_loss: 0.6589\n",
      "Epoch 12/30\n",
      "\u001b[1m40/40\u001b[0m \u001b[32m━━━━━━━━━━━━━━━━━━━━\u001b[0m\u001b[37m\u001b[0m \u001b[1m0s\u001b[0m 1ms/step - accuracy: 0.6283 - loss: 0.6606 - val_accuracy: 0.6316 - val_loss: 0.6587\n",
      "Epoch 13/30\n",
      "\u001b[1m40/40\u001b[0m \u001b[32m━━━━━━━━━━━━━━━━━━━━\u001b[0m\u001b[37m\u001b[0m \u001b[1m0s\u001b[0m 1ms/step - accuracy: 0.6283 - loss: 0.6604 - val_accuracy: 0.6316 - val_loss: 0.6586\n",
      "Epoch 14/30\n",
      "\u001b[1m40/40\u001b[0m \u001b[32m━━━━━━━━━━━━━━━━━━━━\u001b[0m\u001b[37m\u001b[0m \u001b[1m0s\u001b[0m 1ms/step - accuracy: 0.6283 - loss: 0.6603 - val_accuracy: 0.6316 - val_loss: 0.6585\n",
      "Epoch 15/30\n",
      "\u001b[1m40/40\u001b[0m \u001b[32m━━━━━━━━━━━━━━━━━━━━\u001b[0m\u001b[37m\u001b[0m \u001b[1m0s\u001b[0m 1ms/step - accuracy: 0.6283 - loss: 0.6602 - val_accuracy: 0.6316 - val_loss: 0.6584\n",
      "Epoch 16/30\n",
      "\u001b[1m40/40\u001b[0m \u001b[32m━━━━━━━━━━━━━━━━━━━━\u001b[0m\u001b[37m\u001b[0m \u001b[1m0s\u001b[0m 1ms/step - accuracy: 0.6283 - loss: 0.6602 - val_accuracy: 0.6316 - val_loss: 0.6583\n",
      "Epoch 17/30\n",
      "\u001b[1m40/40\u001b[0m \u001b[32m━━━━━━━━━━━━━━━━━━━━\u001b[0m\u001b[37m\u001b[0m \u001b[1m0s\u001b[0m 1ms/step - accuracy: 0.6283 - loss: 0.6601 - val_accuracy: 0.6316 - val_loss: 0.6583\n",
      "Epoch 18/30\n",
      "\u001b[1m40/40\u001b[0m \u001b[32m━━━━━━━━━━━━━━━━━━━━\u001b[0m\u001b[37m\u001b[0m \u001b[1m0s\u001b[0m 1ms/step - accuracy: 0.6283 - loss: 0.6601 - val_accuracy: 0.6316 - val_loss: 0.6583\n",
      "Epoch 19/30\n",
      "\u001b[1m40/40\u001b[0m \u001b[32m━━━━━━━━━━━━━━━━━━━━\u001b[0m\u001b[37m\u001b[0m \u001b[1m0s\u001b[0m 1ms/step - accuracy: 0.6283 - loss: 0.6601 - val_accuracy: 0.6316 - val_loss: 0.6582\n",
      "Epoch 20/30\n",
      "\u001b[1m40/40\u001b[0m \u001b[32m━━━━━━━━━━━━━━━━━━━━\u001b[0m\u001b[37m\u001b[0m \u001b[1m0s\u001b[0m 1ms/step - accuracy: 0.6283 - loss: 0.6601 - val_accuracy: 0.6316 - val_loss: 0.6582\n",
      "Epoch 21/30\n",
      "\u001b[1m40/40\u001b[0m \u001b[32m━━━━━━━━━━━━━━━━━━━━\u001b[0m\u001b[37m\u001b[0m \u001b[1m0s\u001b[0m 1ms/step - accuracy: 0.6283 - loss: 0.6601 - val_accuracy: 0.6316 - val_loss: 0.6582\n",
      "Epoch 22/30\n",
      "\u001b[1m40/40\u001b[0m \u001b[32m━━━━━━━━━━━━━━━━━━━━\u001b[0m\u001b[37m\u001b[0m \u001b[1m0s\u001b[0m 1ms/step - accuracy: 0.6283 - loss: 0.6600 - val_accuracy: 0.6316 - val_loss: 0.6582\n",
      "Epoch 23/30\n",
      "\u001b[1m40/40\u001b[0m \u001b[32m━━━━━━━━━━━━━━━━━━━━\u001b[0m\u001b[37m\u001b[0m \u001b[1m0s\u001b[0m 1ms/step - accuracy: 0.6283 - loss: 0.6600 - val_accuracy: 0.6316 - val_loss: 0.6582\n",
      "Epoch 24/30\n",
      "\u001b[1m40/40\u001b[0m \u001b[32m━━━━━━━━━━━━━━━━━━━━\u001b[0m\u001b[37m\u001b[0m \u001b[1m0s\u001b[0m 1ms/step - accuracy: 0.6283 - loss: 0.6600 - val_accuracy: 0.6316 - val_loss: 0.6582\n",
      "Epoch 25/30\n",
      "\u001b[1m40/40\u001b[0m \u001b[32m━━━━━━━━━━━━━━━━━━━━\u001b[0m\u001b[37m\u001b[0m \u001b[1m0s\u001b[0m 1ms/step - accuracy: 0.6283 - loss: 0.6600 - val_accuracy: 0.6316 - val_loss: 0.6582\n",
      "Epoch 26/30\n",
      "\u001b[1m40/40\u001b[0m \u001b[32m━━━━━━━━━━━━━━━━━━━━\u001b[0m\u001b[37m\u001b[0m \u001b[1m0s\u001b[0m 1ms/step - accuracy: 0.6283 - loss: 0.6600 - val_accuracy: 0.6316 - val_loss: 0.6582\n",
      "Epoch 27/30\n",
      "\u001b[1m40/40\u001b[0m \u001b[32m━━━━━━━━━━━━━━━━━━━━\u001b[0m\u001b[37m\u001b[0m \u001b[1m0s\u001b[0m 1ms/step - accuracy: 0.6283 - loss: 0.6600 - val_accuracy: 0.6316 - val_loss: 0.6582\n",
      "Epoch 28/30\n",
      "\u001b[1m40/40\u001b[0m \u001b[32m━━━━━━━━━━━━━━━━━━━━\u001b[0m\u001b[37m\u001b[0m \u001b[1m0s\u001b[0m 1ms/step - accuracy: 0.6283 - loss: 0.6600 - val_accuracy: 0.6316 - val_loss: 0.6582\n",
      "Epoch 29/30\n",
      "\u001b[1m40/40\u001b[0m \u001b[32m━━━━━━━━━━━━━━━━━━━━\u001b[0m\u001b[37m\u001b[0m \u001b[1m0s\u001b[0m 1ms/step - accuracy: 0.6283 - loss: 0.6600 - val_accuracy: 0.6316 - val_loss: 0.6582\n",
      "Epoch 30/30\n",
      "\u001b[1m40/40\u001b[0m \u001b[32m━━━━━━━━━━━━━━━━━━━━\u001b[0m\u001b[37m\u001b[0m \u001b[1m0s\u001b[0m 1ms/step - accuracy: 0.6283 - loss: 0.6600 - val_accuracy: 0.6316 - val_loss: 0.6582\n"
     ]
    }
   ],
   "source": [
    "# モデルの学習\n",
    "history = model.fit(x_train, t_train,\n",
    "          batch_size=10,\n",
    "          epochs=30,\n",
    "          validation_data=(x_test, t_test),\n",
    "          )"
   ]
  },
  {
   "cell_type": "markdown",
   "metadata": {
    "id": "o0meU0go95sp"
   },
   "source": [
    "学習が完了しました。モデルの定義を行う際に定義した変数 `model` には学習済みの重みが格納されている状態になっています。  \n",
    "\n",
    "また、変数 `history` には学習結果が格納されています。\n",
    "\n",
    "\n",
    "### 予測精度の評価\n",
    "\n",
    "学習の経過を可視化してみましょう。学習結果が格納されている`history` 変数は `history` 属性を持ち、辞書型で結果を取得することができます。  \n",
    "\n",
    "下記のコードでは辞書型で取得した値を Pandas の DataFrame オブジェクトに変換し、プロットします。"
   ]
  },
  {
   "cell_type": "code",
   "execution_count": 70,
   "metadata": {
    "colab": {
     "base_uri": "https://localhost:8080/",
     "height": 143
    },
    "executionInfo": {
     "elapsed": 16,
     "status": "ok",
     "timestamp": 1748069458654,
     "user": {
      "displayName": "Yamakawa Kohsuke",
      "userId": "01012167664541397279"
     },
     "user_tz": -540
    },
    "id": "rx9hwskV-RYH",
    "outputId": "ccc1abde-15cf-41da-ac72-434fcfc4b7f7"
   },
   "outputs": [
    {
     "data": {
      "text/html": [
       "<div>\n",
       "<style scoped>\n",
       "    .dataframe tbody tr th:only-of-type {\n",
       "        vertical-align: middle;\n",
       "    }\n",
       "\n",
       "    .dataframe tbody tr th {\n",
       "        vertical-align: top;\n",
       "    }\n",
       "\n",
       "    .dataframe thead th {\n",
       "        text-align: right;\n",
       "    }\n",
       "</style>\n",
       "<table border=\"1\" class=\"dataframe\">\n",
       "  <thead>\n",
       "    <tr style=\"text-align: right;\">\n",
       "      <th></th>\n",
       "      <th>accuracy</th>\n",
       "      <th>loss</th>\n",
       "      <th>val_accuracy</th>\n",
       "      <th>val_loss</th>\n",
       "    </tr>\n",
       "  </thead>\n",
       "  <tbody>\n",
       "    <tr>\n",
       "      <th>0</th>\n",
       "      <td>0.605528</td>\n",
       "      <td>434.464386</td>\n",
       "      <td>0.631579</td>\n",
       "      <td>0.681980</td>\n",
       "    </tr>\n",
       "    <tr>\n",
       "      <th>1</th>\n",
       "      <td>0.625628</td>\n",
       "      <td>0.679138</td>\n",
       "      <td>0.631579</td>\n",
       "      <td>0.674517</td>\n",
       "    </tr>\n",
       "    <tr>\n",
       "      <th>2</th>\n",
       "      <td>0.625628</td>\n",
       "      <td>0.673321</td>\n",
       "      <td>0.631579</td>\n",
       "      <td>0.669455</td>\n",
       "    </tr>\n",
       "  </tbody>\n",
       "</table>\n",
       "</div>"
      ],
      "text/plain": [
       "   accuracy        loss  val_accuracy  val_loss\n",
       "0  0.605528  434.464386      0.631579  0.681980\n",
       "1  0.625628    0.679138      0.631579  0.674517\n",
       "2  0.625628    0.673321      0.631579  0.669455"
      ]
     },
     "execution_count": 125,
     "metadata": {},
     "output_type": "execute_result"
    }
   ],
   "source": [
    "# 学習結果を取得\n",
    "results = pd.DataFrame(history.history)\n",
    "results.head(3)"
   ]
  },
  {
   "cell_type": "markdown",
   "metadata": {
    "id": "GmMELaUK_H8l"
   },
   "source": [
    "x 軸に epoch 数をとり、 y 軸の値はそれぞれの epoch 時の損失・正解率をとります。"
   ]
  },
  {
   "cell_type": "code",
   "execution_count": 71,
   "metadata": {
    "colab": {
     "base_uri": "https://localhost:8080/",
     "height": 489
    },
    "executionInfo": {
     "elapsed": 230,
     "status": "ok",
     "timestamp": 1748069458887,
     "user": {
      "displayName": "Yamakawa Kohsuke",
      "userId": "01012167664541397279"
     },
     "user_tz": -540
    },
    "id": "QBZ_jAoCfIVc",
    "outputId": "c710d8fe-814b-47e1-f1c1-d0f751f2a5c7"
   },
   "outputs": [
    {
     "data": {
      "text/plain": [
       "Text(0.5, 0, 'epochs')"
      ]
     },
     "execution_count": 126,
     "metadata": {},
     "output_type": "execute_result"
    },
    {
     "data": {
      "image/png": "[encoded data removed]",
      "text/plain": [
       "<Figure size 640x480 with 1 Axes>"
      ]
     },
     "metadata": {},
     "output_type": "display_data"
    }
   ],
   "source": [
    "# 損失を可視化\n",
    "results[['loss', 'val_loss']].plot(title='loss')\n",
    "plt.xlabel('epochs')"
   ]
  },
  {
   "cell_type": "code",
   "execution_count": 72,
   "metadata": {
    "colab": {
     "base_uri": "https://localhost:8080/",
     "height": 489
    },
    "executionInfo": {
     "elapsed": 258,
     "status": "ok",
     "timestamp": 1748069459148,
     "user": {
      "displayName": "Yamakawa Kohsuke",
      "userId": "01012167664541397279"
     },
     "user_tz": -540
    },
    "id": "scle5Rsai_Um",
    "outputId": "e5d55e3f-0162-42e5-8bea-56e663e399a6"
   },
   "outputs": [
    {
     "data": {
      "text/plain": [
       "Text(0.5, 0, 'epochs')"
      ]
     },
     "execution_count": 127,
     "metadata": {},
     "output_type": "execute_result"
    },
    {
     "data": {
      "image/png": "[encoded data removed]",
      "text/plain": [
       "<Figure size 640x480 with 1 Axes>"
      ]
     },
     "metadata": {},
     "output_type": "display_data"
    }
   ],
   "source": [
    "# 正解率を可視化\n",
    "results[['accuracy', 'val_accuracy']].plot(title='metric')\n",
    "plt.xlabel('epochs')"
   ]
  },
  {
   "cell_type": "markdown",
   "metadata": {
    "id": "AnUUBbyYPoXt"
   },
   "source": [
    "損失・正解率ともに横ばいとなっているため、うまく学習が進んでいない事が確認できます。  "
   ]
  },
  {
   "cell_type": "markdown",
   "metadata": {
    "id": "E7JvCVQyQ4dU"
   },
   "source": [
    "### 精度向上のための工夫\n",
    "\n",
    "学習は正常に行うことができるようになりましたが、ここからが予測精度向上のための試行錯誤の段階になります。  \n",
    "\n",
    "1 つの予測精度を向上させる方法として、バッチノーマリゼーション (BatchNormalization) が挙げられます。  \n",
    "\n",
    "バッチノーマリゼーションでは、ミニバッチごとに平均 $\\bar x$ と 標準偏差 $\\sigma$ を求め、\n",
    "$$\n",
    "\\begin{align}\n",
    "x_s &= \\frac{x-\\bar x}{\\sigma} \\\\\\\\\n",
    "\\hat x &= \\alpha x_s + \\beta\n",
    "\\end{align}\n",
    "$$\n",
    "\n",
    "のように $\\hat x$ へと各変数ごとに変換を行います。ここで、$\\alpha$ と $\\beta$ はパラメータであり、単純な正規化のように平均 0、標準偏差 1 とするのではなく、平均 $\\beta$、標準偏差 $\\alpha$ となるように変換を行います。必ずしも平均 0、標準偏差 1 が良いとは限らないためです。  \n",
    "\n",
    "実装としては、各バッチ毎に平均と標準偏差を定めて標準化を行うといった非常に簡単な手法なのですが、こちらを層に加えることで各変数感のスケールによる差を吸収できます。  \n",
    "\n",
    "それでは、バッチノーマリゼーションをモデルに追加しましょう。`layers` モジュール内の `BatchNormalization()` クラスを使用します。"
   ]
  },
  {
   "cell_type": "code",
   "execution_count": 73,
   "metadata": {
    "colab": {
     "base_uri": "https://localhost:8080/"
    },
    "executionInfo": {
     "elapsed": 8784,
     "status": "ok",
     "timestamp": 1748069467759,
     "user": {
      "displayName": "Yamakawa Kohsuke",
      "userId": "01012167664541397279"
     },
     "user_tz": -540
    },
    "id": "wGbp_aT_SmVT",
    "outputId": "b841ed42-5451-4510-f2c3-ab9625c1d93a"
   },
   "outputs": [
    {
     "name": "stdout",
     "output_type": "stream",
     "text": [
      "Epoch 1/30\n",
      "\u001b[1m 1/40\u001b[0m \u001b[37m━━━━━━━━━━━━━━━━━━━━\u001b[0m \u001b[1m5s\u001b[0m 154ms/step - accuracy: 0.8000 - loss: 0.4325"
     ]
    },
    {
     "name": "stderr",
     "output_type": "stream",
     "text": [
      "/home/kinoko1943/development/github/TKAdvanced/.venv/lib/python3.12/site-packages/keras/src/layers/normalization/batch_normalization.py:142: UserWarning: Do not pass an `input_shape`/`input_dim` argument to a layer. When using Sequential models, prefer using an `Input(shape)` object as the first layer in the model instead.\n",
      "  super().__init__(**kwargs)\n"
     ]
    },
    {
     "name": "stdout",
     "output_type": "stream",
     "text": [
      "\u001b[1m40/40\u001b[0m \u001b[32m━━━━━━━━━━━━━━━━━━━━\u001b[0m\u001b[37m\u001b[0m \u001b[1m0s\u001b[0m 3ms/step - accuracy: 0.8618 - loss: 0.3960 - val_accuracy: 0.3684 - val_loss: 2.2049\n",
      "Epoch 2/30\n",
      "\u001b[1m40/40\u001b[0m \u001b[32m━━━━━━━━━━━━━━━━━━━━\u001b[0m\u001b[37m\u001b[0m \u001b[1m0s\u001b[0m 1ms/step - accuracy: 0.9194 - loss: 0.2862 - val_accuracy: 0.3918 - val_loss: 1.2964\n",
      "Epoch 3/30\n",
      "\u001b[1m40/40\u001b[0m \u001b[32m━━━━━━━━━━━━━━━━━━━━\u001b[0m\u001b[37m\u001b[0m \u001b[1m0s\u001b[0m 1ms/step - accuracy: 0.9245 - loss: 0.2444 - val_accuracy: 0.5673 - val_loss: 0.7483\n",
      "Epoch 4/30\n",
      "\u001b[1m40/40\u001b[0m \u001b[32m━━━━━━━━━━━━━━━━━━━━\u001b[0m\u001b[37m\u001b[0m \u001b[1m0s\u001b[0m 1ms/step - accuracy: 0.9242 - loss: 0.2226 - val_accuracy: 0.7836 - val_loss: 0.4439\n",
      "Epoch 5/30\n",
      "\u001b[1m40/40\u001b[0m \u001b[32m━━━━━━━━━━━━━━━━━━━━\u001b[0m\u001b[37m\u001b[0m \u001b[1m0s\u001b[0m 1ms/step - accuracy: 0.9242 - loss: 0.2096 - val_accuracy: 0.8830 - val_loss: 0.2978\n",
      "Epoch 6/30\n",
      "\u001b[1m40/40\u001b[0m \u001b[32m━━━━━━━━━━━━━━━━━━━━\u001b[0m\u001b[37m\u001b[0m \u001b[1m0s\u001b[0m 1ms/step - accuracy: 0.9251 - loss: 0.2012 - val_accuracy: 0.9298 - val_loss: 0.2274\n",
      "Epoch 7/30\n",
      "\u001b[1m40/40\u001b[0m \u001b[32m━━━━━━━━━━━━━━━━━━━━\u001b[0m\u001b[37m\u001b[0m \u001b[1m0s\u001b[0m 1ms/step - accuracy: 0.9224 - loss: 0.1952 - val_accuracy: 0.9474 - val_loss: 0.1922\n",
      "Epoch 8/30\n",
      "\u001b[1m40/40\u001b[0m \u001b[32m━━━━━━━━━━━━━━━━━━━━\u001b[0m\u001b[37m\u001b[0m \u001b[1m0s\u001b[0m 1ms/step - accuracy: 0.9224 - loss: 0.1904 - val_accuracy: 0.9474 - val_loss: 0.1723\n",
      "Epoch 9/30\n",
      "\u001b[1m40/40\u001b[0m \u001b[32m━━━━━━━━━━━━━━━━━━━━\u001b[0m\u001b[37m\u001b[0m \u001b[1m0s\u001b[0m 1ms/step - accuracy: 0.9245 - loss: 0.1862 - val_accuracy: 0.9415 - val_loss: 0.1611\n",
      "Epoch 10/30\n",
      "\u001b[1m40/40\u001b[0m \u001b[32m━━━━━━━━━━━━━━━━━━━━\u001b[0m\u001b[37m\u001b[0m \u001b[1m0s\u001b[0m 1ms/step - accuracy: 0.9286 - loss: 0.1828 - val_accuracy: 0.9415 - val_loss: 0.1541\n",
      "Epoch 11/30\n",
      "\u001b[1m40/40\u001b[0m \u001b[32m━━━━━━━━━━━━━━━━━━━━\u001b[0m\u001b[37m\u001b[0m \u001b[1m0s\u001b[0m 1ms/step - accuracy: 0.9316 - loss: 0.1797 - val_accuracy: 0.9474 - val_loss: 0.1490\n",
      "Epoch 12/30\n",
      "\u001b[1m40/40\u001b[0m \u001b[32m━━━━━━━━━━━━━━━━━━━━\u001b[0m\u001b[37m\u001b[0m \u001b[1m0s\u001b[0m 1ms/step - accuracy: 0.9316 - loss: 0.1770 - val_accuracy: 0.9415 - val_loss: 0.1450\n",
      "Epoch 13/30\n",
      "\u001b[1m40/40\u001b[0m \u001b[32m━━━━━━━━━━━━━━━━━━━━\u001b[0m\u001b[37m\u001b[0m \u001b[1m0s\u001b[0m 1ms/step - accuracy: 0.9316 - loss: 0.1745 - val_accuracy: 0.9357 - val_loss: 0.1421\n",
      "Epoch 14/30\n",
      "\u001b[1m40/40\u001b[0m \u001b[32m━━━━━━━━━━━━━━━━━━━━\u001b[0m\u001b[37m\u001b[0m \u001b[1m0s\u001b[0m 1ms/step - accuracy: 0.9316 - loss: 0.1722 - val_accuracy: 0.9357 - val_loss: 0.1399\n",
      "Epoch 15/30\n",
      "\u001b[1m40/40\u001b[0m \u001b[32m━━━━━━━━━━━━━━━━━━━━\u001b[0m\u001b[37m\u001b[0m \u001b[1m0s\u001b[0m 1ms/step - accuracy: 0.9316 - loss: 0.1701 - val_accuracy: 0.9357 - val_loss: 0.1378\n",
      "Epoch 16/30\n",
      "\u001b[1m40/40\u001b[0m \u001b[32m━━━━━━━━━━━━━━━━━━━━\u001b[0m\u001b[37m\u001b[0m \u001b[1m0s\u001b[0m 1ms/step - accuracy: 0.9316 - loss: 0.1682 - val_accuracy: 0.9357 - val_loss: 0.1363\n",
      "Epoch 17/30\n",
      "\u001b[1m40/40\u001b[0m \u001b[32m━━━━━━━━━━━━━━━━━━━━\u001b[0m\u001b[37m\u001b[0m \u001b[1m0s\u001b[0m 1ms/step - accuracy: 0.9316 - loss: 0.1664 - val_accuracy: 0.9357 - val_loss: 0.1346\n",
      "Epoch 18/30\n",
      "\u001b[1m40/40\u001b[0m \u001b[32m━━━━━━━━━━━━━━━━━━━━\u001b[0m\u001b[37m\u001b[0m \u001b[1m0s\u001b[0m 1ms/step - accuracy: 0.9330 - loss: 0.1646 - val_accuracy: 0.9357 - val_loss: 0.1329\n",
      "Epoch 19/30\n",
      "\u001b[1m40/40\u001b[0m \u001b[32m━━━━━━━━━━━━━━━━━━━━\u001b[0m\u001b[37m\u001b[0m \u001b[1m0s\u001b[0m 1ms/step - accuracy: 0.9330 - loss: 0.1630 - val_accuracy: 0.9298 - val_loss: 0.1312\n",
      "Epoch 20/30\n",
      "\u001b[1m40/40\u001b[0m \u001b[32m━━━━━━━━━━━━━━━━━━━━\u001b[0m\u001b[37m\u001b[0m \u001b[1m0s\u001b[0m 1ms/step - accuracy: 0.9341 - loss: 0.1613 - val_accuracy: 0.9298 - val_loss: 0.1296\n",
      "Epoch 21/30\n",
      "\u001b[1m40/40\u001b[0m \u001b[32m━━━━━━━━━━━━━━━━━━━━\u001b[0m\u001b[37m\u001b[0m \u001b[1m0s\u001b[0m 1ms/step - accuracy: 0.9354 - loss: 0.1598 - val_accuracy: 0.9357 - val_loss: 0.1279\n",
      "Epoch 22/30\n",
      "\u001b[1m40/40\u001b[0m \u001b[32m━━━━━━━━━━━━━━━━━━━━\u001b[0m\u001b[37m\u001b[0m \u001b[1m0s\u001b[0m 1ms/step - accuracy: 0.9382 - loss: 0.1583 - val_accuracy: 0.9415 - val_loss: 0.1265\n",
      "Epoch 23/30\n",
      "\u001b[1m40/40\u001b[0m \u001b[32m━━━━━━━━━━━━━━━━━━━━\u001b[0m\u001b[37m\u001b[0m \u001b[1m0s\u001b[0m 1ms/step - accuracy: 0.9382 - loss: 0.1569 - val_accuracy: 0.9474 - val_loss: 0.1252\n",
      "Epoch 24/30\n",
      "\u001b[1m40/40\u001b[0m \u001b[32m━━━━━━━━━━━━━━━━━━━━\u001b[0m\u001b[37m\u001b[0m \u001b[1m0s\u001b[0m 1ms/step - accuracy: 0.9382 - loss: 0.1555 - val_accuracy: 0.9474 - val_loss: 0.1240\n",
      "Epoch 25/30\n",
      "\u001b[1m40/40\u001b[0m \u001b[32m━━━━━━━━━━━━━━━━━━━━\u001b[0m\u001b[37m\u001b[0m \u001b[1m0s\u001b[0m 1ms/step - accuracy: 0.9382 - loss: 0.1541 - val_accuracy: 0.9474 - val_loss: 0.1230\n",
      "Epoch 26/30\n",
      "\u001b[1m40/40\u001b[0m \u001b[32m━━━━━━━━━━━━━━━━━━━━\u001b[0m\u001b[37m\u001b[0m \u001b[1m0s\u001b[0m 2ms/step - accuracy: 0.9382 - loss: 0.1528 - val_accuracy: 0.9591 - val_loss: 0.1219\n",
      "Epoch 27/30\n",
      "\u001b[1m40/40\u001b[0m \u001b[32m━━━━━━━━━━━━━━━━━━━━\u001b[0m\u001b[37m\u001b[0m \u001b[1m0s\u001b[0m 1ms/step - accuracy: 0.9382 - loss: 0.1516 - val_accuracy: 0.9591 - val_loss: 0.1210\n",
      "Epoch 28/30\n",
      "\u001b[1m40/40\u001b[0m \u001b[32m━━━━━━━━━━━━━━━━━━━━\u001b[0m\u001b[37m\u001b[0m \u001b[1m0s\u001b[0m 1ms/step - accuracy: 0.9382 - loss: 0.1504 - val_accuracy: 0.9591 - val_loss: 0.1200\n",
      "Epoch 29/30\n",
      "\u001b[1m40/40\u001b[0m \u001b[32m━━━━━━━━━━━━━━━━━━━━\u001b[0m\u001b[37m\u001b[0m \u001b[1m0s\u001b[0m 1ms/step - accuracy: 0.9382 - loss: 0.1493 - val_accuracy: 0.9649 - val_loss: 0.1192\n",
      "Epoch 30/30\n",
      "\u001b[1m40/40\u001b[0m \u001b[32m━━━━━━━━━━━━━━━━━━━━\u001b[0m\u001b[37m\u001b[0m \u001b[1m0s\u001b[0m 1ms/step - accuracy: 0.9382 - loss: 0.1482 - val_accuracy: 0.9649 - val_loss: 0.1185\n"
     ]
    }
   ],
   "source": [
    "#  シードの固定\n",
    "reset_seed(0)\n",
    "\n",
    "# モデルのインスタンス化\n",
    "model = models.Sequential()\n",
    "\n",
    "# モデルの構築\n",
    "model.add(layers.BatchNormalization(input_shape=(n_input,))) # バッチノーマリゼーションの層を追加\n",
    "model.add(layers.Dense(10, activation='relu'))\n",
    "model.add(layers.Dense(n_output, activation='softmax'))\n",
    "\n",
    "# モデルのコンパイル\n",
    "model.compile(optimizer='SGD',\n",
    "               loss='sparse_categorical_crossentropy',\n",
    "               metrics=['accuracy'])\n",
    "\n",
    "# モデルの学習\n",
    "history = model.fit(x_train, t_train,\n",
    "          batch_size=10,\n",
    "          epochs=30,\n",
    "          validation_data=(x_test, t_test))"
   ]
  },
  {
   "cell_type": "markdown",
   "metadata": {
    "id": "eQPAS9Os--j4"
   },
   "source": [
    "先程と同様に学習結果をプロットし、確認しましょう。"
   ]
  },
  {
   "cell_type": "code",
   "execution_count": 150,
   "metadata": {
    "colab": {
     "base_uri": "https://localhost:8080/",
     "height": 489
    },
    "executionInfo": {
     "elapsed": 264,
     "status": "ok",
     "timestamp": 1748071949338,
     "user": {
      "displayName": "Yamakawa Kohsuke",
      "userId": "01012167664541397279"
     },
     "user_tz": -540
    },
    "id": "XwYkTcrPmNqt",
    "outputId": "2261b08b-74f8-44d2-c238-ad8bab9cd4fe"
   },
   "outputs": [
    {
     "data": {
      "text/plain": [
       "Text(0.5, 0, 'epochs')"
      ]
     },
     "execution_count": 129,
     "metadata": {},
     "output_type": "execute_result"
    },
    {
     "data": {
      "image/png": "[encoded data removed]",
      "text/plain": [
       "<Figure size 640x480 with 1 Axes>"
      ]
     },
     "metadata": {},
     "output_type": "display_data"
    }
   ],
   "source": [
    "# 学習結果を取得\n",
    "results = pd.DataFrame(history.history)\n",
    "# 損失を可視化\n",
    "results[['loss', 'val_loss']].plot(title='loss')\n",
    "plt.xlabel('epochs')"
   ]
  },
  {
   "cell_type": "code",
   "execution_count": 75,
   "metadata": {
    "colab": {
     "base_uri": "https://localhost:8080/",
     "height": 489
    },
    "executionInfo": {
     "elapsed": 195,
     "status": "ok",
     "timestamp": 1748069468156,
     "user": {
      "displayName": "Yamakawa Kohsuke",
      "userId": "01012167664541397279"
     },
     "user_tz": -540
    },
    "id": "yZdv_fBLmNqw",
    "outputId": "86c1899c-1d32-4112-fc06-78db18bdb2de"
   },
   "outputs": [
    {
     "data": {
      "text/plain": [
       "Text(0.5, 0, 'epochs')"
      ]
     },
     "execution_count": 130,
     "metadata": {},
     "output_type": "execute_result"
    },
    {
     "data": {
      "image/png": "[encoded data removed]",
      "text/plain": [
       "<Figure size 640x480 with 1 Axes>"
      ]
     },
     "metadata": {},
     "output_type": "display_data"
    }
   ],
   "source": [
    "# 正解率を可視化\n",
    "results[['accuracy', 'val_accuracy']].plot(title='metric')\n",
    "plt.xlabel('epochs')"
   ]
  },
  {
   "cell_type": "markdown",
   "metadata": {
    "id": "KN4_sNuqTcwV"
   },
   "source": [
    "飛躍的に正解率が向上しました。正解率の値が良くなっていれば成功です。  \n",
    "\n",
    "このようにディープラーニングでは、BatchNormalization を含めた細かな精度向上のポイントがあるため、今後も調べながら進めていきましょう。TensorFlow では、多くの機能がすでに実装されているため、上記のコードのように少し付け加えるだけでその効果を検証できるため、非常に便利です。"
   ]
  },
  {
   "cell_type": "markdown",
   "metadata": {
    "id": "99H2StcpT1P2"
   },
   "source": [
    "## 学習済みモデルの保存と推論\n",
    "\n",
    "学習済みモデルは変数 `model` に格納されています。この学習済みモデルのファイルの書き出し、書き出したモデルを読み込み推論する方法を確認します。  \n",
    "\n",
    "モデルの保存には `save()` メソッドを使用します。引数に出力先のファイルパスを指定します。  \n",
    "（Colab 上で保存する場合、下記のようにファイルパスを `/content` から始める必要があります。）  "
   ]
  },
  {
   "cell_type": "code",
   "execution_count": 83,
   "metadata": {
    "executionInfo": {
     "elapsed": 62,
     "status": "ok",
     "timestamp": 1748069869186,
     "user": {
      "displayName": "Yamakawa Kohsuke",
      "userId": "01012167664541397279"
     },
     "user_tz": -540
    },
    "id": "5UQ6vnvJZ6qR"
   },
   "outputs": [],
   "source": [
    "# モデルの保存\n",
    "filepath = './content/saved_model.keras'\n",
    "model.save(filepath)"
   ]
  },
  {
   "cell_type": "markdown",
   "metadata": {
    "id": "4TNuXefPfBDj"
   },
   "source": [
    "保存されているファイルを確認しましょう。"
   ]
  },
  {
   "cell_type": "code",
   "execution_count": 84,
   "metadata": {
    "colab": {
     "base_uri": "https://localhost:8080/"
    },
    "executionInfo": {
     "elapsed": 150,
     "status": "ok",
     "timestamp": 1748069873916,
     "user": {
      "displayName": "Yamakawa Kohsuke",
      "userId": "01012167664541397279"
     },
     "user_tz": -540
    },
    "id": "KmJenScyCF6h",
    "outputId": "e102a08a-cc80-475c-a58c-d7323253277b"
   },
   "outputs": [
    {
     "name": "stdout",
     "output_type": "stream",
     "text": [
      "saved_model.h5\tsaved_model.keras  saved_model2.keras\n"
     ]
    }
   ],
   "source": [
    "!ls ./content/"
   ]
  },
  {
   "cell_type": "markdown",
   "metadata": {
    "id": "yfKOrChUf7Z7"
   },
   "source": [
    "### 学習済みモデルをロード\n",
    "\n",
    "学習済みモデルは `keras.models.load_model(filepath)` を用いて再インスタンス化できます。  \n",
    "モデルがすでに一度コンパイルされている場合、`load_model` は、学習時の設定を利用して、コンパイルを行います。"
   ]
  },
  {
   "cell_type": "code",
   "execution_count": 89,
   "metadata": {
    "executionInfo": {
     "elapsed": 310,
     "status": "ok",
     "timestamp": 1748070083554,
     "user": {
      "displayName": "Yamakawa Kohsuke",
      "userId": "01012167664541397279"
     },
     "user_tz": -540
    },
    "id": "8vjgdSQDblQ_"
   },
   "outputs": [],
   "source": [
    "from tensorflow.keras.models import Model\n",
    "\n",
    "# モデルの読み込み\n",
    "loaded_model = load_model(filepath)"
   ]
  },
  {
   "cell_type": "markdown",
   "metadata": {
    "id": "HqwP16G9bri7"
   },
   "source": [
    "### 予測値の計算\n",
    "\n",
    "本来であれば学習を終えたモデルは新しく取得したデータに対して推論しますが、今回は試しに学習で使用したデータセットの最初のサンプルに対する予測値を計算してみましょう。"
   ]
  },
  {
   "cell_type": "code",
   "execution_count": 104,
   "metadata": {
    "colab": {
     "base_uri": "https://localhost:8080/"
    },
    "executionInfo": {
     "elapsed": 18,
     "status": "ok",
     "timestamp": 1748071131496,
     "user": {
      "displayName": "Yamakawa Kohsuke",
      "userId": "01012167664541397279"
     },
     "user_tz": -540
    },
    "id": "UJsyp-GIgP6Y",
    "outputId": "e63d29a3-3560-461a-a3c9-cd1d0dd23980"
   },
   "outputs": [
    {
     "data": {
      "text/plain": [
       "(10,)"
      ]
     },
     "execution_count": 158,
     "metadata": {},
     "output_type": "execute_result"
    }
   ],
   "source": [
    "x_new = np.array(x_train[0], dtype=np.float32)\n",
    "x_new.shape"
   ]
  },
  {
   "cell_type": "markdown",
   "metadata": {
    "id": "TFwoAw2VEwXS"
   },
   "source": [
    "分類のモデルでクラスを推論する場合は `predict()` メソッドを使用します。推論結果はそれぞれのクラスに対する確率になります。推論結果がどちらのクラスなのか確認する際には `argmax()` メソッドを使用します。（値の大きいものを取得することができるメソッドになります。）  "
   ]
  },
  {
   "cell_type": "code",
   "execution_count": 105,
   "metadata": {
    "colab": {
     "base_uri": "https://localhost:8080/",
     "height": 426
    },
    "executionInfo": {
     "elapsed": 100,
     "status": "error",
     "timestamp": 1748071132382,
     "user": {
      "displayName": "Yamakawa Kohsuke",
      "userId": "01012167664541397279"
     },
     "user_tz": -540
    },
    "id": "9By-vGYKgVU4",
    "outputId": "7785e18b-85dc-48be-e9d3-9396f9c5e535"
   },
   "outputs": [
    {
     "ename": "ValueError",
     "evalue": "Exception encountered when calling Sequential.call().\n\n\u001b[1mInvalid input shape for input Tensor(\"data:0\", shape=(10,), dtype=float32). Expected shape (None, 10), but input has incompatible shape (10,)\u001b[0m\n\nArguments received by Sequential.call():\n  • inputs=tf.Tensor(shape=(10,), dtype=float32)\n  • training=False\n  • mask=None\n  • kwargs=<class 'inspect._empty'>",
     "output_type": "error",
     "traceback": [
      "\u001b[31m---------------------------------------------------------------------------\u001b[39m",
      "\u001b[31mValueError\u001b[39m                                Traceback (most recent call last)",
      "\u001b[36mCell\u001b[39m\u001b[36m \u001b[39m\u001b[32mIn[159]\u001b[39m\u001b[32m, line 2\u001b[39m\n\u001b[32m      1\u001b[39m \u001b[38;5;66;03m# 予測値の計算\u001b[39;00m\n\u001b[32m----> \u001b[39m\u001b[32m2\u001b[39m \u001b[43mloaded_model\u001b[49m\u001b[43m.\u001b[49m\u001b[43mpredict\u001b[49m\u001b[43m(\u001b[49m\u001b[43mx_new\u001b[49m\u001b[43m)\u001b[49m\n",
      "\u001b[36mFile \u001b[39m\u001b[32m~/development/github/TKAdvanced/.venv/lib/python3.12/site-packages/keras/src/utils/traceback_utils.py:122\u001b[39m, in \u001b[36mfilter_traceback.<locals>.error_handler\u001b[39m\u001b[34m(*args, **kwargs)\u001b[39m\n\u001b[32m    119\u001b[39m     filtered_tb = _process_traceback_frames(e.__traceback__)\n\u001b[32m    120\u001b[39m     \u001b[38;5;66;03m# To get the full stack trace, call:\u001b[39;00m\n\u001b[32m    121\u001b[39m     \u001b[38;5;66;03m# `keras.config.disable_traceback_filtering()`\u001b[39;00m\n\u001b[32m--> \u001b[39m\u001b[32m122\u001b[39m     \u001b[38;5;28;01mraise\u001b[39;00m e.with_traceback(filtered_tb) \u001b[38;5;28;01mfrom\u001b[39;00m\u001b[38;5;250m \u001b[39m\u001b[38;5;28;01mNone\u001b[39;00m\n\u001b[32m    123\u001b[39m \u001b[38;5;28;01mfinally\u001b[39;00m:\n\u001b[32m    124\u001b[39m     \u001b[38;5;28;01mdel\u001b[39;00m filtered_tb\n",
      "\u001b[36mFile \u001b[39m\u001b[32m~/development/github/TKAdvanced/.venv/lib/python3.12/site-packages/keras/src/models/functional.py:276\u001b[39m, in \u001b[36mFunctional._adjust_input_rank\u001b[39m\u001b[34m(self, flat_inputs)\u001b[39m\n\u001b[32m    274\u001b[39m             adjusted.append(ops.expand_dims(x, axis=-\u001b[32m1\u001b[39m))\n\u001b[32m    275\u001b[39m             \u001b[38;5;28;01mcontinue\u001b[39;00m\n\u001b[32m--> \u001b[39m\u001b[32m276\u001b[39m     \u001b[38;5;28;01mraise\u001b[39;00m \u001b[38;5;167;01mValueError\u001b[39;00m(\n\u001b[32m    277\u001b[39m         \u001b[33mf\u001b[39m\u001b[33m\"\u001b[39m\u001b[33mInvalid input shape for input \u001b[39m\u001b[38;5;132;01m{\u001b[39;00mx\u001b[38;5;132;01m}\u001b[39;00m\u001b[33m. Expected shape \u001b[39m\u001b[33m\"\u001b[39m\n\u001b[32m    278\u001b[39m         \u001b[33mf\u001b[39m\u001b[33m\"\u001b[39m\u001b[38;5;132;01m{\u001b[39;00mref_shape\u001b[38;5;132;01m}\u001b[39;00m\u001b[33m, but input has incompatible shape \u001b[39m\u001b[38;5;132;01m{\u001b[39;00mx.shape\u001b[38;5;132;01m}\u001b[39;00m\u001b[33m\"\u001b[39m\n\u001b[32m    279\u001b[39m     )\n\u001b[32m    280\u001b[39m \u001b[38;5;66;03m# Add back metadata.\u001b[39;00m\n\u001b[32m    281\u001b[39m \u001b[38;5;28;01mfor\u001b[39;00m i \u001b[38;5;129;01min\u001b[39;00m \u001b[38;5;28mrange\u001b[39m(\u001b[38;5;28mlen\u001b[39m(flat_inputs)):\n",
      "\u001b[31mValueError\u001b[39m: Exception encountered when calling Sequential.call().\n\n\u001b[1mInvalid input shape for input Tensor(\"data:0\", shape=(10,), dtype=float32). Expected shape (None, 10), but input has incompatible shape (10,)\u001b[0m\n\nArguments received by Sequential.call():\n  • inputs=tf.Tensor(shape=(10,), dtype=float32)\n  • training=False\n  • mask=None\n  • kwargs=<class 'inspect._empty'>"
     ]
    }
   ],
   "source": [
    "# 予測値の計算\n",
    "loaded_model.predict(x_new)"
   ]
  },
  {
   "cell_type": "markdown",
   "metadata": {
    "id": "csFRnLWqgatg"
   },
   "source": [
    "推論で使用する際には、`(バッチサイズ, 入力変数の数)` という形式となっていないとエラーが起きます。今回であれば、`(1, 10)` が望ましいデータの形と言えます。"
   ]
  },
  {
   "cell_type": "code",
   "execution_count": 106,
   "metadata": {
    "colab": {
     "base_uri": "https://localhost:8080/"
    },
    "executionInfo": {
     "elapsed": 7,
     "status": "ok",
     "timestamp": 1748071134813,
     "user": {
      "displayName": "Yamakawa Kohsuke",
      "userId": "01012167664541397279"
     },
     "user_tz": -540
    },
    "id": "IrZnGksKK2k_",
    "outputId": "2408e1db-2689-484d-8bc5-94085558ce48"
   },
   "outputs": [
    {
     "data": {
      "text/plain": [
       "(1, 10)"
      ]
     },
     "execution_count": 160,
     "metadata": {},
     "output_type": "execute_result"
    }
   ],
   "source": [
    "x_new = x_new[tf.newaxis]\n",
    "x_new.shape"
   ]
  },
  {
   "cell_type": "code",
   "execution_count": 107,
   "metadata": {
    "colab": {
     "base_uri": "https://localhost:8080/"
    },
    "executionInfo": {
     "elapsed": 80,
     "status": "ok",
     "timestamp": 1748071138681,
     "user": {
      "displayName": "Yamakawa Kohsuke",
      "userId": "01012167664541397279"
     },
     "user_tz": -540
    },
    "id": "mRyHgZLrjHhf",
    "outputId": "4269e9c2-d50c-4240-d786-962f4d01fee9"
   },
   "outputs": [
    {
     "name": "stdout",
     "output_type": "stream",
     "text": [
      "\u001b[1m1/1\u001b[0m \u001b[32m━━━━━━━━━━━━━━━━━━━━\u001b[0m\u001b[37m\u001b[0m \u001b[1m0s\u001b[0m 31ms/step\n"
     ]
    },
    {
     "data": {
      "text/plain": [
       "array([[0.94943947, 0.04385144, 0.00670914]], dtype=float32)"
      ]
     },
     "execution_count": 161,
     "metadata": {},
     "output_type": "execute_result"
    }
   ],
   "source": [
    "# 確率の計算\n",
    "y_proba = loaded_model.predict(x_new)\n",
    "y_proba"
   ]
  },
  {
   "cell_type": "code",
   "execution_count": 108,
   "metadata": {
    "colab": {
     "base_uri": "https://localhost:8080/"
    },
    "executionInfo": {
     "elapsed": 19,
     "status": "ok",
     "timestamp": 1748071141183,
     "user": {
      "displayName": "Yamakawa Kohsuke",
      "userId": "01012167664541397279"
     },
     "user_tz": -540
    },
    "id": "QcXcxnpRFT90",
    "outputId": "06aad792-1b50-4508-d7fc-4dd78b4574b4"
   },
   "outputs": [
    {
     "data": {
      "text/plain": [
       "np.int64(0)"
      ]
     },
     "execution_count": 162,
     "metadata": {},
     "output_type": "execute_result"
    }
   ],
   "source": [
    "# 予測値の計算\n",
    "y_pred = y_proba.argmax(axis=-1)\n",
    "y_pred[0]"
   ]
  },
  {
   "cell_type": "markdown",
   "metadata": {
    "id": "0uGG0gFKWXH6"
   },
   "source": [
    "正常に予測できている事が確認できました。  \n",
    "最後に対応する目標値を確認し、推論結果が正解しているか確認します。"
   ]
  },
  {
   "cell_type": "code",
   "execution_count": 109,
   "metadata": {
    "colab": {
     "base_uri": "https://localhost:8080/"
    },
    "executionInfo": {
     "elapsed": 7,
     "status": "ok",
     "timestamp": 1748071142169,
     "user": {
      "displayName": "Yamakawa Kohsuke",
      "userId": "01012167664541397279"
     },
     "user_tz": -540
    },
    "id": "pFyJ1RdtEaqb",
    "outputId": "37f6cb80-a096-40c9-ec73-94135b871076"
   },
   "outputs": [
    {
     "data": {
      "text/plain": [
       "np.int64(0)"
      ]
     },
     "execution_count": 163,
     "metadata": {},
     "output_type": "execute_result"
    }
   ],
   "source": [
    "# 目標値の確認\n",
    "t_train[0]"
   ]
  },
  {
   "cell_type": "markdown",
   "metadata": {
    "id": "38ytrPvVKfwv"
   },
   "source": [
    "予測値と目標値が一致しており、うまく推論できている事が確認できました。  "
   ]
  },
  {
   "cell_type": "markdown",
   "metadata": {
    "id": "urz2OjQaF8PS"
   },
   "source": [
    "## 練習問題 本章のまとめ\n",
    "\n",
    "本章で学んだ内容を復習しましょう。下記の内容を次のセルに記述し、実行結果を確認してください。（必要に応じてセルの追加を行ってください。）\n",
    "\n",
    "こちらの[ワインの等級に関するデータセット](https://drive.google.com/file/d/1InIHnFv9N-GoKt2cgAnGD1DqX2TUyrnn/view?usp=sharing)を使用して、ワインの等級の分類を行うニューラルネットワークの構築を行って下さい。テスト用データセットに対し、80% の正解率を目指しましょう。    \n",
    "実装の手順は下記を参照して下さい。  \n",
    "\n",
    "- データセットのアップロード\n",
    "- データセットの準備\n",
    "  - 入力変数と目的変数の切り分け\n",
    "  - TensorFlow で計算できるデータの形式に変換\n",
    "  - 学習用データセットとテスト用データセットの切り分け\n",
    "- モデルの定義\n",
    "- 目的関数・最適化手法の選択\n",
    "- モデルの学習\n",
    "- 予測精度の評価\n",
    "- ハイパーパラメータの調整\n",
    "- 学習済みモデルの保存と推論\n",
    "\n",
    "*補足*  \n",
    "- 目的変数は `Class` 列になります。入力変数にはその他の列を全て使用して下さい。  \n",
    "- データセットの切り分けはテスト用データセットが全体の 30% となるように行って下さい。  \n",
    "- ハイパーパラメータの調整では、層・ノードの数や活性化関数、バッチノーマリゼーションなど学んだ知識を生かして、試行錯誤を行って下さい。\n",
    "\n"
   ]
  },
  {
   "cell_type": "markdown",
   "metadata": {
    "id": "ghbCaLzLn8kN"
   },
   "source": [
    "#### データセットの準備"
   ]
  },
  {
   "cell_type": "code",
   "execution_count": 123,
   "metadata": {
    "colab": {
     "base_uri": "https://localhost:8080/",
     "height": 74
    },
    "executionInfo": {
     "elapsed": 4386,
     "status": "ok",
     "timestamp": 1748071324912,
     "user": {
      "displayName": "Yamakawa Kohsuke",
      "userId": "01012167664541397279"
     },
     "user_tz": -540
    },
    "id": "t1kQxtrDnDGN",
    "outputId": "bea8f4e2-4917-48a9-ef21-5f9955a2f491"
   },
   "outputs": [
    {
     "ename": "ModuleNotFoundError",
     "evalue": "No module named 'google.colab'",
     "output_type": "error",
     "traceback": [
      "\u001b[31m---------------------------------------------------------------------------\u001b[39m",
      "\u001b[31mModuleNotFoundError\u001b[39m                       Traceback (most recent call last)",
      "\u001b[36mCell\u001b[39m\u001b[36m \u001b[39m\u001b[32mIn[136]\u001b[39m\u001b[32m, line 2\u001b[39m\n\u001b[32m      1\u001b[39m \u001b[38;5;66;03m# データセットのアップロード\u001b[39;00m\n\u001b[32m----> \u001b[39m\u001b[32m2\u001b[39m \u001b[38;5;28;01mfrom\u001b[39;00m\u001b[38;5;250m \u001b[39m\u001b[34;01mgoogle\u001b[39;00m\u001b[34;01m.\u001b[39;00m\u001b[34;01mcolab\u001b[39;00m\u001b[38;5;250m \u001b[39m\u001b[38;5;28;01mimport\u001b[39;00m files\n\u001b[32m      3\u001b[39m uploaded = files.upload()\n",
      "\u001b[31mModuleNotFoundError\u001b[39m: No module named 'google.colab'"
     ]
    }
   ],
   "source": [
    "# データセットのアップロード\n",
    "from google.colab import files\n",
    "uploaded = files.upload()"
   ]
  },
  {
   "cell_type": "code",
   "execution_count": 124,
   "metadata": {
    "colab": {
     "base_uri": "https://localhost:8080/",
     "height": 161
    },
    "executionInfo": {
     "elapsed": 39,
     "status": "ok",
     "timestamp": 1748071326299,
     "user": {
      "displayName": "Yamakawa Kohsuke",
      "userId": "01012167664541397279"
     },
     "user_tz": -540
    },
    "id": "JKFXIRs_nDGV",
    "outputId": "9e893459-15a0-4c47-a44b-2f4fc93767e4"
   },
   "outputs": [
    {
     "data": {
      "text/html": [
       "<div>\n",
       "<style scoped>\n",
       "    .dataframe tbody tr th:only-of-type {\n",
       "        vertical-align: middle;\n",
       "    }\n",
       "\n",
       "    .dataframe tbody tr th {\n",
       "        vertical-align: top;\n",
       "    }\n",
       "\n",
       "    .dataframe thead th {\n",
       "        text-align: right;\n",
       "    }\n",
       "</style>\n",
       "<table border=\"1\" class=\"dataframe\">\n",
       "  <thead>\n",
       "    <tr style=\"text-align: right;\">\n",
       "      <th></th>\n",
       "      <th>Class</th>\n",
       "      <th>Alcohol</th>\n",
       "      <th>Ash</th>\n",
       "      <th>Alcalinity of ash</th>\n",
       "      <th>Magnesium</th>\n",
       "      <th>Total phenols</th>\n",
       "      <th>Flavanoids</th>\n",
       "      <th>Nonflavanoid phenols</th>\n",
       "      <th>Color intensity</th>\n",
       "      <th>Hue</th>\n",
       "      <th>Proline</th>\n",
       "    </tr>\n",
       "  </thead>\n",
       "  <tbody>\n",
       "    <tr>\n",
       "      <th>0</th>\n",
       "      <td>1</td>\n",
       "      <td>14.23</td>\n",
       "      <td>2.43</td>\n",
       "      <td>15.6</td>\n",
       "      <td>127</td>\n",
       "      <td>2.80</td>\n",
       "      <td>3.06</td>\n",
       "      <td>0.28</td>\n",
       "      <td>5.64</td>\n",
       "      <td>1.04</td>\n",
       "      <td>1065</td>\n",
       "    </tr>\n",
       "    <tr>\n",
       "      <th>1</th>\n",
       "      <td>1</td>\n",
       "      <td>13.20</td>\n",
       "      <td>2.14</td>\n",
       "      <td>11.2</td>\n",
       "      <td>100</td>\n",
       "      <td>2.65</td>\n",
       "      <td>2.76</td>\n",
       "      <td>0.26</td>\n",
       "      <td>4.38</td>\n",
       "      <td>1.05</td>\n",
       "      <td>1050</td>\n",
       "    </tr>\n",
       "    <tr>\n",
       "      <th>2</th>\n",
       "      <td>1</td>\n",
       "      <td>13.16</td>\n",
       "      <td>2.67</td>\n",
       "      <td>18.6</td>\n",
       "      <td>101</td>\n",
       "      <td>2.80</td>\n",
       "      <td>3.24</td>\n",
       "      <td>0.30</td>\n",
       "      <td>5.68</td>\n",
       "      <td>1.03</td>\n",
       "      <td>1185</td>\n",
       "    </tr>\n",
       "  </tbody>\n",
       "</table>\n",
       "</div>"
      ],
      "text/plain": [
       "   Class  Alcohol   Ash  Alcalinity of ash  Magnesium  Total phenols  \\\n",
       "0      1    14.23  2.43               15.6        127           2.80   \n",
       "1      1    13.20  2.14               11.2        100           2.65   \n",
       "2      1    13.16  2.67               18.6        101           2.80   \n",
       "\n",
       "   Flavanoids  Nonflavanoid phenols  Color intensity   Hue  Proline  \n",
       "0        3.06                  0.28             5.64  1.04     1065  \n",
       "1        2.76                  0.26             4.38  1.05     1050  \n",
       "2        3.24                  0.30             5.68  1.03     1185  "
      ]
     },
     "execution_count": 137,
     "metadata": {},
     "output_type": "execute_result"
    }
   ],
   "source": [
    "df = pd.read_csv('wine_class.csv')\n",
    "df.head(3)"
   ]
  },
  {
   "cell_type": "code",
   "execution_count": 125,
   "metadata": {
    "executionInfo": {
     "elapsed": 4,
     "status": "ok",
     "timestamp": 1748071328399,
     "user": {
      "displayName": "Yamakawa Kohsuke",
      "userId": "01012167664541397279"
     },
     "user_tz": -540
    },
    "id": "zMafD8r0nEZg"
   },
   "outputs": [],
   "source": [
    "# 入力変数と目的変数の切り分け\n",
    "x = df.drop(['Class'], axis=1).values\n",
    "t = df['Class'].values"
   ]
  },
  {
   "cell_type": "code",
   "execution_count": 131,
   "metadata": {
    "colab": {
     "base_uri": "https://localhost:8080/"
    },
    "executionInfo": {
     "elapsed": 70,
     "status": "ok",
     "timestamp": 1748071338968,
     "user": {
      "displayName": "Yamakawa Kohsuke",
      "userId": "01012167664541397279"
     },
     "user_tz": -540
    },
    "id": "N7TQUhtHnEgd",
    "outputId": "50ecdc62-9b4f-4eaf-bf7d-6d523089283c"
   },
   "outputs": [
    {
     "name": "stdout",
     "output_type": "stream",
     "text": [
      "(178, 10) (178,)\n",
      "float64 int64\n"
     ]
    }
   ],
   "source": [
    "# それぞれの形、データ型の確認\n",
    "print(x.shape, t.shape)\n",
    "print(x.dtype, t.dtype)"
   ]
  },
  {
   "cell_type": "code",
   "execution_count": 132,
   "metadata": {
    "colab": {
     "base_uri": "https://localhost:8080/"
    },
    "executionInfo": {
     "elapsed": 17,
     "status": "ok",
     "timestamp": 1748071339834,
     "user": {
      "displayName": "Yamakawa Kohsuke",
      "userId": "01012167664541397279"
     },
     "user_tz": -540
    },
    "id": "n19DKDYQnEsi",
    "outputId": "693b1a22-6d76-4d11-acd5-b384efb693cd"
   },
   "outputs": [
    {
     "data": {
      "text/plain": [
       "array([1, 2, 3])"
      ]
     },
     "execution_count": 140,
     "metadata": {},
     "output_type": "execute_result"
    }
   ],
   "source": [
    "# 目標値の最小値が 0 であることを確認\n",
    "np.unique(t)"
   ]
  },
  {
   "cell_type": "markdown",
   "metadata": {
    "id": "gUr0ce0Kuys3"
   },
   "source": [
    "今回は目標値が 1 から始まっているため、0 から始まるように処理を加えます。"
   ]
  },
  {
   "cell_type": "code",
   "execution_count": 133,
   "metadata": {
    "colab": {
     "base_uri": "https://localhost:8080/"
    },
    "executionInfo": {
     "elapsed": 8,
     "status": "ok",
     "timestamp": 1748071341021,
     "user": {
      "displayName": "Yamakawa Kohsuke",
      "userId": "01012167664541397279"
     },
     "user_tz": -540
    },
    "id": "RlFOD5qsnEok",
    "outputId": "ee6169ee-d384-43cf-faa6-68862bed5123"
   },
   "outputs": [
    {
     "data": {
      "text/plain": [
       "array([0, 1, 2])"
      ]
     },
     "execution_count": 141,
     "metadata": {},
     "output_type": "execute_result"
    }
   ],
   "source": [
    "# -1 し、0 からラベルが始まるように変更\n",
    "t = t - 1\n",
    "np.unique(t)"
   ]
  },
  {
   "cell_type": "markdown",
   "metadata": {
    "id": "W8Z7cti1nr_A"
   },
   "source": [
    "**学習用データセットとテスト用データセットの切り分け**"
   ]
  },
  {
   "cell_type": "code",
   "execution_count": 134,
   "metadata": {
    "executionInfo": {
     "elapsed": 4,
     "status": "ok",
     "timestamp": 1748071345665,
     "user": {
      "displayName": "Yamakawa Kohsuke",
      "userId": "01012167664541397279"
     },
     "user_tz": -540
    },
    "id": "rnCd5sA1oYGv"
   },
   "outputs": [],
   "source": [
    "from sklearn.model_selection import train_test_split\n",
    "x_train, x_test, t_train, t_test = train_test_split(x, t, test_size=0.3, random_state=0)"
   ]
  },
  {
   "cell_type": "code",
   "execution_count": 135,
   "metadata": {
    "colab": {
     "base_uri": "https://localhost:8080/"
    },
    "executionInfo": {
     "elapsed": 18,
     "status": "ok",
     "timestamp": 1748071348197,
     "user": {
      "displayName": "Yamakawa Kohsuke",
      "userId": "01012167664541397279"
     },
     "user_tz": -540
    },
    "id": "sfpcstNgoYG6",
    "outputId": "5ba99d3e-707e-4acd-f748-8d0d24821f6e"
   },
   "outputs": [
    {
     "data": {
      "text/plain": [
       "((124, 10), (54, 10))"
      ]
     },
     "execution_count": 143,
     "metadata": {},
     "output_type": "execute_result"
    }
   ],
   "source": [
    "x_train.shape, x_test.shape"
   ]
  },
  {
   "cell_type": "markdown",
   "metadata": {
    "id": "u4ucQEFJoYHK"
   },
   "source": [
    "#### モデルの定義"
   ]
  },
  {
   "cell_type": "code",
   "execution_count": 137,
   "metadata": {
    "executionInfo": {
     "elapsed": 5,
     "status": "ok",
     "timestamp": 1748071359167,
     "user": {
      "displayName": "Yamakawa Kohsuke",
      "userId": "01012167664541397279"
     },
     "user_tz": -540
    },
    "id": "lZhcDOTboYHL"
   },
   "outputs": [],
   "source": [
    "import os, random\n",
    "\n",
    "def reset_seed(seed=0):\n",
    "    os.environ['PYTHONHASHSEED'] = '0'\n",
    "    random.seed(seed)\n",
    "    np.random.seed(seed)\n",
    "    tf.random.set_seed(seed)"
   ]
  },
  {
   "cell_type": "code",
   "execution_count": null,
   "metadata": {
    "id": "97BwrInnoYHd"
   },
   "outputs": [
    {
     "data": {
      "text/plain": [
       "(10, 3)"
      ]
     },
     "execution_count": 145,
     "metadata": {},
     "output_type": "execute_result"
    }
   ],
   "source": [
    "# 入力・出力層のノードの数を定義\n",
    "n_input, n_output = len(x_train[0]), len(np.unique(t_train))\n",
    "n_input, n_output"
   ]
  },
  {
   "cell_type": "markdown",
   "metadata": {
    "id": "BGARg1PBqztq"
   },
   "source": [
    "使用するデータセットの入力変数同士のスケールが異なるため、バッチノーマリゼーション層を組み込み、ミニバッチごとのスケールを統一します。"
   ]
  },
  {
   "cell_type": "code",
   "execution_count": 145,
   "metadata": {
    "executionInfo": {
     "elapsed": 89,
     "status": "ok",
     "timestamp": 1748071787323,
     "user": {
      "displayName": "Yamakawa Kohsuke",
      "userId": "01012167664541397279"
     },
     "user_tz": -540
    },
    "id": "SiXYpZc7oYHh"
   },
   "outputs": [],
   "source": [
    "# シードの固定\n",
    "reset_seed(1002)\n",
    "\n",
    "# モデルのインスタンス化\n",
    "model = models.Sequential()\n",
    "\n",
    "\n",
    "# モデルの構築\n",
    "model.addshape=((n_input,)) # バッチノーマリゼーションの層を追加\n",
    "model.add(layers.BatchNormalization())\n",
    "model.add(layers.Dense(10, activation='relu'))\n",
    "model.add(layers.Dense(n_output, activation='softmax'))"
   ]
  },
  {
   "cell_type": "markdown",
   "metadata": {
    "id": "RVbnTgQboYHs"
   },
   "source": [
    "#### モデルの可視化"
   ]
  },
  {
   "cell_type": "code",
   "execution_count": 146,
   "metadata": {
    "colab": {
     "base_uri": "https://localhost:8080/",
     "height": 248
    },
    "executionInfo": {
     "elapsed": 33,
     "status": "ok",
     "timestamp": 1748071827010,
     "user": {
      "displayName": "Yamakawa Kohsuke",
      "userId": "01012167664541397279"
     },
     "user_tz": -540
    },
    "id": "d8xuihxXoYH4",
    "outputId": "47dab730-d757-45df-ff67-0a745e520284"
   },
   "outputs": [
    {
     "data": {
      "text/html": [
       "<pre style=\"white-space:pre;overflow-x:auto;line-height:normal;font-family:Menlo,'DejaVu Sans Mono',consolas,'Courier New',monospace\"><span style=\"font-weight: bold\">Model: \"sequential_9\"</span>\n",
       "</pre>\n"
      ],
      "text/plain": [
       "\u001b[1mModel: \"sequential_9\"\u001b[0m\n"
      ]
     },
     "metadata": {},
     "output_type": "display_data"
    },
    {
     "data": {
      "text/html": [
       "<pre style=\"white-space:pre;overflow-x:auto;line-height:normal;font-family:Menlo,'DejaVu Sans Mono',consolas,'Courier New',monospace\">┏━━━━━━━━━━━━━━━━━━━━━━━━━━━━━━━━━┳━━━━━━━━━━━━━━━━━━━━━━━━┳━━━━━━━━━━━━━━━┓\n",
       "┃<span style=\"font-weight: bold\"> Layer (type)                    </span>┃<span style=\"font-weight: bold\"> Output Shape           </span>┃<span style=\"font-weight: bold\">       Param # </span>┃\n",
       "┡━━━━━━━━━━━━━━━━━━━━━━━━━━━━━━━━━╇━━━━━━━━━━━━━━━━━━━━━━━━╇━━━━━━━━━━━━━━━┩\n",
       "│ batch_normalization_3           │ ?                      │   <span style=\"color: #00af00; text-decoration-color: #00af00\">0</span> (unbuilt) │\n",
       "│ (<span style=\"color: #0087ff; text-decoration-color: #0087ff\">BatchNormalization</span>)            │                        │               │\n",
       "├─────────────────────────────────┼────────────────────────┼───────────────┤\n",
       "│ dense_18 (<span style=\"color: #0087ff; text-decoration-color: #0087ff\">Dense</span>)                │ ?                      │   <span style=\"color: #00af00; text-decoration-color: #00af00\">0</span> (unbuilt) │\n",
       "├─────────────────────────────────┼────────────────────────┼───────────────┤\n",
       "│ dense_19 (<span style=\"color: #0087ff; text-decoration-color: #0087ff\">Dense</span>)                │ ?                      │   <span style=\"color: #00af00; text-decoration-color: #00af00\">0</span> (unbuilt) │\n",
       "└─────────────────────────────────┴────────────────────────┴───────────────┘\n",
       "</pre>\n"
      ],
      "text/plain": [
       "┏━━━━━━━━━━━━━━━━━━━━━━━━━━━━━━━━━┳━━━━━━━━━━━━━━━━━━━━━━━━┳━━━━━━━━━━━━━━━┓\n",
       "┃\u001b[1m \u001b[0m\u001b[1mLayer (type)                   \u001b[0m\u001b[1m \u001b[0m┃\u001b[1m \u001b[0m\u001b[1mOutput Shape          \u001b[0m\u001b[1m \u001b[0m┃\u001b[1m \u001b[0m\u001b[1m      Param #\u001b[0m\u001b[1m \u001b[0m┃\n",
       "┡━━━━━━━━━━━━━━━━━━━━━━━━━━━━━━━━━╇━━━━━━━━━━━━━━━━━━━━━━━━╇━━━━━━━━━━━━━━━┩\n",
       "│ batch_normalization_3           │ ?                      │   \u001b[38;5;34m0\u001b[0m (unbuilt) │\n",
       "│ (\u001b[38;5;33mBatchNormalization\u001b[0m)            │                        │               │\n",
       "├─────────────────────────────────┼────────────────────────┼───────────────┤\n",
       "│ dense_18 (\u001b[38;5;33mDense\u001b[0m)                │ ?                      │   \u001b[38;5;34m0\u001b[0m (unbuilt) │\n",
       "├─────────────────────────────────┼────────────────────────┼───────────────┤\n",
       "│ dense_19 (\u001b[38;5;33mDense\u001b[0m)                │ ?                      │   \u001b[38;5;34m0\u001b[0m (unbuilt) │\n",
       "└─────────────────────────────────┴────────────────────────┴───────────────┘\n"
      ]
     },
     "metadata": {},
     "output_type": "display_data"
    },
    {
     "data": {
      "text/html": [
       "<pre style=\"white-space:pre;overflow-x:auto;line-height:normal;font-family:Menlo,'DejaVu Sans Mono',consolas,'Courier New',monospace\"><span style=\"font-weight: bold\"> Total params: </span><span style=\"color: #00af00; text-decoration-color: #00af00\">0</span> (0.00 B)\n",
       "</pre>\n"
      ],
      "text/plain": [
       "\u001b[1m Total params: \u001b[0m\u001b[38;5;34m0\u001b[0m (0.00 B)\n"
      ]
     },
     "metadata": {},
     "output_type": "display_data"
    },
    {
     "data": {
      "text/html": [
       "<pre style=\"white-space:pre;overflow-x:auto;line-height:normal;font-family:Menlo,'DejaVu Sans Mono',consolas,'Courier New',monospace\"><span style=\"font-weight: bold\"> Trainable params: </span><span style=\"color: #00af00; text-decoration-color: #00af00\">0</span> (0.00 B)\n",
       "</pre>\n"
      ],
      "text/plain": [
       "\u001b[1m Trainable params: \u001b[0m\u001b[38;5;34m0\u001b[0m (0.00 B)\n"
      ]
     },
     "metadata": {},
     "output_type": "display_data"
    },
    {
     "data": {
      "text/html": [
       "<pre style=\"white-space:pre;overflow-x:auto;line-height:normal;font-family:Menlo,'DejaVu Sans Mono',consolas,'Courier New',monospace\"><span style=\"font-weight: bold\"> Non-trainable params: </span><span style=\"color: #00af00; text-decoration-color: #00af00\">0</span> (0.00 B)\n",
       "</pre>\n"
      ],
      "text/plain": [
       "\u001b[1m Non-trainable params: \u001b[0m\u001b[38;5;34m0\u001b[0m (0.00 B)\n"
      ]
     },
     "metadata": {},
     "output_type": "display_data"
    }
   ],
   "source": [
    "model.summary()"
   ]
  },
  {
   "cell_type": "markdown",
   "metadata": {
    "id": "Uz2oICoroYIF"
   },
   "source": [
    "#### 目的関数・最適化手法の選択"
   ]
  },
  {
   "cell_type": "code",
   "execution_count": 147,
   "metadata": {
    "executionInfo": {
     "elapsed": 20,
     "status": "ok",
     "timestamp": 1748071875459,
     "user": {
      "displayName": "Yamakawa Kohsuke",
      "userId": "01012167664541397279"
     },
     "user_tz": -540
    },
    "id": "qiXUKs39oYII"
   },
   "outputs": [],
   "source": [
    "# モデルのコンパイル\n",
    "model.compile(optimizer='sgd',\n",
    "               loss='sparse_categorical_crossentropy',\n",
    "               metrics=['accuracy'])"
   ]
  },
  {
   "cell_type": "markdown",
   "metadata": {
    "id": "gYj4dSA9oYIP"
   },
   "source": [
    "#### モデルの学習"
   ]
  },
  {
   "cell_type": "code",
   "execution_count": 149,
   "metadata": {
    "colab": {
     "base_uri": "https://localhost:8080/"
    },
    "executionInfo": {
     "elapsed": 5333,
     "status": "ok",
     "timestamp": 1748071928443,
     "user": {
      "displayName": "Yamakawa Kohsuke",
      "userId": "01012167664541397279"
     },
     "user_tz": -540
    },
    "id": "-B1olGABoYIR",
    "outputId": "a70e4a99-05e3-4e6d-c520-15caddee2a39"
   },
   "outputs": [
    {
     "name": "stdout",
     "output_type": "stream",
     "text": [
      "Epoch 1/30\n",
      "\u001b[1m13/13\u001b[0m \u001b[32m━━━━━━━━━━━━━━━━━━━━\u001b[0m\u001b[37m\u001b[0m \u001b[1m0s\u001b[0m 9ms/step - accuracy: 0.5257 - loss: 0.9708 - val_accuracy: 0.5741 - val_loss: 1.7339\n",
      "Epoch 2/30\n",
      "\u001b[1m13/13\u001b[0m \u001b[32m━━━━━━━━━━━━━━━━━━━━\u001b[0m\u001b[37m\u001b[0m \u001b[1m0s\u001b[0m 3ms/step - accuracy: 0.5757 - loss: 0.8960 - val_accuracy: 0.5370 - val_loss: 1.2832\n",
      "Epoch 3/30\n",
      "\u001b[1m13/13\u001b[0m \u001b[32m━━━━━━━━━━━━━━━━━━━━\u001b[0m\u001b[37m\u001b[0m \u001b[1m0s\u001b[0m 3ms/step - accuracy: 0.5998 - loss: 0.8327 - val_accuracy: 0.4815 - val_loss: 1.1369\n",
      "Epoch 4/30\n",
      "\u001b[1m13/13\u001b[0m \u001b[32m━━━━━━━━━━━━━━━━━━━━\u001b[0m\u001b[37m\u001b[0m \u001b[1m0s\u001b[0m 3ms/step - accuracy: 0.6413 - loss: 0.7796 - val_accuracy: 0.4630 - val_loss: 1.0557\n",
      "Epoch 5/30\n",
      "\u001b[1m13/13\u001b[0m \u001b[32m━━━━━━━━━━━━━━━━━━━━\u001b[0m\u001b[37m\u001b[0m \u001b[1m0s\u001b[0m 3ms/step - accuracy: 0.7055 - loss: 0.7342 - val_accuracy: 0.4630 - val_loss: 0.9950\n",
      "Epoch 6/30\n",
      "\u001b[1m13/13\u001b[0m \u001b[32m━━━━━━━━━━━━━━━━━━━━\u001b[0m\u001b[37m\u001b[0m \u001b[1m0s\u001b[0m 3ms/step - accuracy: 0.7330 - loss: 0.6940 - val_accuracy: 0.4815 - val_loss: 0.9360\n",
      "Epoch 7/30\n",
      "\u001b[1m13/13\u001b[0m \u001b[32m━━━━━━━━━━━━━━━━━━━━\u001b[0m\u001b[37m\u001b[0m \u001b[1m0s\u001b[0m 3ms/step - accuracy: 0.8059 - loss: 0.6578 - val_accuracy: 0.5185 - val_loss: 0.8754\n",
      "Epoch 8/30\n",
      "\u001b[1m13/13\u001b[0m \u001b[32m━━━━━━━━━━━━━━━━━━━━\u001b[0m\u001b[37m\u001b[0m \u001b[1m0s\u001b[0m 3ms/step - accuracy: 0.8143 - loss: 0.6252 - val_accuracy: 0.5741 - val_loss: 0.8130\n",
      "Epoch 9/30\n",
      "\u001b[1m13/13\u001b[0m \u001b[32m━━━━━━━━━━━━━━━━━━━━\u001b[0m\u001b[37m\u001b[0m \u001b[1m0s\u001b[0m 3ms/step - accuracy: 0.8341 - loss: 0.5951 - val_accuracy: 0.6111 - val_loss: 0.7501\n",
      "Epoch 10/30\n",
      "\u001b[1m13/13\u001b[0m \u001b[32m━━━━━━━━━━━━━━━━━━━━\u001b[0m\u001b[37m\u001b[0m \u001b[1m0s\u001b[0m 3ms/step - accuracy: 0.8556 - loss: 0.5663 - val_accuracy: 0.6296 - val_loss: 0.6895\n",
      "Epoch 11/30\n",
      "\u001b[1m13/13\u001b[0m \u001b[32m━━━━━━━━━━━━━━━━━━━━\u001b[0m\u001b[37m\u001b[0m \u001b[1m0s\u001b[0m 3ms/step - accuracy: 0.8595 - loss: 0.5391 - val_accuracy: 0.7037 - val_loss: 0.6324\n",
      "Epoch 12/30\n",
      "\u001b[1m13/13\u001b[0m \u001b[32m━━━━━━━━━━━━━━━━━━━━\u001b[0m\u001b[37m\u001b[0m \u001b[1m0s\u001b[0m 3ms/step - accuracy: 0.8698 - loss: 0.5131 - val_accuracy: 0.7778 - val_loss: 0.5811\n",
      "Epoch 13/30\n",
      "\u001b[1m13/13\u001b[0m \u001b[32m━━━━━━━━━━━━━━━━━━━━\u001b[0m\u001b[37m\u001b[0m \u001b[1m0s\u001b[0m 3ms/step - accuracy: 0.8737 - loss: 0.4885 - val_accuracy: 0.8519 - val_loss: 0.5348\n",
      "Epoch 14/30\n",
      "\u001b[1m13/13\u001b[0m \u001b[32m━━━━━━━━━━━━━━━━━━━━\u001b[0m\u001b[37m\u001b[0m \u001b[1m0s\u001b[0m 3ms/step - accuracy: 0.8737 - loss: 0.4648 - val_accuracy: 0.8889 - val_loss: 0.4919\n",
      "Epoch 15/30\n",
      "\u001b[1m13/13\u001b[0m \u001b[32m━━━━━━━━━━━━━━━━━━━━\u001b[0m\u001b[37m\u001b[0m \u001b[1m0s\u001b[0m 3ms/step - accuracy: 0.8994 - loss: 0.4420 - val_accuracy: 0.8889 - val_loss: 0.4553\n",
      "Epoch 16/30\n",
      "\u001b[1m13/13\u001b[0m \u001b[32m━━━━━━━━━━━━━━━━━━━━\u001b[0m\u001b[37m\u001b[0m \u001b[1m0s\u001b[0m 3ms/step - accuracy: 0.9120 - loss: 0.4201 - val_accuracy: 0.9074 - val_loss: 0.4225\n",
      "Epoch 17/30\n",
      "\u001b[1m13/13\u001b[0m \u001b[32m━━━━━━━━━━━━━━━━━━━━\u001b[0m\u001b[37m\u001b[0m \u001b[1m0s\u001b[0m 3ms/step - accuracy: 0.9246 - loss: 0.3996 - val_accuracy: 0.9074 - val_loss: 0.3924\n",
      "Epoch 18/30\n",
      "\u001b[1m13/13\u001b[0m \u001b[32m━━━━━━━━━━━━━━━━━━━━\u001b[0m\u001b[37m\u001b[0m \u001b[1m0s\u001b[0m 3ms/step - accuracy: 0.9497 - loss: 0.3807 - val_accuracy: 0.9074 - val_loss: 0.3666\n",
      "Epoch 19/30\n",
      "\u001b[1m13/13\u001b[0m \u001b[32m━━━━━━━━━━━━━━━━━━━━\u001b[0m\u001b[37m\u001b[0m \u001b[1m0s\u001b[0m 3ms/step - accuracy: 0.9497 - loss: 0.3629 - val_accuracy: 0.9259 - val_loss: 0.3441\n",
      "Epoch 20/30\n",
      "\u001b[1m13/13\u001b[0m \u001b[32m━━━━━━━━━━━━━━━━━━━━\u001b[0m\u001b[37m\u001b[0m \u001b[1m0s\u001b[0m 3ms/step - accuracy: 0.9514 - loss: 0.3461 - val_accuracy: 0.9259 - val_loss: 0.3248\n",
      "Epoch 21/30\n",
      "\u001b[1m13/13\u001b[0m \u001b[32m━━━━━━━━━━━━━━━━━━━━\u001b[0m\u001b[37m\u001b[0m \u001b[1m0s\u001b[0m 3ms/step - accuracy: 0.9514 - loss: 0.3302 - val_accuracy: 0.9444 - val_loss: 0.3068\n",
      "Epoch 22/30\n",
      "\u001b[1m13/13\u001b[0m \u001b[32m━━━━━━━━━━━━━━━━━━━━\u001b[0m\u001b[37m\u001b[0m \u001b[1m0s\u001b[0m 3ms/step - accuracy: 0.9430 - loss: 0.3153 - val_accuracy: 0.9444 - val_loss: 0.2899\n",
      "Epoch 23/30\n",
      "\u001b[1m13/13\u001b[0m \u001b[32m━━━━━━━━━━━━━━━━━━━━\u001b[0m\u001b[37m\u001b[0m \u001b[1m0s\u001b[0m 3ms/step - accuracy: 0.9430 - loss: 0.3013 - val_accuracy: 0.9444 - val_loss: 0.2744\n",
      "Epoch 24/30\n",
      "\u001b[1m13/13\u001b[0m \u001b[32m━━━━━━━━━━━━━━━━━━━━\u001b[0m\u001b[37m\u001b[0m \u001b[1m0s\u001b[0m 4ms/step - accuracy: 0.9448 - loss: 0.2885 - val_accuracy: 0.9444 - val_loss: 0.2597\n",
      "Epoch 25/30\n",
      "\u001b[1m13/13\u001b[0m \u001b[32m━━━━━━━━━━━━━━━━━━━━\u001b[0m\u001b[37m\u001b[0m \u001b[1m0s\u001b[0m 3ms/step - accuracy: 0.9448 - loss: 0.2765 - val_accuracy: 0.9444 - val_loss: 0.2463\n",
      "Epoch 26/30\n",
      "\u001b[1m13/13\u001b[0m \u001b[32m━━━━━━━━━━━━━━━━━━━━\u001b[0m\u001b[37m\u001b[0m \u001b[1m0s\u001b[0m 3ms/step - accuracy: 0.9448 - loss: 0.2654 - val_accuracy: 0.9444 - val_loss: 0.2340\n",
      "Epoch 27/30\n",
      "\u001b[1m13/13\u001b[0m \u001b[32m━━━━━━━━━━━━━━━━━━━━\u001b[0m\u001b[37m\u001b[0m \u001b[1m0s\u001b[0m 3ms/step - accuracy: 0.9448 - loss: 0.2551 - val_accuracy: 0.9444 - val_loss: 0.2226\n",
      "Epoch 28/30\n",
      "\u001b[1m13/13\u001b[0m \u001b[32m━━━━━━━━━━━━━━━━━━━━\u001b[0m\u001b[37m\u001b[0m \u001b[1m0s\u001b[0m 3ms/step - accuracy: 0.9448 - loss: 0.2455 - val_accuracy: 0.9444 - val_loss: 0.2121\n",
      "Epoch 29/30\n",
      "\u001b[1m13/13\u001b[0m \u001b[32m━━━━━━━━━━━━━━━━━━━━\u001b[0m\u001b[37m\u001b[0m \u001b[1m0s\u001b[0m 3ms/step - accuracy: 0.9448 - loss: 0.2366 - val_accuracy: 0.9444 - val_loss: 0.2025\n",
      "Epoch 30/30\n",
      "\u001b[1m13/13\u001b[0m \u001b[32m━━━━━━━━━━━━━━━━━━━━\u001b[0m\u001b[37m\u001b[0m \u001b[1m0s\u001b[0m 3ms/step - accuracy: 0.9448 - loss: 0.2284 - val_accuracy: 0.9444 - val_loss: 0.1937\n"
     ]
    }
   ],
   "source": [
    "# モデルの学習\n",
    "history = model.fit(x_train, t_train,\n",
    "          batch_size=10,\n",
    "          epochs=30,\n",
    "          validation_data=(x_test, t_test),\n",
    "          )"
   ]
  },
  {
   "cell_type": "markdown",
   "metadata": {
    "id": "BpROSe1AoYIe"
   },
   "source": [
    "#### 予測精度の評価"
   ]
  },
  {
   "cell_type": "code",
   "execution_count": 151,
   "metadata": {
    "executionInfo": {
     "elapsed": 45,
     "status": "ok",
     "timestamp": 1748071966188,
     "user": {
      "displayName": "Yamakawa Kohsuke",
      "userId": "01012167664541397279"
     },
     "user_tz": -540
    },
    "id": "TcPopD1qoYIf"
   },
   "outputs": [],
   "source": [
    "# 学習結果を取得\n",
    "results = pd.DataFrame(history.history)"
   ]
  },
  {
   "cell_type": "code",
   "execution_count": 152,
   "metadata": {
    "colab": {
     "base_uri": "https://localhost:8080/",
     "height": 489
    },
    "executionInfo": {
     "elapsed": 190,
     "status": "ok",
     "timestamp": 1748071988011,
     "user": {
      "displayName": "Yamakawa Kohsuke",
      "userId": "01012167664541397279"
     },
     "user_tz": -540
    },
    "id": "8_yUAv1DoYIt",
    "outputId": "9ea2a074-6d6a-4fc6-c2e4-0fd8b8ae3d4d"
   },
   "outputs": [
    {
     "data": {
      "text/plain": [
       "Text(0.5, 0, 'epochs')"
      ]
     },
     "execution_count": 151,
     "metadata": {},
     "output_type": "execute_result"
    },
    {
     "data": {
      "image/png": "[encoded data removed]",
      "text/plain": [
       "<Figure size 640x480 with 1 Axes>"
      ]
     },
     "metadata": {},
     "output_type": "display_data"
    }
   ],
   "source": [
    "# 損失を可視化\n",
    "results[['loss', 'val_loss']].plot(title='loss')\n",
    "plt.xlabel('epochs')"
   ]
  },
  {
   "cell_type": "code",
   "execution_count": 154,
   "metadata": {
    "colab": {
     "base_uri": "https://localhost:8080/",
     "height": 489
    },
    "executionInfo": {
     "elapsed": 200,
     "status": "ok",
     "timestamp": 1748072103603,
     "user": {
      "displayName": "Yamakawa Kohsuke",
      "userId": "01012167664541397279"
     },
     "user_tz": -540
    },
    "id": "_6Xp-VBZoMhQ",
    "outputId": "f2a5538b-b5bd-4ba7-ddae-7b75b2078ff0"
   },
   "outputs": [
    {
     "data": {
      "text/plain": [
       "Text(0.5, 0, 'epochs')"
      ]
     },
     "execution_count": 152,
     "metadata": {},
     "output_type": "execute_result"
    },
    {
     "data": {
      "image/png": "[encoded data removed]",
      "text/plain": [
       "<Figure size 640x480 with 1 Axes>"
      ]
     },
     "metadata": {},
     "output_type": "display_data"
    }
   ],
   "source": [
    "# 正解率を可視化\n",
    "results[['accuracy', 'val_accuracy']].plot(title='metric')\n",
    "plt.xlabel('epochs')"
   ]
  },
  {
   "cell_type": "markdown",
   "metadata": {
    "id": "5WUw3VdTsH5_"
   },
   "source": [
    "テスト用データセットに対する正解率が約 98% となっており、高い予測精度が確認できました。\n",
    "\n",
    "\n",
    "#### 学習済みモデルの保存と推論\n",
    "\n",
    "ファイルを `saved_model2` とし、学習済みモデルの保存を行います。"
   ]
  },
  {
   "cell_type": "code",
   "execution_count": 155,
   "metadata": {
    "executionInfo": {
     "elapsed": 35,
     "status": "ok",
     "timestamp": 1748072107773,
     "user": {
      "displayName": "Yamakawa Kohsuke",
      "userId": "01012167664541397279"
     },
     "user_tz": -540
    },
    "id": "ieAPK7CisIeL"
   },
   "outputs": [],
   "source": [
    "# 学習済みモデルの保存\n",
    "model.save('./content/saved_model2.keras')"
   ]
  },
  {
   "cell_type": "markdown",
   "metadata": {
    "id": "XEPQFup9VKrP"
   },
   "source": [
    "---\n",
    "© 株式会社キカガク及び国立大学法人 豊橋技術科学大学"
   ]
  }
 ],
 "metadata": {
  "accelerator": "GPU",
  "colab": {
   "gpuType": "T4",
   "provenance": []
  },
  "kernelspec": {
   "display_name": ".venv",
   "language": "python",
   "name": "python3"
  },
  "language_info": {
   "codemirror_mode": {
    "name": "ipython",
    "version": 3
   },
   "file_extension": ".py",
   "mimetype": "text/x-python",
   "name": "python",
   "nbconvert_exporter": "python",
   "pygments_lexer": "ipython3",
   "version": "3.12.3"
  }
 },
 "nbformat": 4,
 "nbformat_minor": 0
}
