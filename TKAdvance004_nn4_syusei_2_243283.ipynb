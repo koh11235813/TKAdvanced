{
  "cells": [
    {
      "cell_type": "markdown",
      "metadata": {
        "id": "qNFrk5CBSMNY"
      },
      "source": [
        "# ニューラルネットワークの実装 2 （回帰）\n",
        "\n",
        "本章では TensorFlow を使用して回帰の問題設定に対する実装方法を学んでいきます。基本的には分類と同様の手順で実装を行うことが可能です。  \n",
        "できる方は本章を読み進める前にご自身で実装を行ってみて下さい。  \n",
        "\n",
        "本章では少し発展的な TensorFlow の実装方法についても紹介していきます。"
      ]
    },
    {
      "cell_type": "markdown",
      "metadata": {
        "id": "4G31zY-4SrOc"
      },
      "source": [
        "## 本章の構成\n",
        "\n",
        "- データセットの準備\n",
        "- モデルの定義\n",
        "- 目的関数・最適化手法の選択\n",
        "- モデルの学習\n",
        "- 予測精度の評価"
      ]
    },
    {
      "cell_type": "markdown",
      "metadata": {
        "id": "EHlMmWlCS59q"
      },
      "source": [
        "## データセットの準備\n",
        "\n",
        "必要なモジュールのインポートとデータセットの読み込みを行います。  \n",
        "今回使用するデータセットは scikit-learn に準備されているボストン市の家賃に関するデータセットを用います。  \n",
        "\n",
        "目的変数に家賃 (Target)、入力変数に住宅に関する情報を持つデータセットで、家賃を予測する回帰の問題設定になります。  \n",
        "\n",
        "データセットの詳細に関しては[こちら](https://scikit-learn.org/stable/datasets/index.html#boston-dataset)を参照して下さい。  "
      ]
    },
    {
      "cell_type": "code",
      "execution_count": 1,
      "metadata": {
        "id": "YbVP3hIeTJ-Q"
      },
      "outputs": [
        {
          "name": "stderr",
          "output_type": "stream",
          "text": [
            "2025-06-03 11:30:32.955714: I tensorflow/core/util/port.cc:153] oneDNN custom operations are on. You may see slightly different numerical results due to floating-point round-off errors from different computation orders. To turn them off, set the environment variable `TF_ENABLE_ONEDNN_OPTS=0`.\n",
            "2025-06-03 11:30:32.956190: I external/local_xla/xla/tsl/cuda/cudart_stub.cc:32] Could not find cuda drivers on your machine, GPU will not be used.\n",
            "2025-06-03 11:30:32.958227: I external/local_xla/xla/tsl/cuda/cudart_stub.cc:32] Could not find cuda drivers on your machine, GPU will not be used.\n",
            "2025-06-03 11:30:32.963515: E external/local_xla/xla/stream_executor/cuda/cuda_fft.cc:467] Unable to register cuFFT factory: Attempting to register factory for plugin cuFFT when one has already been registered\n",
            "WARNING: All log messages before absl::InitializeLog() is called are written to STDERR\n",
            "E0000 00:00:1748917832.972414  989598 cuda_dnn.cc:8579] Unable to register cuDNN factory: Attempting to register factory for plugin cuDNN when one has already been registered\n",
            "E0000 00:00:1748917832.974929  989598 cuda_blas.cc:1407] Unable to register cuBLAS factory: Attempting to register factory for plugin cuBLAS when one has already been registered\n",
            "W0000 00:00:1748917832.982347  989598 computation_placer.cc:177] computation placer already registered. Please check linkage and avoid linking the same target more than once.\n",
            "W0000 00:00:1748917832.982355  989598 computation_placer.cc:177] computation placer already registered. Please check linkage and avoid linking the same target more than once.\n",
            "W0000 00:00:1748917832.982356  989598 computation_placer.cc:177] computation placer already registered. Please check linkage and avoid linking the same target more than once.\n",
            "W0000 00:00:1748917832.982357  989598 computation_placer.cc:177] computation placer already registered. Please check linkage and avoid linking the same target more than once.\n",
            "2025-06-03 11:30:32.984912: I tensorflow/core/platform/cpu_feature_guard.cc:210] This TensorFlow binary is optimized to use available CPU instructions in performance-critical operations.\n",
            "To enable the following instructions: AVX2 AVX_VNNI FMA, in other operations, rebuild TensorFlow with the appropriate compiler flags.\n"
          ]
        },
        {
          "name": "stdout",
          "output_type": "stream",
          "text": [
            "Name: scikit-learn\n",
            "Version: 1.6.1\n",
            "Summary: A set of python modules for machine learning and data mining\n",
            "Home-page: \n",
            "Author: \n",
            "Author-email: \n",
            "License: BSD 3-Clause License\n",
            "\n",
            " Copyright (c) 2007-2024 The scikit-learn developers.\n",
            " All rights reserved.\n",
            "\n",
            " Redistribution and use in source and binary forms, with or without\n",
            " modification, are permitted provided that the following conditions are met:\n",
            "\n",
            " * Redistributions of source code must retain the above copyright notice, this\n",
            "   list of conditions and the following disclaimer.\n",
            "\n",
            " * Redistributions in binary form must reproduce the above copyright notice,\n",
            "   this list of conditions and the following disclaimer in the documentation\n",
            "   and/or other materials provided with the distribution.\n",
            "\n",
            " * Neither the name of the copyright holder nor the names of its\n",
            "   contributors may be used to endorse or promote products derived from\n",
            "   this software without specific prior written permission.\n",
            "\n",
            " THIS SOFTWARE IS PROVIDED BY THE COPYRIGHT HOLDERS AND CONTRIBUTORS \"AS IS\"\n",
            " AND ANY EXPRESS OR IMPLIED WARRANTIES, INCLUDING, BUT NOT LIMITED TO, THE\n",
            " IMPLIED WARRANTIES OF MERCHANTABILITY AND FITNESS FOR A PARTICULAR PURPOSE ARE\n",
            " DISCLAIMED. IN NO EVENT SHALL THE COPYRIGHT HOLDER OR CONTRIBUTORS BE LIABLE\n",
            " FOR ANY DIRECT, INDIRECT, INCIDENTAL, SPECIAL, EXEMPLARY, OR CONSEQUENTIAL\n",
            " DAMAGES (INCLUDING, BUT NOT LIMITED TO, PROCUREMENT OF SUBSTITUTE GOODS OR\n",
            " SERVICES; LOSS OF USE, DATA, OR PROFITS; OR BUSINESS INTERRUPTION) HOWEVER\n",
            " CAUSED AND ON ANY THEORY OF LIABILITY, WHETHER IN CONTRACT, STRICT LIABILITY,\n",
            " OR TORT (INCLUDING NEGLIGENCE OR OTHERWISE) ARISING IN ANY WAY OUT OF THE USE\n",
            " OF THIS SOFTWARE, EVEN IF ADVISED OF THE POSSIBILITY OF SUCH DAMAGE.\n",
            "\n",
            " ----\n",
            "\n",
            " This binary distribution of scikit-learn also bundles the following software:\n",
            "\n",
            " ----\n",
            "\n",
            " Name: GCC runtime library\n",
            " Files: scikit_learn.libs/libgomp*.so*\n",
            " Availability: https://gcc.gnu.org/git/?p=gcc.git;a=tree;f=libgomp\n",
            "\n",
            " GCC RUNTIME LIBRARY EXCEPTION\n",
            "\n",
            " Version 3.1, 31 March 2009\n",
            "\n",
            " Copyright (C) 2009 Free Software Foundation, Inc. <http://fsf.org/>\n",
            "\n",
            " Everyone is permitted to copy and distribute verbatim copies of this\n",
            " license document, but changing it is not allowed.\n",
            "\n",
            " This GCC Runtime Library Exception (\"Exception\") is an additional\n",
            " permission under section 7 of the GNU General Public License, version\n",
            " 3 (\"GPLv3\"). It applies to a given file (the \"Runtime Library\") that\n",
            " bears a notice placed by the copyright holder of the file stating that\n",
            " the file is governed by GPLv3 along with this Exception.\n",
            "\n",
            " When you use GCC to compile a program, GCC may combine portions of\n",
            " certain GCC header files and runtime libraries with the compiled\n",
            " program. The purpose of this Exception is to allow compilation of\n",
            " non-GPL (including proprietary) programs to use, in this way, the\n",
            " header files and runtime libraries covered by this Exception.\n",
            "\n",
            " 0. Definitions.\n",
            "\n",
            " A file is an \"Independent Module\" if it either requires the Runtime\n",
            " Library for execution after a Compilation Process, or makes use of an\n",
            " interface provided by the Runtime Library, but is not otherwise based\n",
            " on the Runtime Library.\n",
            "\n",
            " \"GCC\" means a version of the GNU Compiler Collection, with or without\n",
            " modifications, governed by version 3 (or a specified later version) of\n",
            " the GNU General Public License (GPL) with the option of using any\n",
            " subsequent versions published by the FSF.\n",
            "\n",
            " \"GPL-compatible Software\" is software whose conditions of propagation,\n",
            " modification and use would permit combination with GCC in accord with\n",
            " the license of GCC.\n",
            "\n",
            " \"Target Code\" refers to output from any compiler for a real or virtual\n",
            " target processor architecture, in executable form or suitable for\n",
            " input to an assembler, loader, linker and/or execution\n",
            " phase. Notwithstanding that, Target Code does not include data in any\n",
            " format that is used as a compiler intermediate representation, or used\n",
            " for producing a compiler intermediate representation.\n",
            "\n",
            " The \"Compilation Process\" transforms code entirely represented in\n",
            " non-intermediate languages designed for human-written code, and/or in\n",
            " Java Virtual Machine byte code, into Target Code. Thus, for example,\n",
            " use of source code generators and preprocessors need not be considered\n",
            " part of the Compilation Process, since the Compilation Process can be\n",
            " understood as starting with the output of the generators or\n",
            " preprocessors.\n",
            "\n",
            " A Compilation Process is \"Eligible\" if it is done using GCC, alone or\n",
            " with other GPL-compatible software, or if it is done without using any\n",
            " work based on GCC. For example, using non-GPL-compatible Software to\n",
            " optimize any GCC intermediate representations would not qualify as an\n",
            " Eligible Compilation Process.\n",
            "\n",
            " 1. Grant of Additional Permission.\n",
            "\n",
            " You have permission to propagate a work of Target Code formed by\n",
            " combining the Runtime Library with Independent Modules, even if such\n",
            " propagation would otherwise violate the terms of GPLv3, provided that\n",
            " all Target Code was generated by Eligible Compilation Processes. You\n",
            " may then convey such a combination under terms of your choice,\n",
            " consistent with the licensing of the Independent Modules.\n",
            "\n",
            " 2. No Weakening of GCC Copyleft.\n",
            "\n",
            " The availability of this Exception does not imply any general\n",
            " presumption that third-party software is unaffected by the copyleft\n",
            " requirements of the license of GCC.\n",
            "\n",
            "Location: /home/kinoko1943/development/github/TKAdvanced/.venv/lib/python3.12/site-packages\n",
            "Requires: joblib, numpy, scipy, threadpoolctl\n",
            "Required-by: \n"
          ]
        }
      ],
      "source": [
        "# 必要なモジュールの読み込み\n",
        "import numpy as np\n",
        "import pandas as pd\n",
        "import matplotlib.pyplot as plt\n",
        "import seaborn as sns\n",
        "\n",
        "import tensorflow as tf\n",
        "!pip show scikit-learn"
      ]
    },
    {
      "cell_type": "code",
      "execution_count": 2,
      "metadata": {
        "id": "SuiK5DH2qBHU"
      },
      "outputs": [],
      "source": [
        "from sklearn.datasets import fetch_california_housing\n",
        "dataset = fetch_california_housing()"
      ]
    },
    {
      "cell_type": "code",
      "execution_count": 3,
      "metadata": {
        "id": "BvkMip-f5CV5"
      },
      "outputs": [],
      "source": [
        "colms_name = dataset.feature_names\n",
        "x = dataset.data\n",
        "t = dataset.target"
      ]
    },
    {
      "cell_type": "code",
      "execution_count": 4,
      "metadata": {
        "colab": {
          "base_uri": "https://localhost:8080/",
          "height": 143
        },
        "id": "OppjwbFUbaUB",
        "outputId": "fee23584-bc3e-47b3-d24b-a2b0990736f0"
      },
      "outputs": [
        {
          "data": {
            "text/html": [
              "<div>\n",
              "<style scoped>\n",
              "    .dataframe tbody tr th:only-of-type {\n",
              "        vertical-align: middle;\n",
              "    }\n",
              "\n",
              "    .dataframe tbody tr th {\n",
              "        vertical-align: top;\n",
              "    }\n",
              "\n",
              "    .dataframe thead th {\n",
              "        text-align: right;\n",
              "    }\n",
              "</style>\n",
              "<table border=\"1\" class=\"dataframe\">\n",
              "  <thead>\n",
              "    <tr style=\"text-align: right;\">\n",
              "      <th></th>\n",
              "      <th>MedInc</th>\n",
              "      <th>HouseAge</th>\n",
              "      <th>AveRooms</th>\n",
              "      <th>AveBedrms</th>\n",
              "      <th>Population</th>\n",
              "      <th>AveOccup</th>\n",
              "      <th>Latitude</th>\n",
              "      <th>Longitude</th>\n",
              "      <th>Target</th>\n",
              "    </tr>\n",
              "  </thead>\n",
              "  <tbody>\n",
              "    <tr>\n",
              "      <th>0</th>\n",
              "      <td>8.3252</td>\n",
              "      <td>41.0</td>\n",
              "      <td>6.984127</td>\n",
              "      <td>1.023810</td>\n",
              "      <td>322.0</td>\n",
              "      <td>2.555556</td>\n",
              "      <td>37.88</td>\n",
              "      <td>-122.23</td>\n",
              "      <td>4.526</td>\n",
              "    </tr>\n",
              "    <tr>\n",
              "      <th>1</th>\n",
              "      <td>8.3014</td>\n",
              "      <td>21.0</td>\n",
              "      <td>6.238137</td>\n",
              "      <td>0.971880</td>\n",
              "      <td>2401.0</td>\n",
              "      <td>2.109842</td>\n",
              "      <td>37.86</td>\n",
              "      <td>-122.22</td>\n",
              "      <td>3.585</td>\n",
              "    </tr>\n",
              "    <tr>\n",
              "      <th>2</th>\n",
              "      <td>7.2574</td>\n",
              "      <td>52.0</td>\n",
              "      <td>8.288136</td>\n",
              "      <td>1.073446</td>\n",
              "      <td>496.0</td>\n",
              "      <td>2.802260</td>\n",
              "      <td>37.85</td>\n",
              "      <td>-122.24</td>\n",
              "      <td>3.521</td>\n",
              "    </tr>\n",
              "  </tbody>\n",
              "</table>\n",
              "</div>"
            ],
            "text/plain": [
              "   MedInc  HouseAge  AveRooms  AveBedrms  Population  AveOccup  Latitude  \\\n",
              "0  8.3252      41.0  6.984127   1.023810       322.0  2.555556     37.88   \n",
              "1  8.3014      21.0  6.238137   0.971880      2401.0  2.109842     37.86   \n",
              "2  7.2574      52.0  8.288136   1.073446       496.0  2.802260     37.85   \n",
              "\n",
              "   Longitude  Target  \n",
              "0    -122.23   4.526  \n",
              "1    -122.22   3.585  \n",
              "2    -122.24   3.521  "
            ]
          },
          "execution_count": 4,
          "metadata": {},
          "output_type": "execute_result"
        }
      ],
      "source": [
        "# 読み込んだデータセットをデータフレーム形式に変換\n",
        "df = pd.DataFrame(data=x, columns=colms_name)\n",
        "df['Target'] = t\n",
        "df.head(3)"
      ]
    },
    {
      "cell_type": "markdown",
      "metadata": {
        "id": "MFMp15qUhbzO"
      },
      "source": [
        "### データセットの確認\n",
        "\n",
        "ニューラルネットワークを含む機械学習のアルゴリズムはどのようなデータセットを使用するかが非常に重要です。また、適切な前処理を加えることによって精度向上に繋がる場合は多くあります。本章では前処理の実装は行いませんがデータセットの中身を確認方法を再度確認しておきます。"
      ]
    },
    {
      "cell_type": "code",
      "execution_count": 5,
      "metadata": {
        "colab": {
          "base_uri": "https://localhost:8080/"
        },
        "id": "0KIfGFaoVNFg",
        "outputId": "2ed6020b-1b54-409a-8704-585350ef515d"
      },
      "outputs": [
        {
          "data": {
            "text/plain": [
              "(20640, 9)"
            ]
          },
          "execution_count": 5,
          "metadata": {},
          "output_type": "execute_result"
        }
      ],
      "source": [
        "# サンプル数（行数）、入力・目的変数の数（列数）の確認\n",
        "df.shape"
      ]
    },
    {
      "cell_type": "code",
      "execution_count": 6,
      "metadata": {
        "colab": {
          "base_uri": "https://localhost:8080/",
          "height": 466
        },
        "id": "5OUxlr99gukv",
        "outputId": "03dffe71-e738-4c4f-f07e-4b13e5dea392"
      },
      "outputs": [
        {
          "data": {
            "text/plain": [
              "<Axes: xlabel='Target', ylabel='Count'>"
            ]
          },
          "execution_count": 6,
          "metadata": {},
          "output_type": "execute_result"
        },
        {
          "data": {
            "image/png": "[encoded data removed]",
            "text/plain": [
              "<Figure size 640x480 with 1 Axes>"
            ]
          },
          "metadata": {},
          "output_type": "display_data"
        }
      ],
      "source": [
        "# 目的変数の分布の確認\n",
        "sns.histplot(df['Target'])"
      ]
    },
    {
      "cell_type": "markdown",
      "metadata": {
        "id": "mKWTe3JBiVXa"
      },
      "source": [
        "分布を確認すると値が 50 以上のものが少しその周辺よりも多く、外れ値のようになっています。このようなケースでは、$3 \\sigma$ 法などを用いて、外れ値除去を行い、問題設定を切り分けるアプローチが考えられます。  \n",
        "\n",
        "続いて相関係数を確認しましょう。相関係数は `corr()` メソッドで取得可能です。また、取得した相関係数を Seaborn の heatmap() 関数を用いて可視化します。"
      ]
    },
    {
      "cell_type": "code",
      "execution_count": 7,
      "metadata": {
        "colab": {
          "base_uri": "https://localhost:8080/",
          "height": 545
        },
        "id": "aReDe1QJjPP3",
        "outputId": "ecb940e3-5b88-4369-f9e8-ebe5777e7b91"
      },
      "outputs": [
        {
          "data": {
            "text/plain": [
              "<Axes: >"
            ]
          },
          "execution_count": 7,
          "metadata": {},
          "output_type": "execute_result"
        },
        {
          "data": {
            "image/png": "[encoded data removed]",
            "text/plain": [
              "<Figure size 1500x600 with 2 Axes>"
            ]
          },
          "metadata": {},
          "output_type": "display_data"
        }
      ],
      "source": [
        "plt.figure(figsize=(15, 6))\n",
        "sns.heatmap(df.corr(), annot=True)"
      ]
    },
    {
      "cell_type": "markdown",
      "metadata": {
        "id": "RTcCCiYzjPVP"
      },
      "source": [
        "入力変数同士で相関係数が高いものが存在する事は[多重共線性](https://ja.wikipedia.org/wiki/%E9%87%8D%E5%9B%9E%E5%B8%B0%E5%88%86%E6%9E%90)などを引き起こすなどの理由から好ましくありません。今回は特別相関係数の高い入力変数は存在しませんが、必要であれば相関係数の値から入力変数の選定を行います。  \n",
        "\n",
        "\n"
      ]
    },
    {
      "cell_type": "markdown",
      "metadata": {
        "id": "EZ53OYw9l_r0"
      },
      "source": [
        "### 入力変数と目的変数の切り分け\n",
        "\n",
        "分類の問題設定と同様に入力変数と目的変数の切り分けを行います。  "
      ]
    },
    {
      "cell_type": "code",
      "execution_count": 8,
      "metadata": {
        "id": "E5YWhMx9l_mZ"
      },
      "outputs": [],
      "source": [
        "# 入力変数（Target 列以外の列を取得）\n",
        "x = df.drop('Target', axis=1)\n",
        "\n",
        "# 目的変数（Target の列のみを取得）\n",
        "t = df['Target']"
      ]
    },
    {
      "cell_type": "code",
      "execution_count": 9,
      "metadata": {
        "colab": {
          "base_uri": "https://localhost:8080/",
          "height": 143
        },
        "id": "iZco7PRRl_hF",
        "outputId": "5a4d7a72-2505-4757-8ae0-1f744e0ebd77"
      },
      "outputs": [
        {
          "data": {
            "text/html": [
              "<div>\n",
              "<style scoped>\n",
              "    .dataframe tbody tr th:only-of-type {\n",
              "        vertical-align: middle;\n",
              "    }\n",
              "\n",
              "    .dataframe tbody tr th {\n",
              "        vertical-align: top;\n",
              "    }\n",
              "\n",
              "    .dataframe thead th {\n",
              "        text-align: right;\n",
              "    }\n",
              "</style>\n",
              "<table border=\"1\" class=\"dataframe\">\n",
              "  <thead>\n",
              "    <tr style=\"text-align: right;\">\n",
              "      <th></th>\n",
              "      <th>MedInc</th>\n",
              "      <th>HouseAge</th>\n",
              "      <th>AveRooms</th>\n",
              "      <th>AveBedrms</th>\n",
              "      <th>Population</th>\n",
              "      <th>AveOccup</th>\n",
              "      <th>Latitude</th>\n",
              "      <th>Longitude</th>\n",
              "    </tr>\n",
              "  </thead>\n",
              "  <tbody>\n",
              "    <tr>\n",
              "      <th>0</th>\n",
              "      <td>8.3252</td>\n",
              "      <td>41.0</td>\n",
              "      <td>6.984127</td>\n",
              "      <td>1.023810</td>\n",
              "      <td>322.0</td>\n",
              "      <td>2.555556</td>\n",
              "      <td>37.88</td>\n",
              "      <td>-122.23</td>\n",
              "    </tr>\n",
              "    <tr>\n",
              "      <th>1</th>\n",
              "      <td>8.3014</td>\n",
              "      <td>21.0</td>\n",
              "      <td>6.238137</td>\n",
              "      <td>0.971880</td>\n",
              "      <td>2401.0</td>\n",
              "      <td>2.109842</td>\n",
              "      <td>37.86</td>\n",
              "      <td>-122.22</td>\n",
              "    </tr>\n",
              "    <tr>\n",
              "      <th>2</th>\n",
              "      <td>7.2574</td>\n",
              "      <td>52.0</td>\n",
              "      <td>8.288136</td>\n",
              "      <td>1.073446</td>\n",
              "      <td>496.0</td>\n",
              "      <td>2.802260</td>\n",
              "      <td>37.85</td>\n",
              "      <td>-122.24</td>\n",
              "    </tr>\n",
              "  </tbody>\n",
              "</table>\n",
              "</div>"
            ],
            "text/plain": [
              "   MedInc  HouseAge  AveRooms  AveBedrms  Population  AveOccup  Latitude  \\\n",
              "0  8.3252      41.0  6.984127   1.023810       322.0  2.555556     37.88   \n",
              "1  8.3014      21.0  6.238137   0.971880      2401.0  2.109842     37.86   \n",
              "2  7.2574      52.0  8.288136   1.073446       496.0  2.802260     37.85   \n",
              "\n",
              "   Longitude  \n",
              "0    -122.23  \n",
              "1    -122.22  \n",
              "2    -122.24  "
            ]
          },
          "execution_count": 9,
          "metadata": {},
          "output_type": "execute_result"
        }
      ],
      "source": [
        "x.head(3)"
      ]
    },
    {
      "cell_type": "markdown",
      "metadata": {
        "id": "aB4UBVNbmT5E"
      },
      "source": [
        "### TensorFlow で計算できるデータの形式に変換\n",
        "\n",
        "分類ではラベルの最小値が 0 である必要がありましたが、今回の回帰の問題設定では特にその必要はありません。しかし、**データは NumPy の ndarray オブジェクトで定義されている必要があります。**  \n",
        "\n",
        "`values` 属性から取得することができます。"
      ]
    },
    {
      "cell_type": "code",
      "execution_count": 10,
      "metadata": {
        "colab": {
          "base_uri": "https://localhost:8080/",
          "height": 204
        },
        "id": "6hQ37rull_bi",
        "outputId": "83d32e99-b6a1-4763-ec59-c1fa6f610dc7"
      },
      "outputs": [
        {
          "data": {
            "text/plain": [
              "pandas.core.frame.DataFrame"
            ]
          },
          "execution_count": 10,
          "metadata": {},
          "output_type": "execute_result"
        }
      ],
      "source": [
        "type(x)"
      ]
    },
    {
      "cell_type": "code",
      "execution_count": 11,
      "metadata": {
        "id": "eUbdJRwbmvC1"
      },
      "outputs": [],
      "source": [
        "x = x.values\n",
        "t = t.values"
      ]
    },
    {
      "cell_type": "code",
      "execution_count": 12,
      "metadata": {
        "colab": {
          "base_uri": "https://localhost:8080/"
        },
        "id": "ujUqQWyamwNO",
        "outputId": "534b056e-bef6-4c68-a1f4-6c970fa15076"
      },
      "outputs": [
        {
          "data": {
            "text/plain": [
              "numpy.ndarray"
            ]
          },
          "execution_count": 12,
          "metadata": {},
          "output_type": "execute_result"
        }
      ],
      "source": [
        "type(x)"
      ]
    },
    {
      "cell_type": "markdown",
      "metadata": {
        "id": "vrHwXBUJm_jc"
      },
      "source": [
        "入力値のデータ型は `numpy.float32`、回帰の問題では目標値のデータ型も `numpy.float32` である必要があります。"
      ]
    },
    {
      "cell_type": "code",
      "execution_count": 13,
      "metadata": {
        "colab": {
          "base_uri": "https://localhost:8080/"
        },
        "id": "W-Pkzyb5nB2-",
        "outputId": "4fd6dce0-71b0-4418-eced-f25428b8d662"
      },
      "outputs": [
        {
          "data": {
            "text/plain": [
              "dtype('float64')"
            ]
          },
          "execution_count": 13,
          "metadata": {},
          "output_type": "execute_result"
        }
      ],
      "source": [
        "x.dtype"
      ]
    },
    {
      "cell_type": "code",
      "execution_count": 14,
      "metadata": {
        "id": "v82NwCvpnDOH"
      },
      "outputs": [],
      "source": [
        "# それぞれのデータ型を変換\n",
        "x = x.astype('float32')\n",
        "t = t.astype('float32')"
      ]
    },
    {
      "cell_type": "code",
      "execution_count": 15,
      "metadata": {
        "colab": {
          "base_uri": "https://localhost:8080/"
        },
        "id": "drrbpHGOnEH9",
        "outputId": "1e34def5-124a-4232-f239-19766427ab05"
      },
      "outputs": [
        {
          "data": {
            "text/plain": [
              "(dtype('float32'), dtype('float32'))"
            ]
          },
          "execution_count": 15,
          "metadata": {},
          "output_type": "execute_result"
        }
      ],
      "source": [
        "x.dtype, t.dtype"
      ]
    },
    {
      "cell_type": "markdown",
      "metadata": {
        "id": "8pWUw-gLnEym"
      },
      "source": [
        "### 学習用データセットとテスト用データセットに分割\n",
        "\n",
        "モデルの学習を行うためのデータセットと、予測精度を測るためのデータセットへの切り分けを行います。  "
      ]
    },
    {
      "cell_type": "code",
      "execution_count": 16,
      "metadata": {
        "id": "JTnlLY3TnCKA"
      },
      "outputs": [],
      "source": [
        "from sklearn.model_selection import train_test_split\n",
        "\n",
        "# 学習用データセットとテスト用データセットの分割\n",
        "x_train, x_test, t_train, t_test = train_test_split(x, t, train_size=0.7, random_state=0)"
      ]
    },
    {
      "cell_type": "markdown",
      "metadata": {
        "id": "OHmGaqvAnlOd"
      },
      "source": [
        "分割が完了した後は、それぞれのデータセットのサンプル数を確認し、正常に分割できていることを確認しましょう。"
      ]
    },
    {
      "cell_type": "code",
      "execution_count": 17,
      "metadata": {
        "colab": {
          "base_uri": "https://localhost:8080/"
        },
        "id": "SwexDlqLnhho",
        "outputId": "f1f52567-f592-4995-c293-8f211b7379df"
      },
      "outputs": [
        {
          "data": {
            "text/plain": [
              "((14447, 8), dtype('float32'), (6193, 8), dtype('float32'))"
            ]
          },
          "execution_count": 17,
          "metadata": {},
          "output_type": "execute_result"
        }
      ],
      "source": [
        "x_train.shape, x_train.dtype, x_test.shape, x_test.dtype"
      ]
    },
    {
      "cell_type": "code",
      "execution_count": 18,
      "metadata": {
        "colab": {
          "base_uri": "https://localhost:8080/"
        },
        "id": "5SzmGpKXnjOU",
        "outputId": "3ee7c2bd-74d6-408c-8c71-8a420e264747"
      },
      "outputs": [
        {
          "data": {
            "text/plain": [
              "((14447,), dtype('float32'), (6193,), dtype('float32'))"
            ]
          },
          "execution_count": 18,
          "metadata": {},
          "output_type": "execute_result"
        }
      ],
      "source": [
        "t_train.shape, t_train.dtype, t_test.shape, t_test.dtype"
      ]
    },
    {
      "cell_type": "markdown",
      "metadata": {
        "id": "-eLWTwA2nqth"
      },
      "source": [
        "これで学習を行うためのデータセットの準備が整いました。"
      ]
    },
    {
      "cell_type": "markdown",
      "metadata": {
        "id": "AIVb3OmknjdG"
      },
      "source": [
        "## モデルの定義\n",
        "\n",
        "まずは前章のコードを参考にして、ご自身でモデルの定義を行って下さい。その後に資料の続きを確認していきましょう。"
      ]
    },
    {
      "cell_type": "code",
      "execution_count": 19,
      "metadata": {
        "id": "G9NlxCG6oy1U"
      },
      "outputs": [],
      "source": [
        "import os, random\n",
        "\n",
        "# シードを固定するための関数の定義\n",
        "def reset_seed(seed=0):\n",
        "    os.environ['PYTHONHASHSEED'] = '0'\n",
        "    random.seed(seed) # random関数のシードを固定\n",
        "    np.random.seed(seed) # numpyのシードを固定\n",
        "    tf.random.set_seed(seed) # tensorflowのシードを固定"
      ]
    },
    {
      "cell_type": "markdown",
      "metadata": {
        "id": "NBzjBUj0pASb"
      },
      "source": [
        "前章の分類の問題設定に対し使用した下記のコードを今回の問題設定に合わして変更を加えましょう。"
      ]
    },
    {
      "cell_type": "code",
      "execution_count": 20,
      "metadata": {
        "colab": {
          "base_uri": "https://localhost:8080/"
        },
        "id": "Zcoavkc5nCME",
        "outputId": "390f9571-0d62-4d3e-8062-acfabc27b13e"
      },
      "outputs": [
        {
          "name": "stderr",
          "output_type": "stream",
          "text": [
            "/home/kinoko1943/development/github/TKAdvanced/.venv/lib/python3.12/site-packages/keras/src/layers/core/dense.py:93: UserWarning: Do not pass an `input_shape`/`input_dim` argument to a layer. When using Sequential models, prefer using an `Input(shape)` object as the first layer in the model instead.\n",
            "  super().__init__(activity_regularizer=activity_regularizer, **kwargs)\n",
            "2025-06-03 11:30:41.406056: E external/local_xla/xla/stream_executor/cuda/cuda_platform.cc:51] failed call to cuInit: INTERNAL: CUDA error: Failed call to cuInit: UNKNOWN ERROR (303)\n"
          ]
        }
      ],
      "source": [
        "# このコードに変更を加える\n",
        "\n",
        "from tensorflow.keras import models,layers\n",
        "# シードの固定\n",
        "reset_seed(0)\n",
        "\n",
        "# モデルのインスタンス化\n",
        "model = models.Sequential()\n",
        "\n",
        "# モデルの構築\n",
        "model.add(layers.Dense(10, activation='relu', input_shape=(30,)))\n",
        "model.add(layers.Dense(2, activation='softmax'))"
      ]
    },
    {
      "cell_type": "markdown",
      "metadata": {
        "id": "cxJ5mDBwosAa"
      },
      "source": [
        "前回と今回の異なる点は下記になります。  \n",
        "\n",
        "- 使用するデータセットが異なる\n",
        "- 分類ではなく、回帰の問題設定\n",
        "\n",
        "変更したコードを確認します。"
      ]
    },
    {
      "cell_type": "code",
      "execution_count": 21,
      "metadata": {
        "colab": {
          "base_uri": "https://localhost:8080/"
        },
        "id": "9jIdqiGyplNV",
        "outputId": "974f54ec-b703-4c3b-a029-27cefdc0643f"
      },
      "outputs": [
        {
          "data": {
            "text/plain": [
              "8"
            ]
          },
          "execution_count": 21,
          "metadata": {},
          "output_type": "execute_result"
        }
      ],
      "source": [
        "len(x_train[0])"
      ]
    },
    {
      "cell_type": "code",
      "execution_count": 22,
      "metadata": {
        "id": "ouRc_IaYpKMd"
      },
      "outputs": [],
      "source": [
        "# 変更後のコード\n",
        "# シードの固定\n",
        "reset_seed(0)\n",
        "\n",
        "# モデルのインスタンス化\n",
        "model = models.Sequential()\n",
        "\n",
        "# モデルの構築\n",
        "model.add(layers.Dense(10, activation='relu', input_shape=(8,)))\n",
        "model.add(layers.Dense(1))"
      ]
    },
    {
      "cell_type": "markdown",
      "metadata": {
        "id": "rWAvW9bhpKRO"
      },
      "source": [
        "変更点は下記になります。  \n",
        "\n",
        "- 入力層のノードの数\n",
        "- 出力層のノードの数\n",
        "- 出力層のソフトマックス関数の除去\n",
        "\n",
        "今回のデータセットの入力変数の数は 13 であるため、その数に合わせて入力層の `input_shape` の引数を変更する必要がありました。また、出力層の `units` の引数も家賃の 1 つの数値を予測するため変更する必要があります。今回の問題設定は回帰で数値を予測するため、ソフトマックス関数を適用して、値を 0~1 の間に変換する必要がありません。  "
      ]
    },
    {
      "cell_type": "markdown",
      "metadata": {
        "id": "KVEnQ2wCmRTa"
      },
      "source": [
        "### Functional API を用いてモデルの定義\n",
        "\n",
        "これまでは Sequential API を用いて実装を行ってきましたが、少し発展的な **Functional API** を用いての実装方法を紹介します。本講座では基本的には Sequential API を用いて実装を行いますが、何か発展的な実装を行う際には Functional API が必要となります。ここで基礎的な実装方法を理解しましょう。  \n",
        "\n",
        "#### Functional API の概要\n",
        "\n",
        "Functional API では Sequectial API と異なり入力値、出力値、層、モデルなどの共有が可能となります。これにより fucntional API ではより柔軟にネットワークの構築を行うことが可能になります。  \n",
        "\n",
        "例えば 3 層のニューラルネットワークを作成した際に 1 層目の出力を 2 層目を飛ばして、3 層目の入力として再度使用することなどが可能になります。  \n",
        "\n",
        "また、[オートエンコーダ (autoencoder)](https://ja.wikipedia.org/wiki/%E3%82%AA%E3%83%BC%E3%83%88%E3%82%A8%E3%83%B3%E3%82%B3%E3%83%BC%E3%83%80) と呼ばれるアルゴリズムのような、エンコーダーとデコーダーの 2 つのモデルを持つような構造のモデルもモデル自体共有することにより構築が可能となります。  \n",
        "\n",
        "![functional API でのモデル構築例](https://www.tensorflow.org/guide/keras/functional_files/output_ef7ac19c83be_0.png)\n",
        "\n",
        "*出典 : [Google LLC](https://www.tensorflow.org/guide/keras/functional)*\n"
      ]
    },
    {
      "cell_type": "markdown",
      "metadata": {
        "id": "uUR31h4yQDP9"
      },
      "source": [
        "#### Functional API の実装\n",
        "\n",
        "記述方法に大きく違いはありませんが下記の点に注意する必要がある。  \n",
        "\n",
        "- 入力値の形を定義する `Input` を記述する必要がある\n",
        "- `layers.Dense(10, activation='relu')(inputs)` のように層に対応する入力値を記述する必要がある\n",
        "- 層の計算を変数に格納する必要がある\n",
        "\n",
        "実際に Functional API を用いて実装を行いましょう。"
      ]
    },
    {
      "cell_type": "code",
      "execution_count": 23,
      "metadata": {
        "id": "hogB87KQQDQA"
      },
      "outputs": [],
      "source": [
        "from tensorflow.keras import models, layers, Input\n",
        "\n",
        "# シードの固定\n",
        "reset_seed(0)\n",
        "\n",
        "# モデルの構築\n",
        "inputs = Input(shape=(8,)) # 入力値の形の定義\n",
        "x = layers.Dense(3, activation='relu')(inputs)\n",
        "outputs = layers.Dense(1)(x)\n",
        "\n",
        "model = models.Model(inputs=inputs, outputs=outputs, name='linear_model')"
      ]
    },
    {
      "cell_type": "markdown",
      "metadata": {
        "id": "6G3FJ0j5qS8N"
      },
      "source": [
        "今回は Functional API を用いて比較的シンプルなモデルの構築を行いました。複雑なモデルの構築方法などに関してはこちらの[公式ドキュメント](https://www.tensorflow.org/guide/keras/functional)を参照して下さい。  "
      ]
    },
    {
      "cell_type": "code",
      "execution_count": 24,
      "metadata": {
        "colab": {
          "base_uri": "https://localhost:8080/",
          "height": 614
        },
        "id": "UIkWNRgcp9e8",
        "outputId": "86a2fc48-4c3b-4ce8-e7c8-98bac5ae669f"
      },
      "outputs": [
        {
          "name": "stdout",
          "output_type": "stream",
          "text": [
            "You must install pydot (`pip install pydot`) for `plot_model` to work.\n"
          ]
        }
      ],
      "source": [
        "from tensorflow.keras.utils import plot_model\n",
        "plot_model(model)"
      ]
    },
    {
      "cell_type": "markdown",
      "metadata": {
        "id": "UEeFEnfYONxM"
      },
      "source": [
        "## 目的関数・最適化手法の選択\n",
        "\n",
        "### 最適化手法の選択\n",
        "\n",
        "モデルの定義以外は sequential API と同様の記述方法になります。\n",
        "`tf.keras.optimizers` モジュールを使用して、最適化手法の選択を行います。  \n",
        "今回は [Adam](https://ja.wikipedia.org/wiki/%E7%A2%BA%E7%8E%87%E7%9A%84%E5%8B%BE%E9%85%8D%E9%99%8D%E4%B8%8B%E6%B3%95#Adam) と呼ばれる最適化手法を使用します。  \n",
        "\n",
        "最適化手法も一種のハイパーパラメータと呼ぶことができます。最適化手法を変更することによって、パラメータの更新の方法が異なります。Adam は比較的効率よく学習を行うことができると経験的に言われています。  \n",
        "うまく学習が進まない場合は最適化手法や学習係数を変更してみて、学習結果を確認してみて下さい。  \n",
        "\n",
        "\n",
        "### 目的関数の選択\n",
        "\n",
        "今回の問題設定は回帰であるため、目的関数には**平均二乗誤差 (mean squared error ; mse)** を用います。  \n",
        "評価には**二乗平均平方根誤差 (root mean squared error ; rmse)**を使用します。二乗平均平方根誤差は平均二乗誤差に $\\sqrt{}$ を適用し、スケールを戻したものになります。  "
      ]
    },
    {
      "cell_type": "code",
      "execution_count": 25,
      "metadata": {
        "id": "MTPYnvV3MIFW"
      },
      "outputs": [],
      "source": [
        "# optimizer　の設定\n",
        "optimizer = tf.keras.optimizers.Adam(learning_rate=0.001)\n",
        "rmse = tf.keras.metrics.RootMeanSquaredError()\n",
        "\n",
        "# モデルのコンパイル\n",
        "model.compile(loss='mean_squared_error', optimizer=optimizer, metrics=[rmse])"
      ]
    },
    {
      "cell_type": "markdown",
      "metadata": {
        "id": "kAiiKd5uzxXm"
      },
      "source": [
        "## モデルの学習\n",
        "\n",
        "前章でもお伝えましたが、モデルの学習時にはミニバッチ学習を行う際のバッチサイズとエポック数を定義する必要があります。"
      ]
    },
    {
      "cell_type": "code",
      "execution_count": 26,
      "metadata": {
        "colab": {
          "base_uri": "https://localhost:8080/"
        },
        "id": "ooxyKSAAQDQD",
        "outputId": "a650865b-f344-4e2e-9568-79916ab51c5e",
        "scrolled": true
      },
      "outputs": [
        {
          "name": "stdout",
          "output_type": "stream",
          "text": [
            "Epoch 1/10\n",
            "\u001b[1m452/452\u001b[0m \u001b[32m━━━━━━━━━━━━━━━━━━━━\u001b[0m\u001b[37m\u001b[0m \u001b[1m1s\u001b[0m 654us/step - loss: 5.6198 - root_mean_squared_error: 2.3641 - val_loss: 4.7312 - val_root_mean_squared_error: 2.1751\n",
            "Epoch 2/10\n",
            "\u001b[1m452/452\u001b[0m \u001b[32m━━━━━━━━━━━━━━━━━━━━\u001b[0m\u001b[37m\u001b[0m \u001b[1m0s\u001b[0m 521us/step - loss: 3.8038 - root_mean_squared_error: 1.9498 - val_loss: 3.3073 - val_root_mean_squared_error: 1.8186\n",
            "Epoch 3/10\n",
            "\u001b[1m452/452\u001b[0m \u001b[32m━━━━━━━━━━━━━━━━━━━━\u001b[0m\u001b[37m\u001b[0m \u001b[1m0s\u001b[0m 500us/step - loss: 2.7788 - root_mean_squared_error: 1.6665 - val_loss: 2.5295 - val_root_mean_squared_error: 1.5904\n",
            "Epoch 4/10\n",
            "\u001b[1m452/452\u001b[0m \u001b[32m━━━━━━━━━━━━━━━━━━━━\u001b[0m\u001b[37m\u001b[0m \u001b[1m0s\u001b[0m 521us/step - loss: 2.1161 - root_mean_squared_error: 1.4543 - val_loss: 2.0459 - val_root_mean_squared_error: 1.4304\n",
            "Epoch 5/10\n",
            "\u001b[1m452/452\u001b[0m \u001b[32m━━━━━━━━━━━━━━━━━━━━\u001b[0m\u001b[37m\u001b[0m \u001b[1m0s\u001b[0m 550us/step - loss: 1.7164 - root_mean_squared_error: 1.3099 - val_loss: 1.7716 - val_root_mean_squared_error: 1.3310\n",
            "Epoch 6/10\n",
            "\u001b[1m452/452\u001b[0m \u001b[32m━━━━━━━━━━━━━━━━━━━━\u001b[0m\u001b[37m\u001b[0m \u001b[1m0s\u001b[0m 501us/step - loss: 1.4996 - root_mean_squared_error: 1.2244 - val_loss: 1.6334 - val_root_mean_squared_error: 1.2781\n",
            "Epoch 7/10\n",
            "\u001b[1m452/452\u001b[0m \u001b[32m━━━━━━━━━━━━━━━━━━━━\u001b[0m\u001b[37m\u001b[0m \u001b[1m0s\u001b[0m 520us/step - loss: 1.3977 - root_mean_squared_error: 1.1821 - val_loss: 1.5730 - val_root_mean_squared_error: 1.2542\n",
            "Epoch 8/10\n",
            "\u001b[1m452/452\u001b[0m \u001b[32m━━━━━━━━━━━━━━━━━━━━\u001b[0m\u001b[37m\u001b[0m \u001b[1m0s\u001b[0m 526us/step - loss: 1.3580 - root_mean_squared_error: 1.1652 - val_loss: 1.5498 - val_root_mean_squared_error: 1.2449\n",
            "Epoch 9/10\n",
            "\u001b[1m452/452\u001b[0m \u001b[32m━━━━━━━━━━━━━━━━━━━━\u001b[0m\u001b[37m\u001b[0m \u001b[1m0s\u001b[0m 512us/step - loss: 1.3456 - root_mean_squared_error: 1.1599 - val_loss: 1.5414 - val_root_mean_squared_error: 1.2415\n",
            "Epoch 10/10\n",
            "\u001b[1m452/452\u001b[0m \u001b[32m━━━━━━━━━━━━━━━━━━━━\u001b[0m\u001b[37m\u001b[0m \u001b[1m0s\u001b[0m 509us/step - loss: 1.3426 - root_mean_squared_error: 1.1586 - val_loss: 1.5381 - val_root_mean_squared_error: 1.2402\n"
          ]
        }
      ],
      "source": [
        "# バッチサイズとエポック数の定義\n",
        "batch_size = 32\n",
        "epochs = 10\n",
        "\n",
        "# 学習の実行\n",
        "history = model.fit(x_train, t_train, batch_size=batch_size, epochs=epochs, validation_data=(x_test, t_test))"
      ]
    },
    {
      "cell_type": "markdown",
      "metadata": {
        "id": "aVuHY1yJztnx"
      },
      "source": [
        "## 予測精度の評価\n",
        "\n",
        "学習結果を取得し、モデルの予測精度を確認します。"
      ]
    },
    {
      "cell_type": "code",
      "execution_count": 27,
      "metadata": {
        "colab": {
          "base_uri": "https://localhost:8080/",
          "height": 143
        },
        "id": "mKX6OJ900Sny",
        "outputId": "870e0e9f-3d70-41f0-a104-ae64d282bfc5"
      },
      "outputs": [
        {
          "data": {
            "text/html": [
              "<div>\n",
              "<style scoped>\n",
              "    .dataframe tbody tr th:only-of-type {\n",
              "        vertical-align: middle;\n",
              "    }\n",
              "\n",
              "    .dataframe tbody tr th {\n",
              "        vertical-align: top;\n",
              "    }\n",
              "\n",
              "    .dataframe thead th {\n",
              "        text-align: right;\n",
              "    }\n",
              "</style>\n",
              "<table border=\"1\" class=\"dataframe\">\n",
              "  <thead>\n",
              "    <tr style=\"text-align: right;\">\n",
              "      <th></th>\n",
              "      <th>loss</th>\n",
              "      <th>root_mean_squared_error</th>\n",
              "      <th>val_loss</th>\n",
              "      <th>val_root_mean_squared_error</th>\n",
              "    </tr>\n",
              "  </thead>\n",
              "  <tbody>\n",
              "    <tr>\n",
              "      <th>7</th>\n",
              "      <td>1.342567</td>\n",
              "      <td>1.158692</td>\n",
              "      <td>1.549820</td>\n",
              "      <td>1.244918</td>\n",
              "    </tr>\n",
              "    <tr>\n",
              "      <th>8</th>\n",
              "      <td>1.333395</td>\n",
              "      <td>1.154727</td>\n",
              "      <td>1.541381</td>\n",
              "      <td>1.241524</td>\n",
              "    </tr>\n",
              "    <tr>\n",
              "      <th>9</th>\n",
              "      <td>1.331272</td>\n",
              "      <td>1.153808</td>\n",
              "      <td>1.538140</td>\n",
              "      <td>1.240218</td>\n",
              "    </tr>\n",
              "  </tbody>\n",
              "</table>\n",
              "</div>"
            ],
            "text/plain": [
              "       loss  root_mean_squared_error  val_loss  val_root_mean_squared_error\n",
              "7  1.342567                 1.158692  1.549820                     1.244918\n",
              "8  1.333395                 1.154727  1.541381                     1.241524\n",
              "9  1.331272                 1.153808  1.538140                     1.240218"
            ]
          },
          "execution_count": 27,
          "metadata": {},
          "output_type": "execute_result"
        }
      ],
      "source": [
        "results = pd.DataFrame(history.history)\n",
        "results.tail(3)"
      ]
    },
    {
      "cell_type": "code",
      "execution_count": 28,
      "metadata": {
        "colab": {
          "base_uri": "https://localhost:8080/",
          "height": 489
        },
        "id": "xOoxu6mv0ShZ",
        "outputId": "42fefabb-0d62-4e46-858b-5df2e166c782"
      },
      "outputs": [
        {
          "data": {
            "text/plain": [
              "Text(0.5, 0, 'epochs')"
            ]
          },
          "execution_count": 28,
          "metadata": {},
          "output_type": "execute_result"
        },
        {
          "data": {
            "image/png": "[encoded data removed]",
            "text/plain": [
              "<Figure size 640x480 with 1 Axes>"
            ]
          },
          "metadata": {},
          "output_type": "display_data"
        }
      ],
      "source": [
        "# 損失を可視化\n",
        "results[['loss', 'val_loss']].plot(title='loss')\n",
        "plt.xlabel('epochs')"
      ]
    },
    {
      "cell_type": "markdown",
      "metadata": {
        "id": "KdQfiEUk3l0M"
      },
      "source": [
        "テスト用データセットに対する二乗平均平方根誤差　(以後 RMSE) の値が約 1.236 となっている事がわかります。  "
      ]
    },
    {
      "cell_type": "markdown",
      "metadata": {
        "id": "Ofw5sG-9t9KL"
      },
      "source": [
        "## 練習問題 本章のまとめ\n",
        "\n",
        "本章で学んだ内容を復習しましょう。下記の内容を次のセルに記述し、実行結果を確認してください。（必要に応じてセルの追加を行ってください。）\n",
        "\n",
        "今回のデータセット（ボストン市の家賃に関するデータ）を用いて、家賃を予測するモデルの構築を再度行って下さい。また、ハイパーパラメータの調整を行い、モデルの予測精度向上を行いましょう。目標となる RMSE は 1 以下です。（目的変数・入力変数、データセットの切り分けなどの情報は前述の内容を確認して下さい。）  \n",
        "\n",
        "実装は下記の流れを参照して下さい。  \n",
        "\n",
        "- データセットの準備\n",
        "- モデルの定義\n",
        "- 目的関数・最適化手法の選択\n",
        "- モデルの学習\n",
        "- 予測精度の評価\n",
        "- ハイパーパラメータの調整  \n",
        "\n",
        "*精度向上のヒント*\n",
        "\n",
        "- 層・ノードの数の変更\n",
        "- バッチノーマリゼーションの層の追加\n",
        "- エポック数の調整\n",
        "- 学習係数の調整\n",
        "- 最適化手法の変更\n",
        "- データセットに対する前処理（入力変数の選択など）"
      ]
    },
    {
      "cell_type": "code",
      "execution_count": 29,
      "metadata": {
        "id": "znUBSssw_tK8"
      },
      "outputs": [],
      "source": [
        "from sklearn.datasets import fetch_california_housing\n",
        "dataset = fetch_california_housing()\n",
        "colms_name = dataset.feature_names\n",
        "x = dataset.data\n",
        "t = dataset.target"
      ]
    },
    {
      "cell_type": "code",
      "execution_count": 30,
      "metadata": {
        "colab": {
          "base_uri": "https://localhost:8080/",
          "height": 143
        },
        "id": "FSGGs9Kb538e",
        "outputId": "3d92b374-ce08-4c4a-f2d1-4ddbe4464cc8"
      },
      "outputs": [
        {
          "data": {
            "text/html": [
              "<div>\n",
              "<style scoped>\n",
              "    .dataframe tbody tr th:only-of-type {\n",
              "        vertical-align: middle;\n",
              "    }\n",
              "\n",
              "    .dataframe tbody tr th {\n",
              "        vertical-align: top;\n",
              "    }\n",
              "\n",
              "    .dataframe thead th {\n",
              "        text-align: right;\n",
              "    }\n",
              "</style>\n",
              "<table border=\"1\" class=\"dataframe\">\n",
              "  <thead>\n",
              "    <tr style=\"text-align: right;\">\n",
              "      <th></th>\n",
              "      <th>MedInc</th>\n",
              "      <th>HouseAge</th>\n",
              "      <th>AveRooms</th>\n",
              "      <th>AveBedrms</th>\n",
              "      <th>Population</th>\n",
              "      <th>AveOccup</th>\n",
              "      <th>Latitude</th>\n",
              "      <th>Longitude</th>\n",
              "      <th>Target</th>\n",
              "    </tr>\n",
              "  </thead>\n",
              "  <tbody>\n",
              "    <tr>\n",
              "      <th>0</th>\n",
              "      <td>8.3252</td>\n",
              "      <td>41.0</td>\n",
              "      <td>6.984127</td>\n",
              "      <td>1.023810</td>\n",
              "      <td>322.0</td>\n",
              "      <td>2.555556</td>\n",
              "      <td>37.88</td>\n",
              "      <td>-122.23</td>\n",
              "      <td>4.526</td>\n",
              "    </tr>\n",
              "    <tr>\n",
              "      <th>1</th>\n",
              "      <td>8.3014</td>\n",
              "      <td>21.0</td>\n",
              "      <td>6.238137</td>\n",
              "      <td>0.971880</td>\n",
              "      <td>2401.0</td>\n",
              "      <td>2.109842</td>\n",
              "      <td>37.86</td>\n",
              "      <td>-122.22</td>\n",
              "      <td>3.585</td>\n",
              "    </tr>\n",
              "    <tr>\n",
              "      <th>2</th>\n",
              "      <td>7.2574</td>\n",
              "      <td>52.0</td>\n",
              "      <td>8.288136</td>\n",
              "      <td>1.073446</td>\n",
              "      <td>496.0</td>\n",
              "      <td>2.802260</td>\n",
              "      <td>37.85</td>\n",
              "      <td>-122.24</td>\n",
              "      <td>3.521</td>\n",
              "    </tr>\n",
              "  </tbody>\n",
              "</table>\n",
              "</div>"
            ],
            "text/plain": [
              "   MedInc  HouseAge  AveRooms  AveBedrms  Population  AveOccup  Latitude  \\\n",
              "0  8.3252      41.0  6.984127   1.023810       322.0  2.555556     37.88   \n",
              "1  8.3014      21.0  6.238137   0.971880      2401.0  2.109842     37.86   \n",
              "2  7.2574      52.0  8.288136   1.073446       496.0  2.802260     37.85   \n",
              "\n",
              "   Longitude  Target  \n",
              "0    -122.23   4.526  \n",
              "1    -122.22   3.585  \n",
              "2    -122.24   3.521  "
            ]
          },
          "execution_count": 30,
          "metadata": {},
          "output_type": "execute_result"
        }
      ],
      "source": [
        "# 読み込んだデータセットをデータフレーム形式に変換\n",
        "df = pd.DataFrame(data=x, columns=colms_name)\n",
        "df['Target'] = t\n",
        "df.head(3)"
      ]
    },
    {
      "cell_type": "markdown",
      "metadata": {
        "id": "UWekH3n60iNB"
      },
      "source": [
        "#### データセットの準備"
      ]
    },
    {
      "cell_type": "code",
      "execution_count": 31,
      "metadata": {
        "id": "8V3o0bZP01Na"
      },
      "outputs": [],
      "source": [
        "# それぞれのデータ型を変換\n",
        "x = x.astype('float32')\n",
        "t = t.astype('float32')"
      ]
    },
    {
      "cell_type": "code",
      "execution_count": 32,
      "metadata": {
        "colab": {
          "base_uri": "https://localhost:8080/"
        },
        "id": "E0O4VwHp01Nk",
        "outputId": "0af3c31e-d8dc-4f46-c028-b9a89a72663d"
      },
      "outputs": [
        {
          "data": {
            "text/plain": [
              "(dtype('float32'), dtype('float32'))"
            ]
          },
          "execution_count": 32,
          "metadata": {},
          "output_type": "execute_result"
        }
      ],
      "source": [
        "x.dtype, t.dtype"
      ]
    },
    {
      "cell_type": "markdown",
      "metadata": {
        "id": "fr-AoGbS01Nr"
      },
      "source": [
        "**学習用データセットとテスト用データセットに分割**\n"
      ]
    },
    {
      "cell_type": "code",
      "execution_count": 33,
      "metadata": {
        "id": "8AIdVIKb01Nz"
      },
      "outputs": [],
      "source": [
        "from sklearn.model_selection import train_test_split\n",
        "x_train, x_test, t_train, t_test = train_test_split(x, t, train_size=0.7, random_state=0)"
      ]
    },
    {
      "cell_type": "code",
      "execution_count": 34,
      "metadata": {
        "colab": {
          "base_uri": "https://localhost:8080/"
        },
        "id": "O6zLoSOW01N9",
        "outputId": "926a9f64-91de-4063-8f95-6c54c26c3f70"
      },
      "outputs": [
        {
          "data": {
            "text/plain": [
              "((14447, 8), (6193, 8))"
            ]
          },
          "execution_count": 34,
          "metadata": {},
          "output_type": "execute_result"
        }
      ],
      "source": [
        "x_train.shape, x_test.shape"
      ]
    },
    {
      "cell_type": "markdown",
      "metadata": {
        "id": "duCQ_MIw01OY"
      },
      "source": [
        "#### モデルの定義"
      ]
    },
    {
      "cell_type": "code",
      "execution_count": 35,
      "metadata": {
        "id": "Mdy3Keks01OZ"
      },
      "outputs": [],
      "source": [
        "import os, random\n",
        "\n",
        "# シードを固定するための関数の定義\n",
        "def reset_seed(seed=0):\n",
        "    os.environ['PYTHONHASHSEED'] = '0'\n",
        "    random.seed(seed) # random関数のシードを固定\n",
        "    np.random.seed(seed) # numpyのシードを固定\n",
        "    tf.random.set_seed(seed) # tensorflowのシードを固定"
      ]
    },
    {
      "cell_type": "code",
      "execution_count": 36,
      "metadata": {
        "id": "fFYTPnJIDpUE"
      },
      "outputs": [],
      "source": [
        "from tensorflow.keras import models, layers, Input\n",
        "\n",
        "# シードの固定\n",
        "reset_seed(0)\n",
        "\n",
        "# モデルの構築\n",
        "inputs = Input(shape=(8,)) # 入力値の形の定義\n",
        "x = layers.Dense(3, activation='relu')(inputs)\n",
        "outputs = layers.Dense(1)(x)\n",
        "\n",
        "model = models.Model(inputs=inputs, outputs=outputs, name='linear_model')"
      ]
    },
    {
      "cell_type": "markdown",
      "metadata": {
        "id": "Ar3BvKOY01PU"
      },
      "source": [
        "#### 目的関数・最適化手法の選択"
      ]
    },
    {
      "cell_type": "code",
      "execution_count": 37,
      "metadata": {
        "id": "zK7sG02E0yev"
      },
      "outputs": [],
      "source": [
        "# optimizer　の設定\n",
        "optimizer = tf.keras.optimizers.Adam(learning_rate=0.001)\n",
        "rmse = tf.keras.metrics.RootMeanSquaredError()\n",
        "\n",
        "# モデルのコンパイル\n",
        "model.compile(loss='mean_squared_error', optimizer=optimizer, metrics=[rmse])"
      ]
    },
    {
      "cell_type": "markdown",
      "metadata": {
        "id": "QzIdsY8c01Pa"
      },
      "source": [
        "#### モデルの学習"
      ]
    },
    {
      "cell_type": "code",
      "execution_count": 38,
      "metadata": {
        "colab": {
          "base_uri": "https://localhost:8080/"
        },
        "id": "0Zw6HSSQ0zKP",
        "outputId": "67740083-3074-4fb2-f27c-ea1f15309f55"
      },
      "outputs": [
        {
          "name": "stdout",
          "output_type": "stream",
          "text": [
            "Epoch 1/10\n",
            "\u001b[1m452/452\u001b[0m \u001b[32m━━━━━━━━━━━━━━━━━━━━\u001b[0m\u001b[37m\u001b[0m \u001b[1m1s\u001b[0m 668us/step - loss: 5.6198 - root_mean_squared_error: 2.3641 - val_loss: 4.7312 - val_root_mean_squared_error: 2.1751\n",
            "Epoch 2/10\n",
            "\u001b[1m452/452\u001b[0m \u001b[32m━━━━━━━━━━━━━━━━━━━━\u001b[0m\u001b[37m\u001b[0m \u001b[1m0s\u001b[0m 512us/step - loss: 3.8038 - root_mean_squared_error: 1.9498 - val_loss: 3.3073 - val_root_mean_squared_error: 1.8186\n",
            "Epoch 3/10\n",
            "\u001b[1m452/452\u001b[0m \u001b[32m━━━━━━━━━━━━━━━━━━━━\u001b[0m\u001b[37m\u001b[0m \u001b[1m0s\u001b[0m 496us/step - loss: 2.7788 - root_mean_squared_error: 1.6665 - val_loss: 2.5295 - val_root_mean_squared_error: 1.5904\n",
            "Epoch 4/10\n",
            "\u001b[1m452/452\u001b[0m \u001b[32m━━━━━━━━━━━━━━━━━━━━\u001b[0m\u001b[37m\u001b[0m \u001b[1m0s\u001b[0m 514us/step - loss: 2.1161 - root_mean_squared_error: 1.4543 - val_loss: 2.0459 - val_root_mean_squared_error: 1.4304\n",
            "Epoch 5/10\n",
            "\u001b[1m452/452\u001b[0m \u001b[32m━━━━━━━━━━━━━━━━━━━━\u001b[0m\u001b[37m\u001b[0m \u001b[1m0s\u001b[0m 536us/step - loss: 1.7164 - root_mean_squared_error: 1.3099 - val_loss: 1.7716 - val_root_mean_squared_error: 1.3310\n",
            "Epoch 6/10\n",
            "\u001b[1m452/452\u001b[0m \u001b[32m━━━━━━━━━━━━━━━━━━━━\u001b[0m\u001b[37m\u001b[0m \u001b[1m0s\u001b[0m 513us/step - loss: 1.4996 - root_mean_squared_error: 1.2244 - val_loss: 1.6334 - val_root_mean_squared_error: 1.2781\n",
            "Epoch 7/10\n",
            "\u001b[1m452/452\u001b[0m \u001b[32m━━━━━━━━━━━━━━━━━━━━\u001b[0m\u001b[37m\u001b[0m \u001b[1m0s\u001b[0m 536us/step - loss: 1.3977 - root_mean_squared_error: 1.1821 - val_loss: 1.5730 - val_root_mean_squared_error: 1.2542\n",
            "Epoch 8/10\n",
            "\u001b[1m452/452\u001b[0m \u001b[32m━━━━━━━━━━━━━━━━━━━━\u001b[0m\u001b[37m\u001b[0m \u001b[1m0s\u001b[0m 513us/step - loss: 1.3580 - root_mean_squared_error: 1.1652 - val_loss: 1.5498 - val_root_mean_squared_error: 1.2449\n",
            "Epoch 9/10\n",
            "\u001b[1m452/452\u001b[0m \u001b[32m━━━━━━━━━━━━━━━━━━━━\u001b[0m\u001b[37m\u001b[0m \u001b[1m0s\u001b[0m 584us/step - loss: 1.3456 - root_mean_squared_error: 1.1599 - val_loss: 1.5414 - val_root_mean_squared_error: 1.2415\n",
            "Epoch 10/10\n",
            "\u001b[1m452/452\u001b[0m \u001b[32m━━━━━━━━━━━━━━━━━━━━\u001b[0m\u001b[37m\u001b[0m \u001b[1m0s\u001b[0m 558us/step - loss: 1.3426 - root_mean_squared_error: 1.1586 - val_loss: 1.5381 - val_root_mean_squared_error: 1.2402\n"
          ]
        }
      ],
      "source": [
        "# バッチサイズとエポック数の定義\n",
        "batch_size = 32\n",
        "epochs = 10\n",
        "\n",
        "# 学習の実行\n",
        "history = model.fit(x_train, t_train, batch_size=batch_size, epochs=epochs, validation_data=(x_test, t_test))"
      ]
    },
    {
      "cell_type": "markdown",
      "metadata": {
        "id": "zS5OW3Mo01Pk"
      },
      "source": [
        "#### 予測精度の評価"
      ]
    },
    {
      "cell_type": "code",
      "execution_count": 39,
      "metadata": {
        "colab": {
          "base_uri": "https://localhost:8080/",
          "height": 489
        },
        "id": "QqI2vfQ-0z8l",
        "outputId": "a5ff04cd-6531-48ab-bea0-e8b8d620799b"
      },
      "outputs": [
        {
          "data": {
            "text/plain": [
              "Text(0.5, 0, 'epochs')"
            ]
          },
          "execution_count": 39,
          "metadata": {},
          "output_type": "execute_result"
        },
        {
          "data": {
            "image/png": "[encoded data removed]",
            "text/plain": [
              "<Figure size 640x480 with 1 Axes>"
            ]
          },
          "metadata": {},
          "output_type": "display_data"
        }
      ],
      "source": [
        "results = pd.DataFrame(history.history)\n",
        "results.tail(3)\n",
        "\n",
        "# 損失を可視化\n",
        "results[['loss', 'val_loss']].plot(title='loss')\n",
        "plt.xlabel('epochs')"
      ]
    },
    {
      "cell_type": "markdown",
      "metadata": {
        "id": "kKPTlohdLKgE"
      },
      "source": [
        "#### ハイパーパラメータの調整"
      ]
    },
    {
      "cell_type": "code",
      "execution_count": 40,
      "metadata": {
        "colab": {
          "base_uri": "https://localhost:8080/"
        },
        "id": "uDr2urCk00yn",
        "outputId": "45a1fe5b-9fbd-47cb-b6f9-e86dacec4724"
      },
      "outputs": [
        {
          "name": "stdout",
          "output_type": "stream",
          "text": [
            "Epoch 1/10\n",
            "\u001b[1m226/226\u001b[0m \u001b[32m━━━━━━━━━━━━━━━━━━━━\u001b[0m\u001b[37m\u001b[0m \u001b[1m0s\u001b[0m 852us/step - loss: 345403.7188 - root_mean_squared_error: 582.2006 - val_loss: 55767.4844 - val_root_mean_squared_error: 236.1514\n",
            "Epoch 2/10\n",
            "\u001b[1m226/226\u001b[0m \u001b[32m━━━━━━━━━━━━━━━━━━━━\u001b[0m\u001b[37m\u001b[0m \u001b[1m0s\u001b[0m 581us/step - loss: 40085.1250 - root_mean_squared_error: 199.5751 - val_loss: 12708.2617 - val_root_mean_squared_error: 112.7309\n",
            "Epoch 3/10\n",
            "\u001b[1m226/226\u001b[0m \u001b[32m━━━━━━━━━━━━━━━━━━━━\u001b[0m\u001b[37m\u001b[0m \u001b[1m0s\u001b[0m 580us/step - loss: 10122.1895 - root_mean_squared_error: 100.4652 - val_loss: 4321.0137 - val_root_mean_squared_error: 65.7344\n",
            "Epoch 4/10\n",
            "\u001b[1m226/226\u001b[0m \u001b[32m━━━━━━━━━━━━━━━━━━━━\u001b[0m\u001b[37m\u001b[0m \u001b[1m0s\u001b[0m 571us/step - loss: 3656.7930 - root_mean_squared_error: 60.4229 - val_loss: 1819.4991 - val_root_mean_squared_error: 42.6556\n",
            "Epoch 5/10\n",
            "\u001b[1m226/226\u001b[0m \u001b[32m━━━━━━━━━━━━━━━━━━━━\u001b[0m\u001b[37m\u001b[0m \u001b[1m0s\u001b[0m 596us/step - loss: 1603.7219 - root_mean_squared_error: 40.0230 - val_loss: 868.9344 - val_root_mean_squared_error: 29.4777\n",
            "Epoch 6/10\n",
            "\u001b[1m226/226\u001b[0m \u001b[32m━━━━━━━━━━━━━━━━━━━━\u001b[0m\u001b[37m\u001b[0m \u001b[1m0s\u001b[0m 561us/step - loss: 789.7336 - root_mean_squared_error: 28.0861 - val_loss: 449.3968 - val_root_mean_squared_error: 21.1990\n",
            "Epoch 7/10\n",
            "\u001b[1m226/226\u001b[0m \u001b[32m━━━━━━━━━━━━━━━━━━━━\u001b[0m\u001b[37m\u001b[0m \u001b[1m0s\u001b[0m 607us/step - loss: 419.0567 - root_mean_squared_error: 20.4566 - val_loss: 245.3592 - val_root_mean_squared_error: 15.6639\n",
            "Epoch 8/10\n",
            "\u001b[1m226/226\u001b[0m \u001b[32m━━━━━━━━━━━━━━━━━━━━\u001b[0m\u001b[37m\u001b[0m \u001b[1m0s\u001b[0m 619us/step - loss: 234.1656 - root_mean_squared_error: 15.2876 - val_loss: 139.4125 - val_root_mean_squared_error: 11.8073\n",
            "Epoch 9/10\n",
            "\u001b[1m226/226\u001b[0m \u001b[32m━━━━━━━━━━━━━━━━━━━━\u001b[0m\u001b[37m\u001b[0m \u001b[1m0s\u001b[0m 555us/step - loss: 136.0899 - root_mean_squared_error: 11.6492 - val_loss: 81.7483 - val_root_mean_squared_error: 9.0415\n",
            "Epoch 10/10\n",
            "\u001b[1m226/226\u001b[0m \u001b[32m━━━━━━━━━━━━━━━━━━━━\u001b[0m\u001b[37m\u001b[0m \u001b[1m0s\u001b[0m 595us/step - loss: 81.6324 - root_mean_squared_error: 9.0163 - val_loss: 49.2162 - val_root_mean_squared_error: 7.0154\n"
          ]
        },
        {
          "data": {
            "text/plain": [
              "Text(0.5, 0, 'epochs')"
            ]
          },
          "execution_count": 40,
          "metadata": {},
          "output_type": "execute_result"
        },
        {
          "data": {
            "image/png": "[encoded data removed]",
            "text/plain": [
              "<Figure size 640x480 with 1 Axes>"
            ]
          },
          "metadata": {},
          "output_type": "display_data"
        }
      ],
      "source": [
        "\n",
        "\n",
        "from sklearn.datasets import fetch_california_housing\n",
        "dataset = fetch_california_housing()\n",
        "colms_name = dataset.feature_names\n",
        "x = dataset.data\n",
        "t = dataset.target\n",
        "\n",
        "# 読み込んだデータセットをデータフレーム形式に変換\n",
        "df = pd.DataFrame(data=x, columns=colms_name)\n",
        "df['Target'] = t\n",
        "df.head(3)\n",
        "\n",
        "# それぞれのデータ型を変換\n",
        "x = x.astype('float32')\n",
        "t = t.astype('float32')\n",
        "\n",
        "x.dtype, t.dtype\n",
        "\n",
        "\n",
        "from sklearn.model_selection import train_test_split\n",
        "x_train, x_test, t_train, t_test = train_test_split(x, t, train_size=0.7, random_state=0)\n",
        "\n",
        "import os, random\n",
        "\n",
        "# シードを固定するための関数の定義\n",
        "def reset_seed(seed=0):\n",
        "    os.environ['PYTHONHASHSEED'] = '0'\n",
        "    random.seed(seed) # random関数のシードを固定\n",
        "    np.random.seed(seed) # numpyのシードを固定\n",
        "    tf.random.set_seed(seed) # tensorflowのシードを固定\n",
        "\n",
        "from tensorflow.keras import models, layers, Input\n",
        "\n",
        "# シードの固定\n",
        "reset_seed(0)\n",
        "\n",
        "# モデルの構築\n",
        "inputs = Input(shape=(8,)) # 入力値の形の定義\n",
        "x = layers.Dense(4, activation='relu')(inputs)\n",
        "outputs = layers.Dense(1)(x)\n",
        "\n",
        "model = models.Model(inputs=inputs, outputs=outputs, name='linear_model')\n",
        "\n",
        "# optimizer　の設定\n",
        "optimizer = tf.keras.optimizers.Adam(learning_rate=0.002)\n",
        "rmse = tf.keras.metrics.RootMeanSquaredError()\n",
        "\n",
        "# モデルのコンパイル\n",
        "model.compile(loss='mean_squared_error', optimizer=optimizer, metrics=[rmse])\n",
        "\n",
        "\n",
        "\n",
        "# バッチサイズとエポック数の定義\n",
        "batch_size = 64\n",
        "epochs = 10\n",
        "\n",
        "# 学習の実行\n",
        "history = model.fit(x_train, t_train, batch_size=batch_size, epochs=epochs, validation_data=(x_test, t_test))\n",
        "results = pd.DataFrame(history.history)\n",
        "results.tail(3)\n",
        "\n",
        "# 損失を可視化\n",
        "results[['loss', 'val_loss']].plot(title='loss')\n",
        "plt.xlabel('epochs')\n"
      ]
    },
    {
      "cell_type": "markdown",
      "metadata": {
        "id": "2TL26QbcNY4l"
      },
      "source": [
        "---\n",
        "© 株式会社キカガク及び国立大学法人 豊橋技術科学大学"
      ]
    }
  ],
  "metadata": {
    "colab": {
      "provenance": []
    },
    "kernelspec": {
      "display_name": ".venv",
      "language": "python",
      "name": "python3"
    },
    "language_info": {
      "codemirror_mode": {
        "name": "ipython",
        "version": 3
      },
      "file_extension": ".py",
      "mimetype": "text/x-python",
      "name": "python",
      "nbconvert_exporter": "python",
      "pygments_lexer": "ipython3",
      "version": "3.10.17"
    }
  },
  "nbformat": 4,
  "nbformat_minor": 0
}
