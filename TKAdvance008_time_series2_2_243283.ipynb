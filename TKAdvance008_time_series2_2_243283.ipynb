{
  "nbformat": 4,
  "nbformat_minor": 0,
  "metadata": {
    "accelerator": "GPU",
    "colab": {
      "provenance": []
    },
    "kernelspec": {
      "display_name": "Python 3",
      "language": "python",
      "name": "python3"
    },
    "language_info": {
      "codemirror_mode": {
        "name": "ipython",
        "version": 3
      },
      "file_extension": ".py",
      "mimetype": "text/x-python",
      "name": "python",
      "nbconvert_exporter": "python",
      "pygments_lexer": "ipython3",
      "version": "3.8.5"
    }
  },
  "cells": [
    {
      "cell_type": "markdown",
      "metadata": {
        "id": "Ry0Il_gHvIwp"
      },
      "source": [
        "# 時系列解析\n",
        "\n",
        "本章では前章で確認した LSTM の実装をゴールとします。株価の実データを用い、時系列データの取り扱い、入力値・目標値の作成からモデルの構築などに取り組みます。\n",
        "\n",
        "## 本章の構成\n",
        "\n",
        "- 時系列データの取り扱い\n",
        "- 株価の上昇・下落の 2 値分類の実装\n",
        "\n",
        "※モデルの学習に GPU を使用する際にはランタイムの設定を変更しておきましょう。  "
      ]
    },
    {
      "cell_type": "markdown",
      "metadata": {
        "id": "puVWJCFI3A9_"
      },
      "source": [
        "## 時系列データの取り扱い\n",
        "\n",
        "時系列データの概要・基礎的な前処理について確認します。\n",
        "\n",
        "### データの確認\n",
        "\n",
        "今回は `yfinance` というパッケージを用いて株価の取得を行います。yfinance は pandas で取り扱うことのできるデータセットを外部から簡単に取得することが可能です。`yfinance` クラスを用い、Yahoo が提供する株価情報の取得を行います。  "
      ]
    },
    {
      "cell_type": "code",
      "source": [
        "!pip install yfinance"
      ],
      "metadata": {
        "id": "QJpKox3sWQDE"
      },
      "execution_count": null,
      "outputs": []
    },
    {
      "cell_type": "code",
      "metadata": {
        "id": "EqSL_tBTvIwr"
      },
      "source": [
        "import numpy as np\n",
        "import pandas as pd\n",
        "import matplotlib.pyplot as plt\n",
        "import seaborn as sns\n",
        "import yfinance as yf"
      ],
      "execution_count": null,
      "outputs": []
    },
    {
      "cell_type": "code",
      "metadata": {
        "id": "OlXDP9LQ6Q3A"
      },
      "source": [
        "import tensorflow as tf\n",
        "tf.__version__"
      ],
      "execution_count": null,
      "outputs": []
    },
    {
      "cell_type": "markdown",
      "metadata": {
        "id": "1OZWAnT95tOq"
      },
      "source": [
        "株価の取得する初めと終わりの日付を定義します。  "
      ]
    },
    {
      "cell_type": "code",
      "metadata": {
        "id": "d0mnrGuFvIwu"
      },
      "source": [
        "import datetime\n",
        "date_st = datetime.datetime(2015, 1, 1)\n",
        "date_fn = datetime.datetime(2021, 2, 1)"
      ],
      "execution_count": null,
      "outputs": []
    },
    {
      "cell_type": "markdown",
      "metadata": {
        "id": "hg9zm-ri53-m"
      },
      "source": [
        "データセットの読み込みを行います。引数の `tickers` に株の銘柄を指定することにより、指定の銘柄を読み込む事が可能です。銘柄名に関しては「社名 銘柄」などのキーワードでご自身で検索し、確認して下さい。  \n",
        "\n",
        "今回は Microsoft 社 (MSFT) の株価を使用します。"
      ]
    },
    {
      "cell_type": "code",
      "metadata": {
        "id": "YBD6Cy35wfhr"
      },
      "source": [
        "df = yf.download('MSFT', date_st, date_fn)\n",
        "df.head(3)"
      ],
      "execution_count": null,
      "outputs": []
    },
    {
      "cell_type": "markdown",
      "metadata": {
        "id": "tb1dbAxG8b69"
      },
      "source": [
        "pandas の DataFrame 型でデータを読み込む事ができました。それぞれの列の説明は下記を確認して下さい。  \n",
        "\n",
        "| 列名          | 日本語     | 説明                                                         |\n",
        "| ------------- | ---------- | ------------------------------------------------------------ |\n",
        "| **Date**      | 日付       | -                                                            |\n",
        "| **High**      | 高値       | 1 日の最も高かった値段                                       |\n",
        "| **Low**       | 安値       | 1 日の最も安かった値段                                       |\n",
        "| **Open**      | 始値       | 1 日の始めについた値段                                       |\n",
        "| **Close**     | 終値       | 1 日の終わりについた値段                                     |\n",
        "| **Volume**    | 出来高     | 実際に売り買いが成立した株数                                 |\n",
        "| **Adj Close** | 調整後終値 | [株式分割による調整後の値](https://www.yahoo-help.jp/app/answers/detail/p/546/a_id/45316) |\n",
        "\n",
        "LSTM を用いて取り組む問題設定は前日の終値を用いて、次の日の終値が上がるか下がるかの 2 値の分類になります。終値を切り出し、ts (time series) という変数に格納します。また、  プロットし可視化します。  \n"
      ]
    },
    {
      "cell_type": "code",
      "source": [
        "ts = df['Close']['MSFT']"
      ],
      "metadata": {
        "id": "ns4jzA9JgQI2"
      },
      "execution_count": null,
      "outputs": []
    },
    {
      "cell_type": "code",
      "metadata": {
        "id": "risXSbsz_kvu"
      },
      "source": [
        "figsize = (14, 5) # プロットの大きさを定義\n",
        "ts.plot(figsize=figsize)"
      ],
      "execution_count": null,
      "outputs": []
    },
    {
      "cell_type": "code",
      "metadata": {
        "id": "xCB3c7-gvIw7"
      },
      "source": [
        "ts.shape"
      ],
      "execution_count": null,
      "outputs": []
    },
    {
      "cell_type": "markdown",
      "metadata": {
        "id": "hlr8KnPrAx7k"
      },
      "source": [
        "1258 日分のデータセットを用いて解析を行っていきます。"
      ]
    },
    {
      "cell_type": "code",
      "metadata": {
        "id": "AP_KfERovIw5"
      },
      "source": [
        "ts.head()"
      ],
      "execution_count": null,
      "outputs": []
    },
    {
      "cell_type": "markdown",
      "metadata": {
        "id": "2pi_zWDVA4dA"
      },
      "source": [
        "### 移動平均\n",
        "\n",
        "移動平均とは時系列データにおいて、ある一定区間ごとの平均値を区間をずらしながら求めたものです。移動平均を用いてグラフを作成すると、長期的な傾向を表す滑らかな曲線が得ることができます。（ノイズ除去したデータ）\n",
        "\n",
        "\n",
        "`rolling(window)` メソッドでスライド窓 (window) での値を取ることができ、移動平均ではスライド窓の平均値を算出するので、 `mean()` メソッドで平均値をとります。"
      ]
    },
    {
      "cell_type": "code",
      "metadata": {
        "id": "L_TnDGLhA4YH"
      },
      "source": [
        "moving_avgerage = ts.rolling(10).mean()\n",
        "moving_avgerage.head(10)"
      ],
      "execution_count": null,
      "outputs": []
    },
    {
      "cell_type": "markdown",
      "metadata": {
        "id": "MmX7BzjoHDA3"
      },
      "source": [
        "上記の例ではスライド窓の幅を 10 と指定しているため、最初の 9 サンプルは NaN となっており、10 サンプル目から平均値が算出されている事が確認できます。"
      ]
    },
    {
      "cell_type": "code",
      "metadata": {
        "id": "Rf0vCvziA4UI"
      },
      "source": [
        "moving_avgerage.plot(figsize=figsize)"
      ],
      "execution_count": null,
      "outputs": []
    },
    {
      "cell_type": "markdown",
      "metadata": {
        "id": "e68ft88VA4O-"
      },
      "source": [
        "プロット結果を確認すると先程プロットしたデータよりも滑らかになっていることが確認できます。トレンド性を確認する場合や、データセットからノイズを除去する場合などに用います。"
      ]
    },
    {
      "cell_type": "markdown",
      "metadata": {
        "id": "TFepwXBVGn9Y"
      },
      "source": [
        "### 差分\n",
        "\n",
        "時系列データの代表的な前処理の 1 つ通して差分があります。この差分は時刻 $t$ 地点と時刻 $t−1$ 地点の差を使用します。差分を取ることで、上昇、下降などのトレンド性を取り除くことができます。時系列解析では、元のデータを原系列と呼び、差分をとったデータを差分系列と呼びます。  \n",
        "\n",
        "pandas では `diff()` メソッドで差分を算出することができます。"
      ]
    },
    {
      "cell_type": "code",
      "metadata": {
        "id": "8-a-xSWeGnwP"
      },
      "source": [
        "diff = ts.diff()\n",
        "diff.head()"
      ],
      "execution_count": null,
      "outputs": []
    },
    {
      "cell_type": "code",
      "metadata": {
        "id": "dzKhxi0QH9Mq"
      },
      "source": [
        "diff.plot(figsize=figsize)"
      ],
      "execution_count": null,
      "outputs": []
    },
    {
      "cell_type": "markdown",
      "metadata": {
        "id": "aVpn0Y9VN5PQ"
      },
      "source": [
        "### 変化率\n",
        "\n",
        "$t$ 地点と $t-1$ 地点でどれだけ値が変化したかを変化率と呼びます。\n",
        "`pct_change()` メソッドを使い、算出することができます。$t$ 地点の値 $A$ と $t−1$ 地点の値を $B$ とすると変化率は $(A−B)/B$ と算出されます。もし周期性があれば、変化率が上下同じ幅で続いていくことが期待できます。"
      ]
    },
    {
      "cell_type": "code",
      "metadata": {
        "id": "2eHf8g8WPUKG"
      },
      "source": [
        "pct_change = ts.pct_change()\n",
        "pct_change.head()"
      ],
      "execution_count": null,
      "outputs": []
    },
    {
      "cell_type": "code",
      "metadata": {
        "id": "042s05URPZUK"
      },
      "source": [
        "pct_change.plot(figsize=figsize)"
      ],
      "execution_count": null,
      "outputs": []
    },
    {
      "cell_type": "markdown",
      "metadata": {
        "id": "WEITNY1SvIw9"
      },
      "source": [
        "### 入力・目標値の作成\n",
        "\n",
        "時系列解析では、入力値、目標値作成が少しこれまでとは異なります。時系列解析では基本的に過去のデータを元に未来の値を予測するため、入力値には過去の値が、そして目標値には未来の値が入ります。  \n",
        "\n",
        "\n",
        "#### LSTM 層の入力値\n",
        "\n",
        "TensorFlow で LSTM を実装する際にはどの時刻（過去の期間）のデータを用いて、予測を行うのかの範囲の指定を行う必要があります。  \n",
        "\n",
        "今回は練習として、$t$ 日の目 ~ $t+10$ 日の目の株価を入力にとり、$t + 11$ 日目の株価が上昇するか、下降するかを分類する問題設定に取り組みます。  \n",
        "\n",
        "入力値を作成する際にはこの 10 日間を考慮してデータセットの作成を行う必要があります。TensorFlow の LSTM 層に対する入力値の形を確認し、作成すべきデータセットの形を理解します。  \n",
        "\n",
        "![LSTM の入力](http://drive.google.com/uc?export=view&id=1qkcRUHXpA8H1X2WrukJHJi8yYWqD3l4e)\n",
        "\n",
        "ニューラルネットワークのデータセットはサンプルと入力変数の行列の形式でした。入力値の形は入力変数の数の次元を持つベクトルになります。  \n",
        "図の中では入力変数が a~h までの 8 個あるため、TensorFlow で入力値の形は `(8, )` で表現されます。  \n",
        "\n",
        "次に LSTM の入力値の形を確認します。  \n",
        "LSTM のデータセットはサンプル、入力変数に加え、**時刻 (time steps)** が加わり、テンソルになります。  \n",
        "入力値の形は時刻と入力変数の数の行列になります。図内では上方向から確認できる行列になります。  \n",
        "\n",
        "図の中の LSTM の入力値の形は `(5, 8)` と表現します。  \n",
        "\n",
        "#### 時刻 (time steps) とは\n",
        "\n",
        "ニューラルネットワークでは基本的に 1 サンプル 1 目標値のセットでした。LSTM でもこのセットの関係性は同じになります。しかし、LSTM では複数時刻の入力値と 1 つの目標値がセットとなってます。  \n",
        "\n",
        "今回の株価の例を用いると、過去 10 日分の Microsoft 社の株価を用いて、翌日の株価を予測する場合、入力値の形は `(10, 1)` となります。このように複数時刻の入力値を使用して、予測を行うモデルを構築する場合、入力値と目標値の関係を考慮し、データセットを作成する必要があります。  \n",
        "\n",
        "LSTM の時系列データの計算の流れを下記の図から確認しておきましょう。\n",
        "\n",
        "![LSTM の計算の流れ](http://drive.google.com/uc?export=view&id=1n9XF-JPETetCKw8oEeNpUYshDx-9ozcT)\n",
        "\n",
        "#### データセット作成\n",
        "\n",
        "もう一度入力値と目標値の内容について確認します。  \n",
        "\n",
        "- 入力変数 : $t$ 日の目 ~ $t+10$ 日の目の株価\n",
        "- 目標値 : $t+11$ 日の目の株価が上がった場合 1 、下がったもしくは同じ場合は 0 の 2 種類のラベル  \n",
        "\n",
        "入力値の作成方法から確認します。変数 `ts` から時刻 $t$ から時刻 $t+10$ をスライスし、1 つのサンプルとします。1 サンプルあたり、10 時刻、1 入力変数の形になります。\n"
      ]
    },
    {
      "cell_type": "code",
      "metadata": {
        "id": "sID_8sCCLJV3"
      },
      "source": [
        "# t ~ t+10 日目の株価の取得\n",
        "time = 1 # 仮り置きの時刻\n",
        "window = 10\n",
        "ts[time : time + window]"
      ],
      "execution_count": null,
      "outputs": []
    },
    {
      "cell_type": "markdown",
      "metadata": {
        "id": "M-I_KqWHNZ5W"
      },
      "source": [
        "仮り置きの時刻の値を変更して、時刻をずらしてデータを取得できる事を確認しましょう。  \n",
        "\n",
        "続いて目標値の作成方法を確認します。目標値は $t+10$ と　$t+11$ の値を比較し、 0 もしくは 1 の値をとります。  "
      ]
    },
    {
      "cell_type": "code",
      "metadata": {
        "id": "H4KMGgKiN0FP"
      },
      "source": [
        "# t+11 日目の株価の取得\n",
        "time = 1\n",
        "window = 10\n",
        "ts.iloc[time + window]"
      ],
      "execution_count": null,
      "outputs": []
    },
    {
      "cell_type": "code",
      "metadata": {
        "id": "o0bepW_fOj2i"
      },
      "source": [
        "# t+10 日目の株価の取得\n",
        "ts.iloc[time + window -1]"
      ],
      "execution_count": null,
      "outputs": []
    },
    {
      "cell_type": "markdown",
      "metadata": {
        "id": "W5wKg-jEOrcw"
      },
      "source": [
        "上記 2 つの値を比較することにより、目標値を作成します。"
      ]
    },
    {
      "cell_type": "code",
      "metadata": {
        "id": "den8YRHgOyD0"
      },
      "source": [
        "ts.iloc[time + window] > ts.iloc[time + window -1]"
      ],
      "execution_count": null,
      "outputs": []
    },
    {
      "cell_type": "markdown",
      "metadata": {
        "id": "sa2Nul62PJLP"
      },
      "source": [
        "上記のコードを for 文に当て込み、全てのデータセットに対して適用し、入力値、目標値の作成を行います。  \n",
        "変数 `ts` は pandas の Series オブジェクトであるため、`values` 属性から NumPy の ndarray オブジェクトを取得します。"
      ]
    },
    {
      "cell_type": "code",
      "metadata": {
        "id": "s8xNcpeeFMNP"
      },
      "source": [
        "window = 10\n",
        "x, t = [], []\n",
        "for time in range(len(ts) - window):\n",
        "  x.append(ts[time : time + window].values)\n",
        "  if ts.iloc[time + window] > ts.iloc[time + window -1]:\n",
        "    t.append(1)\n",
        "  else:\n",
        "    t.append(0)"
      ],
      "execution_count": null,
      "outputs": []
    },
    {
      "cell_type": "markdown",
      "metadata": {
        "id": "tp7rDdH8PoXJ"
      },
      "source": [
        "それぞれの値が正常に取得できているか確認します。下記のようにデータセットの作成を行った際には必ず重複などがデータセット内に含まれないこと確認します。予測対象のデータが入力値に含まれる事はよくある間違いなため、必ずダブルチェックを行いましょう。"
      ]
    },
    {
      "cell_type": "code",
      "metadata": {
        "id": "F9tFDGhjKahh"
      },
      "source": [
        "# t+10 日目の株価を取得\n",
        "time = 5\n",
        "x[time][-1]"
      ],
      "execution_count": null,
      "outputs": []
    },
    {
      "cell_type": "code",
      "metadata": {
        "id": "W9E7_W7nKcod"
      },
      "source": [
        "# t+11 日目の株価を取得\n",
        "x[time+1][0]"
      ],
      "execution_count": null,
      "outputs": []
    },
    {
      "cell_type": "code",
      "metadata": {
        "id": "n3YERielJifW"
      },
      "source": [
        "# 目標値の確認\n",
        "t[time]"
      ],
      "execution_count": null,
      "outputs": []
    },
    {
      "cell_type": "markdown",
      "metadata": {
        "id": "DT-n-EuHRkhX"
      },
      "source": [
        "上記の例では株価が下がっているのに対し、目標値が 0 であることが確認でき、想定通りデータセットが作成されていることが確認できます。\n",
        "\n",
        "今回のデータセットはサンプル毎に 1 時刻ずつずれています。（入力変数の数はどれも 1）  \n",
        "\n",
        "- 1 サンプル目 : 時刻 1 ~ 10\n",
        "- 2 サンプル目 : 時刻 2 ~ 11\n",
        "- 3 サンプル目 : 時刻 3 ~ 12\n",
        "\n",
        "それぞれのサンプルを時刻でスライスし、ズレを確認します。"
      ]
    },
    {
      "cell_type": "code",
      "metadata": {
        "id": "76lejE3FIuPZ"
      },
      "source": [
        "x[0][2], x[1][1], x[2][0]"
      ],
      "execution_count": null,
      "outputs": []
    },
    {
      "cell_type": "markdown",
      "metadata": {
        "id": "HYoN8FgCTo6B"
      },
      "source": [
        "リスト形式である `x` , `t` の値を NumPy の ndarray オブジェクトに変換を行います。"
      ]
    },
    {
      "cell_type": "code",
      "metadata": {
        "id": "1RJyzP8EvIxB"
      },
      "source": [
        "x = np.array(x)\n",
        "t = np.array(t)"
      ],
      "execution_count": null,
      "outputs": []
    },
    {
      "cell_type": "code",
      "metadata": {
        "id": "ILmIAXdAvIxC"
      },
      "source": [
        "x.shape"
      ],
      "execution_count": null,
      "outputs": []
    },
    {
      "cell_type": "markdown",
      "metadata": {
        "id": "YyDAdy_752pf"
      },
      "source": [
        "LSTM 層の入力値としてこの形は望ましくありません。何故ならば、サンプル数、時刻数、入力変数の数を持ったテンソルの形である必要があるためです。そのため理想の形は `(1248, 10, 1)` という形になります。  \n",
        "\n",
        "今回はまずはじめに全結合層のみのニューラルネットワークを用いて学習を行い、その後 LSTM 層を組み込みます。そのため、現段階ではこの行列の形を維持します。"
      ]
    },
    {
      "cell_type": "markdown",
      "metadata": {
        "id": "PeTJqfj157-X"
      },
      "source": [
        "最後にそれぞれのデータセットのデータ型の変換を行います。"
      ]
    },
    {
      "cell_type": "code",
      "metadata": {
        "id": "I663XkIs6AlB"
      },
      "source": [
        "x = x.astype('float32')\n",
        "t = t.astype('int32')"
      ],
      "execution_count": null,
      "outputs": []
    },
    {
      "cell_type": "markdown",
      "metadata": {
        "id": "hWwvoURX6fkP"
      },
      "source": [
        "## 株価の上昇・下落の 2 値分類の実装"
      ]
    },
    {
      "cell_type": "markdown",
      "metadata": {
        "id": "J5ik3E1UvIxE"
      },
      "source": [
        "### データセットの分割"
      ]
    },
    {
      "cell_type": "markdown",
      "metadata": {
        "id": "eL3SmmBUvIxI"
      },
      "source": [
        "時系列データの学習・テスト用データセットへの分割を行う際に注意すべき点として、` train_test_split`の引数の `shuffle` を `False` と設定する必要があります。  \n",
        "ランダムに分割を行ってしまうと、時系列データが持つ特有の前後関係が失われてしまいます。また、この際には `random_state` の引数の設定は必要ありません。"
      ]
    },
    {
      "cell_type": "code",
      "metadata": {
        "id": "b_yNw0GbvIxJ",
        "scrolled": true
      },
      "source": [
        "from sklearn.model_selection import train_test_split\n",
        "\n",
        "# 学習用データセットとテスト用データセットの分割\n",
        "x_train, x_test, t_train, t_test = train_test_split(x, t, test_size=0.3, shuffle=False)"
      ],
      "execution_count": null,
      "outputs": []
    },
    {
      "cell_type": "code",
      "metadata": {
        "id": "Lz2XTYN773mn"
      },
      "source": [
        "# 形の確認\n",
        "x_train.shape, x_test.shape, t_train.shape, t_test.shape"
      ],
      "execution_count": null,
      "outputs": []
    },
    {
      "cell_type": "markdown",
      "metadata": {
        "id": "mJMBkBRw8Z5F"
      },
      "source": [
        "前後関係が保たれたままデータセットの分割が完了している事を確認しておきましょう。"
      ]
    },
    {
      "cell_type": "code",
      "metadata": {
        "id": "-U7qXzYy8Dp4"
      },
      "source": [
        "print('分割前のデータセット', x[0], x[1], x[2])\n",
        "print('分割後のデータセット', x_train[0], x_train[1], x_train[2])"
      ],
      "execution_count": null,
      "outputs": []
    },
    {
      "cell_type": "markdown",
      "metadata": {
        "id": "XnRkTtSavIxL"
      },
      "source": [
        "### モデルの定義（ニューラルネットワーク）\n",
        "\n",
        "まずは全結合層のみのニューラルネットワークを使用して学習を行います。"
      ]
    },
    {
      "cell_type": "code",
      "metadata": {
        "id": "OsRDKJgZ12Vi"
      },
      "source": [
        "import os\n",
        "import random\n",
        "\n",
        "def reset_seed(seed=0):\n",
        "    os.environ['PYTHONHASHSEED'] = '0'\n",
        "    random.seed(seed)\n",
        "    np.random.seed(seed)\n",
        "    tf.random.set_seed(seed)"
      ],
      "execution_count": null,
      "outputs": []
    },
    {
      "cell_type": "code",
      "metadata": {
        "id": "6jvHeZkdvIxL"
      },
      "source": [
        "from tensorflow.keras import models, layers\n",
        "\n",
        "# モデルの定義\n",
        "reset_seed(0)\n",
        "\n",
        "model = models.Sequential()\n",
        "\n",
        "model.add(layers.Dense(5, input_shape=(10,), activation='relu'))\n",
        "model.add(layers.Dense(2, activation='softmax'))"
      ],
      "execution_count": null,
      "outputs": []
    },
    {
      "cell_type": "markdown",
      "metadata": {
        "id": "uMNUIgPZ81IM"
      },
      "source": [
        "### 目的関数と評価指標の選択"
      ]
    },
    {
      "cell_type": "code",
      "metadata": {
        "id": "zdmZZXTl8z7Q"
      },
      "source": [
        "optimizer = tf.keras.optimizers.SGD(learning_rate=0.01)\n",
        "model.compile(loss='sparse_categorical_crossentropy', optimizer=optimizer, metrics=['accuracy'])"
      ],
      "execution_count": null,
      "outputs": []
    },
    {
      "cell_type": "markdown",
      "metadata": {
        "id": "zwAHjydk9GHo"
      },
      "source": [
        "### モデルの学習\n"
      ]
    },
    {
      "cell_type": "code",
      "metadata": {
        "id": "8PUVZqi4vIxN"
      },
      "source": [
        "history = model.fit(x_train, t_train,\n",
        "          batch_size=100,\n",
        "          epochs=20,\n",
        "          validation_data=(x_test, t_test)\n",
        "          )"
      ],
      "execution_count": null,
      "outputs": []
    },
    {
      "cell_type": "markdown",
      "metadata": {
        "id": "5Cn6HVNi_npH"
      },
      "source": [
        "### 予測精度の評価"
      ]
    },
    {
      "cell_type": "code",
      "metadata": {
        "id": "EwuYuby8vIxP"
      },
      "source": [
        "# 学習結果を取得\n",
        "results = pd.DataFrame(history.history)\n",
        "results.tail(3)"
      ],
      "execution_count": null,
      "outputs": []
    },
    {
      "cell_type": "code",
      "metadata": {
        "id": "KLvA0o_S_sPX"
      },
      "source": [
        "# 損失を可視化\n",
        "results[['loss', 'val_loss']].plot(title='loss')\n",
        "plt.xlabel('epochs')"
      ],
      "execution_count": null,
      "outputs": []
    },
    {
      "cell_type": "code",
      "metadata": {
        "id": "AdfjAKci_txz"
      },
      "source": [
        "# 正解率を可視化\n",
        "results[['accuracy', 'val_accuracy']].plot(title='metric')\n",
        "plt.xlabel('epochs')"
      ],
      "execution_count": null,
      "outputs": []
    },
    {
      "cell_type": "markdown",
      "metadata": {
        "id": "JciKpVyl_vY1"
      },
      "source": [
        "損失・正解率ともに横ばいとなっており、学習が正常に完了していない事が確認できます。学習が正常に進んでいない原因を考えましょう。  \n",
        "\n",
        "#### 問題点の考察\n",
        "\n",
        "今回学習が正常に進んでいない原因・問題点を考えてみましょう。   \n",
        "問題点としては下記の項目が挙げられます。  \n",
        "\n",
        "- モデルの問題\n",
        "  - データセットの時系列を考慮することができていない\n",
        "- データセットの問題\n",
        "  - 入力変数に使用するデータセットが適切でない\n",
        "\n",
        "それぞれの項目がどういった内容か確認します。  \n",
        "\n",
        "\n",
        "**モデルの問題**  \n",
        "\n",
        " まずは今回のニューラルネットワークのモデルがどのように計算されているか確認してみましょう。  \n",
        "\n",
        "![NN](http://drive.google.com/uc?export=view&id=1g1yrBVh2TMePvgfG8nw_86mqF8_tQ5V7)\n",
        "\n",
        "計算の流れを確認すると、それぞれの入力値が独立し予測値を計算している事がわかります。入力値が独立しているということは現在のニューラルネットワークのモデルでは時系列を考慮できていないということになります。\n",
        "\n",
        "**データセットの問題**  \n",
        "\n",
        "データセットに関しては単純に入力変数が足りていないことが考えられます。今回の株価を予測するためには、自社の過去の株価のみを入力とするのではなく、他社の株価やニュースの情報、原油価格など様々な項目があげる事ができるでしょう。\n",
        "\n",
        "#### 対策の考察\n",
        "\n",
        "上記の問題点への対策は下記になります。   \n",
        "\n",
        "- LSTM (Long-Short Term Memory) モデルを用いる : 時系列を考慮したモデル\n",
        "- 複数の入力変数を取る\n",
        "\n",
        "それでは 1 つめの対策である LSTM のモデルの実装を行いましょう。"
      ]
    },
    {
      "cell_type": "markdown",
      "metadata": {
        "id": "pRrXmuRgvIxY"
      },
      "source": [
        "## LSTM（RNN）\n",
        "\n",
        "時系列解析向けの Long-Short Term Memory （LSTM） を使用して結果の改善するか確認します。  \n",
        "\n",
        "\n",
        "### LSTM 層の入力\n",
        "\n",
        "先程確認した図をもう一度確認します。  \n",
        "\n",
        "![LSTM の入力](http://drive.google.com/uc?export=view&id=1qkcRUHXpA8H1X2WrukJHJi8yYWqD3l4e)\n",
        "\n",
        "現在のデータセットの形式は図の左側にあるニューラルネットワークのデータセットの形式になっています。ここから LSTM 層の入力値に対応させるためには入力変数の次元を追加する必要があります。  \n",
        "\n",
        "現在のデータセットの入力変数の数は 1 つであるため、`(サンプル数, 時刻数, 1)` の形にデータセットを変換します。"
      ]
    },
    {
      "cell_type": "code",
      "metadata": {
        "id": "Yj7Fy2ppX28z"
      },
      "source": [
        "# Dense 層への入力値の形（サンプル数, 入力変数の数）\n",
        "x.shape"
      ],
      "execution_count": null,
      "outputs": []
    },
    {
      "cell_type": "code",
      "metadata": {
        "id": "-JVS8IrLvIxY"
      },
      "source": [
        "#  入力値の形の変換\n",
        "x = x.reshape(len(x), 10, 1)"
      ],
      "execution_count": null,
      "outputs": []
    },
    {
      "cell_type": "code",
      "metadata": {
        "id": "AnFvWndMvIxa"
      },
      "source": [
        "# LSTM 層への入力値の形（サンプル数, 時刻の数, 入力変数の数）\n",
        "x.shape"
      ],
      "execution_count": null,
      "outputs": []
    },
    {
      "cell_type": "code",
      "metadata": {
        "id": "gOEVOXp0vIxc"
      },
      "source": [
        "# 学習用データセットとテスト用データセットの分割\n",
        "x_train, x_test, t_train, t_test = train_test_split(x, t, test_size=0.3, shuffle=False)"
      ],
      "execution_count": null,
      "outputs": []
    },
    {
      "cell_type": "markdown",
      "metadata": {
        "id": "H2nHALj6bS4V"
      },
      "source": [
        "### モデルの定義・学習・評価\n",
        "\n",
        "データセットの準備が整いました。`layers` クラスの中から、`LSTM` 層を選択し、追加します。その後は同様の手順で学習から予測精度の確認までを行います。"
      ]
    },
    {
      "cell_type": "code",
      "metadata": {
        "id": "WRBRT4bwvIxd"
      },
      "source": [
        "# LSTM 層を用いたモデルの構築\n",
        "reset_seed(0)\n",
        "\n",
        "model = models.Sequential()\n",
        "\n",
        "model.add(layers.LSTM(5, input_shape=(10, 1), activation='tanh'))\n",
        "model.add(layers.Dense(2, activation='softmax'))"
      ],
      "execution_count": null,
      "outputs": []
    },
    {
      "cell_type": "code",
      "metadata": {
        "id": "xiuq_Jq4Bx4u"
      },
      "source": [
        "optimizer = tf.keras.optimizers.SGD(learning_rate=0.01)\n",
        "model.compile(loss='sparse_categorical_crossentropy', optimizer=optimizer, metrics=['accuracy'])"
      ],
      "execution_count": null,
      "outputs": []
    },
    {
      "cell_type": "code",
      "metadata": {
        "id": "LwMkbyeGvIxf"
      },
      "source": [
        "history = model.fit(x_train, t_train,\n",
        "          batch_size=100,\n",
        "          epochs=20,\n",
        "          validation_data=(x_test, t_test)\n",
        "          )"
      ],
      "execution_count": null,
      "outputs": []
    },
    {
      "cell_type": "code",
      "metadata": {
        "id": "DN6MMsYYExHm"
      },
      "source": [
        "# 学習結果を取得\n",
        "results = pd.DataFrame(history.history)\n",
        "results.head(3)"
      ],
      "execution_count": null,
      "outputs": []
    },
    {
      "cell_type": "code",
      "metadata": {
        "id": "rdmxSEC9ExHq"
      },
      "source": [
        "# 損失を可視化\n",
        "results[['loss', 'val_loss']].plot(title='loss')\n",
        "plt.xlabel('epochs')"
      ],
      "execution_count": null,
      "outputs": []
    },
    {
      "cell_type": "code",
      "metadata": {
        "id": "1h6OXW7PExHt"
      },
      "source": [
        "# 正解率を可視化\n",
        "results[['accuracy', 'val_accuracy']].plot(title='metric')\n",
        "plt.xlabel('epochs')"
      ],
      "execution_count": null,
      "outputs": []
    },
    {
      "cell_type": "markdown",
      "metadata": {
        "id": "EK-Jbr-h12We"
      },
      "source": [
        "LSTM 層を追加しても学習がうまくいきませんでした。考えられる原因としては下記が挙げられます。  \n",
        "※あくまで考えられる原因の一部になります。  \n",
        "\n",
        "- 時刻 (time steps) の幅が短すぎる\n",
        "- 適切な入力変数を使用していない\n",
        "\n",
        "上記以外にも様々な原因があることが考えられます。  \n",
        "\n",
        "\n",
        "## 練習問題 本章のまとめ\n",
        "\n",
        "本章で学んだ内容を復習しましょう。下記の内容を次のセルに記述し、実行結果を確認してください。（必要に応じてセルの追加を行ってください。）  \n",
        "LSTM モデルのハイパーパラメータ調整やデータセットの作成に工夫を加え、再度 LSTM のモデルの作成を行って下さい。  \n",
        "\n",
        "LSTM 層を増やす場合は return_sequences の引数を True に設定する必要があります。（各時刻ごとの隠れ状態ベクトルを次の層の LSTM に渡す必要があるため。）\n",
        "\n",
        "*試行錯誤のポイント*  \n",
        "\n",
        "- データセットの作成\n",
        "  - 入力変数の数を増やす（他の企業の株価を使用する）\n",
        "  - 時刻の幅を調整する\n",
        "- モデルの調整\n",
        "  - LSTM 層のノードの数\n",
        "  - 全結合層の層・ノードの数\n",
        "  - バッチノーマリゼーション層の追加\n",
        "  - 最適化手法の変更\n",
        "  - 学習係数の調整\n",
        "\n",
        "*ヒント*  \n",
        "\n",
        "- 複数社の株価の取得方法は下記のコード欄を確認して下さい。\n",
        "- 入力値の形式は自由に変更して問題ありません。しかし、使用するのは列 `Adj Close` のみを使用して下さい。  \n",
        "- 目標値は必ず Microsoft 社の株価が上がるか下がるかの 2 値であるようにして下さい。（複数社の値を入力変数に加えた場合も、目標値作成は Microsoft 社の株価の値を基準とします。）\n",
        "- 株価の予測は過去の株価の影響のみから決定されるわけではありません。精度向上を目指すよりも、様々なアプローチを自分で考えることに重点を置きましょう。"
      ]
    },
    {
      "cell_type": "code",
      "metadata": {
        "id": "oC_jgPigfvUN"
      },
      "source": [
        "# リストに使用したい銘柄名を追加してください\n",
        "symbols = ['MSFT', 'AAPL', 'GOOGL']"
      ],
      "execution_count": null,
      "outputs": []
    },
    {
      "cell_type": "code",
      "metadata": {
        "id": "Vom7P9dXekCw"
      },
      "source": [
        "df = yf.download(symbols, start=date_st, end=date_fn)\n",
        "df['Close'].head()"
      ],
      "execution_count": null,
      "outputs": []
    },
    {
      "cell_type": "markdown",
      "metadata": {
        "id": "-Nd5JhG6hvIv"
      },
      "source": [
        "### 入力値、目標値作成\n",
        "\n",
        "複数社のデータを取扱う場合は先に NumPy の ndarray オブジェクトに変換しておくと処理が簡単になります。下記のコードの先程からの変更点は Microsoft 社のデータのみを抽出するために `ts[:, 0]` とスライスしている部分です。（全ての行の 1 列目を取得しています。）  \n",
        "\n",
        "`window` 変数の値を変更し、学習結果にどのような変化があるか確認して下さい。  "
      ]
    },
    {
      "cell_type": "code",
      "metadata": {
        "id": "8glrhlSGej-L"
      },
      "source": [
        "ts = df['Close'].values"
      ],
      "execution_count": null,
      "outputs": []
    },
    {
      "cell_type": "code",
      "source": [
        "ts.shape"
      ],
      "metadata": {
        "id": "1j5L2SwR4WV3"
      },
      "execution_count": null,
      "outputs": []
    },
    {
      "cell_type": "code",
      "source": [
        "ts[0:10]"
      ],
      "metadata": {
        "id": "cxJI1O5NFITW"
      },
      "execution_count": null,
      "outputs": []
    },
    {
      "cell_type": "code",
      "metadata": {
        "id": "SqerZD_fej5Y"
      },
      "source": [
        "window = 10\n",
        "x, t = [], []\n",
        "for time in range(len(ts) - window):\n",
        "  x.append(ts[time : time + window])\n",
        "  if ts[:, 0][time + window] > ts[:, 0][time + window -1]:\n",
        "    t.append(1)\n",
        "  else:\n",
        "    t.append(0)"
      ],
      "execution_count": null,
      "outputs": []
    },
    {
      "cell_type": "code",
      "metadata": {
        "id": "nygHFZKsjSrF"
      },
      "source": [
        "# データセットの形式の変換\n",
        "x = np.array(x, 'f')\n",
        "t = np.array(t, 'i')"
      ],
      "execution_count": null,
      "outputs": []
    },
    {
      "cell_type": "code",
      "metadata": {
        "id": "mt7hPgTajYbK"
      },
      "source": [
        "# サンプル数, 時刻数, 入力変数の数になっていることを確認\n",
        "x.shape, t.shape"
      ],
      "execution_count": null,
      "outputs": []
    },
    {
      "cell_type": "code",
      "metadata": {
        "id": "X0G75R4cgPQ2"
      },
      "source": [
        "# データセットの分割\n"
      ],
      "execution_count": null,
      "outputs": []
    },
    {
      "cell_type": "code",
      "metadata": {
        "id": "Dhh7gi-himgS"
      },
      "source": [
        "# LSTM 層を用いたモデルの構築\n"
      ],
      "execution_count": null,
      "outputs": []
    },
    {
      "cell_type": "code",
      "metadata": {
        "id": "DjGE4po_6NfL"
      },
      "source": [
        "# 目的関数と最適化手法の選択\n"
      ],
      "execution_count": null,
      "outputs": []
    },
    {
      "cell_type": "code",
      "metadata": {
        "id": "kUiD81apimrl"
      },
      "source": [
        "# モデルの学習\n"
      ],
      "execution_count": null,
      "outputs": []
    },
    {
      "cell_type": "code",
      "metadata": {
        "id": "EnRKr8uw6sX4"
      },
      "source": [
        "# 学習結果を取得"
      ],
      "execution_count": null,
      "outputs": []
    },
    {
      "cell_type": "code",
      "metadata": {
        "id": "xRUOk6H962wN"
      },
      "source": [
        "# 損失を可視化\n"
      ],
      "execution_count": null,
      "outputs": []
    },
    {
      "cell_type": "code",
      "metadata": {
        "id": "gJ3NK44oisuI"
      },
      "source": [
        "# 正解率を可視化\n"
      ],
      "execution_count": null,
      "outputs": []
    },
    {
      "cell_type": "markdown",
      "source": [
        "---\n",
        "© 株式会社キカガク及び国立大学法人 豊橋技術科学大学"
      ],
      "metadata": {
        "id": "AitSpnIchMtl"
      }
    }
  ]
}